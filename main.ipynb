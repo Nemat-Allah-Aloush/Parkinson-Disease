{
  "nbformat": 4,
  "nbformat_minor": 0,
  "metadata": {
    "colab": {
      "provenance": [],
      "collapsed_sections": [
        "Ru-RizLKGFbU",
        "MWmZSwb2GwhW",
        "G_8VoeVA4kv6"
      ]
    },
    "kernelspec": {
      "name": "python3",
      "display_name": "Python 3"
    },
    "language_info": {
      "name": "python"
    }
  },
  "cells": [
    {
      "cell_type": "markdown",
      "source": [
        "The plan\n",
        "- *basemodel (Done)*\n",
        "- *Make RFC a function or class to be called (Done)*\n",
        "- *RFC on scaled stances from last meeting (Done)*\n",
        "- *RFC on scaled stances with extra features from last meeting (Done)*\n",
        "- RFC on the previous with statics from the basemodel\n",
        "- RFC more sensors\n",
        "- Repeat last 5 with Hybrid model\n",
        "\n",
        "Save the trained model in an individual folder."
      ],
      "metadata": {
        "id": "976xz1gqjwu6"
      }
    },
    {
      "cell_type": "markdown",
      "source": [
        "### Importing libraries"
      ],
      "metadata": {
        "id": "MKGf5VKJNXWm"
      }
    },
    {
      "cell_type": "code",
      "source": [
        "import pandas as pd\n",
        "import numpy as np\n",
        "\n",
        "from sklearn.preprocessing import PolynomialFeatures\n",
        "from sklearn import decomposition\n",
        "from sklearn.model_selection import train_test_split\n",
        "from sklearn import decomposition\n",
        "from sklearn.svm import SVC\n",
        "from sklearn.ensemble import RandomForestClassifier\n",
        "from sklearn.metrics import accuracy_score,precision_score, recall_score, f1_score, auc, roc_curve\n",
        "from sklearn.preprocessing import StandardScaler\n",
        "\n",
        "import os\n",
        "\n",
        "import sys\n",
        "\n",
        "from tqdm.auto import tqdm\n",
        "\n",
        "import shutil\n",
        "\n",
        "from itertools import groupby\n",
        "\n",
        "import matplotlib.pyplot as plt\n",
        "\n",
        "from statistics import mean\n",
        "\n",
        "import scipy.stats as stats\n",
        "from scipy.stats import skew\n",
        "from scipy.stats import kurtosis\n",
        "from scipy.fftpack import fft\n",
        "from scipy import signal\n",
        "\n",
        "import tensorflow as tf\n",
        "from tensorflow import keras\n",
        "\n",
        "from keras.models import Sequential, Model\n",
        "from keras.layers import LSTM, Dense, Input, Flatten, Conv1D, MaxPooling1D, Concatenate, Dropout\n",
        "from keras.optimizers import Adam\n",
        "from keras.callbacks import EarlyStopping\n",
        "from keras.utils.vis_utils import plot_model\n"
      ],
      "metadata": {
        "id": "lRy2MqBiNXsk"
      },
      "execution_count": 1,
      "outputs": []
    },
    {
      "cell_type": "code",
      "source": [
        "sys.path.insert(0,\"/content/drive/MyDrive/ITMO-Master's/Thesis/3rd_semester\")"
      ],
      "metadata": {
        "id": "ZZhPfk7MESDP"
      },
      "execution_count": 2,
      "outputs": []
    },
    {
      "cell_type": "markdown",
      "source": [
        "### Importing my Classes :)"
      ],
      "metadata": {
        "id": "RCMwlVS3hlkh"
      }
    },
    {
      "cell_type": "code",
      "source": [
        "parquet_path = \"/content/drive/MyDrive/ITMO-Master's/Thesis/3rd_semester/Data/parquet_files/\"\n",
        "models_path = \"/content/drive/MyDrive/ITMO-Master's/Thesis/3rd_semester/Models/\""
      ],
      "metadata": {
        "id": "1U-rpquAF3df"
      },
      "execution_count": 3,
      "outputs": []
    },
    {
      "cell_type": "code",
      "source": [
        "# Data Class\n",
        "import DataClass \n",
        "from DataClass import Data\n",
        "# Random Forest Classifier Class\n",
        "import RFClassifier\n",
        "from RFClassifier import RFClassifier"
      ],
      "metadata": {
        "id": "k3zGGX3YJBd1"
      },
      "execution_count": 4,
      "outputs": []
    },
    {
      "cell_type": "code",
      "source": [
        "# read prepared data\n",
        "data = Data( 0, \"\", \"\",parquet_path)"
      ],
      "metadata": {
        "id": "ZI8B15BwEHsY"
      },
      "execution_count": 5,
      "outputs": []
    },
    {
      "cell_type": "markdown",
      "source": [
        "## Basemodel"
      ],
      "metadata": {
        "id": "Ru-RizLKGFbU"
      }
    },
    {
      "cell_type": "code",
      "source": [
        "# the data used \n",
        "data.raw_statics_df.shape"
      ],
      "metadata": {
        "colab": {
          "base_uri": "https://localhost:8080/"
        },
        "id": "bLeoSc43L8NA",
        "outputId": "6a380a0e-ef32-4df3-fbf3-5342926ab402"
      },
      "execution_count": 6,
      "outputs": [
        {
          "output_type": "execute_result",
          "data": {
            "text/plain": [
              "(304, 129)"
            ]
          },
          "metadata": {},
          "execution_count": 6
        }
      ]
    },
    {
      "cell_type": "code",
      "source": [
        "# splitting the data into train and test data\n",
        "y = data.raw_statics_df['y']\n",
        "X = data.raw_statics_df.drop(columns=['ID', 'level', 'y'], axis=1)\n",
        "X_train, X_test, y_train, y_test = train_test_split(X, y, random_state=64)"
      ],
      "metadata": {
        "id": "Ge91HG2YL-uQ"
      },
      "execution_count": 13,
      "outputs": []
    },
    {
      "cell_type": "code",
      "source": [
        "# Checking which RFC will work the best\n",
        "rfc = RFClassifier(models_path,200,2)\n",
        "ccs=rfc.multiple_training([5, 10, 20, 40, 100, 200],2,X_train, np.ravel(y_train), X_test, y_test)"
      ],
      "metadata": {
        "colab": {
          "base_uri": "https://localhost:8080/"
        },
        "id": "cDCv97pVeczT",
        "outputId": "32347a48-ea08-42df-f026-b83ff0ba1176"
      },
      "execution_count": 19,
      "outputs": [
        {
          "output_type": "stream",
          "name": "stdout",
          "text": [
            "Estimator = 5\n",
            "Accuracy: 0.8553, Precision: 0.8462, Recall: 0.9821, F1: 0.9091\n",
            "Estimator = 10\n",
            "Accuracy: 0.8553, Precision: 0.8571, Recall: 0.9643, F1: 0.9076\n",
            "Estimator = 20\n",
            "Accuracy: 0.8289, Precision: 0.8525, Recall: 0.9286, F1: 0.8889\n",
            "Estimator = 40\n",
            "Accuracy: 0.8816, Precision: 0.8852, Recall: 0.9643, F1: 0.9231\n",
            "Estimator = 100\n",
            "Accuracy: 0.9211, Precision: 0.9167, Recall: 0.9821, F1: 0.9483\n",
            "Estimator = 200\n",
            "Accuracy: 0.9079, Precision: 0.9153, Recall: 0.9643, F1: 0.9391\n"
          ]
        }
      ]
    },
    {
      "cell_type": "code",
      "source": [
        "# recreating the best model to be saved\n",
        "rfc_100 = RFClassifier(models_path,100,2)\n",
        "rfc_100.tain(X_train,np.ravel(y_train))\n",
        "y_pred=rfc_100.predict(X_test)\n",
        "scores=rfc_100.scores(y_test, y_pred)\n",
        "# rfc_100.print_scores(scores[0],scores[1],scores[2],scores[3])\n",
        "# saving the best model\n",
        "rfc_100.save_model(\"RFC_raw_statics_100\")"
      ],
      "metadata": {
        "id": "EpTLKgI5THE0"
      },
      "execution_count": 14,
      "outputs": []
    },
    {
      "cell_type": "markdown",
      "source": [
        "## RFC"
      ],
      "metadata": {
        "id": "a9srsud74m9Z"
      }
    },
    {
      "cell_type": "markdown",
      "source": [
        "### Scaled stances wih fwhm from the sum of forces from the right foot with 3 extra features\n",
        " 'r_swings_time','r_max_peak','r_total_fwhm'"
      ],
      "metadata": {
        "id": "MWmZSwb2GwhW"
      }
    },
    {
      "cell_type": "code",
      "source": [
        "# input data and label data\n",
        "df_1 = data.scaled_stances_statics_df[[ 'r_interp','r_swings_time','r_max_peak','r_total_fwhm']]\n",
        "y_1 = data.scaled_stances_statics_df[[ 'y']]\n",
        "# reformatting\n",
        "df_1 = data.return_array_df(df_1,'r_interp',['r_swings_time','r_max_peak','r_total_fwhm'])\n",
        "# splitting the data\n",
        "X_train_1, X_test_1, y_train_1, y_test_1 = train_test_split(df_1, y_1, random_state=42)"
      ],
      "metadata": {
        "id": "TlMG4y95ugRv"
      },
      "execution_count": 6,
      "outputs": []
    },
    {
      "cell_type": "code",
      "source": [
        "# Checking which RFC will work the best\n",
        "rfc_1 = RFClassifier(models_path,200,2)\n",
        "ccs=rfc_1.multiple_training([5, 10, 20, 40, 100, 200],2, X_train_1, y_train_1, X_test_1,  y_test_1 )"
      ],
      "metadata": {
        "colab": {
          "base_uri": "https://localhost:8080/"
        },
        "id": "CE2Vv4RywC4a",
        "outputId": "e2530c99-976d-4069-bb7e-ed9af5652b74"
      },
      "execution_count": 9,
      "outputs": [
        {
          "output_type": "stream",
          "name": "stdout",
          "text": [
            "Estimator = 5\n",
            "Accuracy: 0.9034, Precision: 0.9103, Recall: 0.9515, F1: 0.9304\n",
            "Estimator = 10\n",
            "Accuracy: 0.9223, Precision: 0.9313, Recall: 0.9560, F1: 0.9435\n",
            "Estimator = 20\n",
            "Accuracy: 0.9313, Precision: 0.9314, Recall: 0.9703, F1: 0.9504\n",
            "Estimator = 40\n",
            "Accuracy: 0.9390, Precision: 0.9362, Recall: 0.9767, F1: 0.9560\n",
            "Estimator = 100\n",
            "Accuracy: 0.9418, Precision: 0.9370, Recall: 0.9803, F1: 0.9581\n",
            "Estimator = 200\n",
            "Accuracy: 0.9414, Precision: 0.9356, Recall: 0.9812, F1: 0.9579\n"
          ]
        }
      ]
    },
    {
      "cell_type": "code",
      "source": [
        "# recreating the best model to be saved\n",
        "rfc_1_100 = RFClassifier(models_path,100,2)\n",
        "rfc_1_100.tain(X_train_1,np.ravel(y_train_1))\n",
        "y_pred=rfc_1_100.predict(X_test_1)\n",
        "scores=rfc_1_100.scores(y_test_1, y_pred)\n",
        "rfc_1_100.print_scores(scores[0],scores[1],scores[2],scores[3])\n",
        "# saving the best model\n",
        "rfc_1_100.save_model(\"RFC_scaled_stances_100\")"
      ],
      "metadata": {
        "id": "8NlGm5ohxQMg"
      },
      "execution_count": null,
      "outputs": []
    },
    {
      "cell_type": "markdown",
      "source": [
        "### Scaled stances wih fwhm from the sum of forces from the right foot with 6 extra features \n",
        "'r_swings_time','r_max_peak','r_total_fwhm', 'r_strides_time','r_peaks_toe','r_peaks_heel'"
      ],
      "metadata": {
        "id": "G_8VoeVA4kv6"
      }
    },
    {
      "cell_type": "code",
      "source": [
        "# input data and label data\n",
        "df_2 = data.scaled_stances_statics_df[[ 'r_interp','r_swings_time','r_max_peak','r_total_fwhm','r_strides_time','r_peaks_toe','r_peaks_heel']]\n",
        "y_2 = data.scaled_stances_statics_df[[ 'y']]\n",
        "# reformatting\n",
        "df_2 = data.return_array_df(df_2,'r_interp',['r_swings_time','r_max_peak','r_total_fwhm','r_strides_time','r_peaks_toe','r_peaks_heel'])\n",
        "# splitting the data\n",
        "X_train_2, X_test_2, y_train_2, y_test_2 = train_test_split(df_2, y_2, random_state=42)"
      ],
      "metadata": {
        "id": "pmA4pZly4w6q"
      },
      "execution_count": 16,
      "outputs": []
    },
    {
      "cell_type": "code",
      "source": [
        "# Checking which RFC will work the best\n",
        "rfc_2 = RFClassifier(models_path,200,2)\n",
        "ccs=rfc_2.multiple_training([5, 10, 20, 40, 100, 200],2, X_train_2, y_train_2, X_test_2,  y_test_2 )"
      ],
      "metadata": {
        "colab": {
          "base_uri": "https://localhost:8080/"
        },
        "id": "fpy6Eo425p0B",
        "outputId": "49903abf-418d-4ed9-8b1d-785616f7953e"
      },
      "execution_count": 17,
      "outputs": [
        {
          "output_type": "stream",
          "name": "stdout",
          "text": [
            "Estimator = 5\n",
            "Accuracy: 0.9276, Precision: 0.9308, Recall: 0.9651, F1: 0.9476\n",
            "Estimator = 10\n",
            "Accuracy: 0.9394, Precision: 0.9450, Recall: 0.9670, F1: 0.9559\n",
            "Estimator = 20\n",
            "Accuracy: 0.9497, Precision: 0.9475, Recall: 0.9803, F1: 0.9636\n",
            "Estimator = 40\n",
            "Accuracy: 0.9502, Precision: 0.9456, Recall: 0.9832, F1: 0.9640\n",
            "Estimator = 100\n",
            "Accuracy: 0.9537, Precision: 0.9461, Recall: 0.9880, F1: 0.9666\n",
            "Estimator = 200\n",
            "Accuracy: 0.9535, Precision: 0.9453, Recall: 0.9887, F1: 0.9665\n"
          ]
        }
      ]
    },
    {
      "cell_type": "code",
      "source": [
        "# recreating the best model to be saved\n",
        "rfc_2_100 = RFClassifier(models_path,100,2)\n",
        "rfc_2_100.tain(X_train_2,y_train_2)\n",
        "y_pred_2=rfc_2_100.predict(X_test_2)\n",
        "scores=rfc_2_100.scores(y_test_2, y_pred_2)\n",
        "# rfc_2_100.print_scores(scores[0],scores[1],scores[2],scores[3])\n",
        "# saving the best model\n",
        "rfc_2_100.save_model(\"RFC_scaled_stances_6_features_100\")"
      ],
      "metadata": {
        "id": "oHvCVpN05tmW"
      },
      "execution_count": null,
      "outputs": []
    }
  ]
}