{
  "nbformat": 4,
  "nbformat_minor": 0,
  "metadata": {
    "colab": {
      "provenance": [],
      "collapsed_sections": [
        "Ru-RizLKGFbU",
        "MWmZSwb2GwhW",
        "GJzuSBzlQ8ES"
      ]
    },
    "kernelspec": {
      "name": "python3",
      "display_name": "Python 3"
    },
    "language_info": {
      "name": "python"
    }
  },
  "cells": [
    {
      "cell_type": "markdown",
      "source": [
        "The plan\n",
        "- [Basemodel](#scrollTo=Ru-RizLKGFbU&line=1&uniqifier=1)\n",
        "- [RFC on scaled stances with 3 extra features](#scrollTo=MWmZSwb2GwhW&line=1&uniqifier=1)\n",
        "- [RFC on scaled stances with 6 extra features](#scrollTo=G_8VoeVA4kv6)\n",
        "- [RFC on scaled stances with 3 extra features and statics](#scrollTo=XUPH5RyjBXEP)\n",
        "- [RFC on scaled stances with 6 extra features and statics](#scrollTo=hcySvPsbFqer)\n",
        "- [RFC model on scaled stances from the right & left foot with 6 extra features each](#scrollTo=aHzN61VULEay&line=1&uniqifier=1)\n",
        "- [RFC model on scaled stances from the right & left foot with 6 extra features each and basemodels](#scrollTo=FtjB199dOR-m&line=1&uniqifier=1)\n",
        "- [RFC model on scaled stances from 16 sensor from the right & left foot with 6 extra features each](#scrollTo=GJzuSBzlQ8ES&line=1&uniqifier=1)\n",
        "- [RFC model on scaled stances from 16 sensor from the right & left foot with the sum of all sensors and with 6 extra features each ](#scrollTo=WunSzzfXco69&line=1&uniqifier=1)\n",
        "- [RFC model on scaled stances from 16 sensor from the right & left foot and the sum of all sensors and with 6 extra features each foot and the statics from base models](#scrollTo=Pbf7jqHRdG2b&line=1&uniqifier=1)\n",
        "- Repeat last 5 with Hybrid model\n",
        "\n",
        "\n",
        "\n",
        "Save the trained model in an individual folder."
      ],
      "metadata": {
        "id": "976xz1gqjwu6"
      }
    },
    {
      "cell_type": "markdown",
      "source": [
        "### Importing libraries"
      ],
      "metadata": {
        "id": "MKGf5VKJNXWm"
      }
    },
    {
      "cell_type": "code",
      "source": [
        "import pandas as pd\n",
        "import numpy as np\n",
        "\n",
        "from sklearn.preprocessing import PolynomialFeatures\n",
        "from sklearn import decomposition\n",
        "from sklearn.model_selection import train_test_split\n",
        "from sklearn import decomposition\n",
        "from sklearn.svm import SVC\n",
        "from sklearn.ensemble import RandomForestClassifier\n",
        "from sklearn.metrics import accuracy_score,precision_score, recall_score, f1_score, auc, roc_curve\n",
        "from sklearn.preprocessing import StandardScaler\n",
        "\n",
        "import os\n",
        "\n",
        "import sys\n",
        "\n",
        "from tqdm.auto import tqdm\n",
        "\n",
        "import shutil\n",
        "\n",
        "from itertools import groupby\n",
        "\n",
        "import matplotlib.pyplot as plt\n",
        "\n",
        "from statistics import mean\n",
        "\n",
        "import scipy.stats as stats\n",
        "from scipy.stats import skew\n",
        "from scipy.stats import kurtosis\n",
        "from scipy.fftpack import fft\n",
        "from scipy import signal\n",
        "\n",
        "import tensorflow as tf\n",
        "from tensorflow import keras\n",
        "\n",
        "from keras.models import Sequential, Model\n",
        "from keras.layers import LSTM, Dense, Input, Flatten, Conv1D, MaxPooling1D, Concatenate, Dropout\n",
        "from keras.optimizers import Adam\n",
        "from keras.callbacks import EarlyStopping\n",
        "from keras.utils.vis_utils import plot_model\n"
      ],
      "metadata": {
        "id": "lRy2MqBiNXsk"
      },
      "execution_count": null,
      "outputs": []
    },
    {
      "cell_type": "code",
      "source": [
        "sys.path.insert(0,\"/content/drive/MyDrive/ITMO-Master's/Thesis/3rd_semester\")"
      ],
      "metadata": {
        "id": "ZZhPfk7MESDP"
      },
      "execution_count": null,
      "outputs": []
    },
    {
      "cell_type": "markdown",
      "source": [
        "### Importing my Classes :)"
      ],
      "metadata": {
        "id": "RCMwlVS3hlkh"
      }
    },
    {
      "cell_type": "code",
      "source": [
        "parquet_path = \"/content/drive/MyDrive/ITMO-Master's/Thesis/3rd_semester/Data/parquet_files/\"\n",
        "models_path = \"/content/drive/MyDrive/ITMO-Master's/Thesis/3rd_semester/Models/\""
      ],
      "metadata": {
        "id": "1U-rpquAF3df"
      },
      "execution_count": null,
      "outputs": []
    },
    {
      "cell_type": "code",
      "source": [
        "# Data Class\n",
        "import DataClass \n",
        "from DataClass import Data\n",
        "# Random Forest Classifier Class\n",
        "import RFClassifier\n",
        "from RFClassifier import RFClassifier"
      ],
      "metadata": {
        "id": "k3zGGX3YJBd1"
      },
      "execution_count": null,
      "outputs": []
    },
    {
      "cell_type": "code",
      "source": [
        "# read prepared data\n",
        "data = Data( 0, \"\", \"\",parquet_path)"
      ],
      "metadata": {
        "id": "ZI8B15BwEHsY"
      },
      "execution_count": null,
      "outputs": []
    },
    {
      "cell_type": "markdown",
      "source": [
        "## Basemodel"
      ],
      "metadata": {
        "id": "Ru-RizLKGFbU"
      }
    },
    {
      "cell_type": "code",
      "source": [
        "# the data used \n",
        "data.raw_statics_df.shape"
      ],
      "metadata": {
        "colab": {
          "base_uri": "https://localhost:8080/"
        },
        "id": "bLeoSc43L8NA",
        "outputId": "6a380a0e-ef32-4df3-fbf3-5342926ab402"
      },
      "execution_count": null,
      "outputs": [
        {
          "output_type": "execute_result",
          "data": {
            "text/plain": [
              "(304, 129)"
            ]
          },
          "metadata": {},
          "execution_count": 6
        }
      ]
    },
    {
      "cell_type": "code",
      "source": [
        "# splitting the data into train and test data\n",
        "y = data.raw_statics_df['y']\n",
        "X = data.raw_statics_df.drop(columns=['ID', 'level', 'y'], axis=1)\n",
        "X_train, X_test, y_train, y_test = train_test_split(X, y, random_state=64)"
      ],
      "metadata": {
        "id": "Ge91HG2YL-uQ"
      },
      "execution_count": null,
      "outputs": []
    },
    {
      "cell_type": "code",
      "source": [
        "# Checking which RFC will work the best\n",
        "rfc = RFClassifier(models_path,200,2)\n",
        "ccs=rfc.multiple_training([5, 10, 20, 40, 100, 200],2,X_train, np.ravel(y_train), X_test, y_test)"
      ],
      "metadata": {
        "colab": {
          "base_uri": "https://localhost:8080/"
        },
        "id": "cDCv97pVeczT",
        "outputId": "32347a48-ea08-42df-f026-b83ff0ba1176"
      },
      "execution_count": null,
      "outputs": [
        {
          "output_type": "stream",
          "name": "stdout",
          "text": [
            "Estimator = 5\n",
            "Accuracy: 0.8553, Precision: 0.8462, Recall: 0.9821, F1: 0.9091\n",
            "Estimator = 10\n",
            "Accuracy: 0.8553, Precision: 0.8571, Recall: 0.9643, F1: 0.9076\n",
            "Estimator = 20\n",
            "Accuracy: 0.8289, Precision: 0.8525, Recall: 0.9286, F1: 0.8889\n",
            "Estimator = 40\n",
            "Accuracy: 0.8816, Precision: 0.8852, Recall: 0.9643, F1: 0.9231\n",
            "Estimator = 100\n",
            "Accuracy: 0.9211, Precision: 0.9167, Recall: 0.9821, F1: 0.9483\n",
            "Estimator = 200\n",
            "Accuracy: 0.9079, Precision: 0.9153, Recall: 0.9643, F1: 0.9391\n"
          ]
        }
      ]
    },
    {
      "cell_type": "code",
      "source": [
        "# recreating the best model to be saved\n",
        "rfc_100 = RFClassifier(models_path,100,2)\n",
        "rfc_100.tain(X_train,np.ravel(y_train))\n",
        "y_pred=rfc_100.predict(X_test)\n",
        "scores=rfc_100.scores(y_test, y_pred)\n",
        "# rfc_100.print_scores(scores[0],scores[1],scores[2],scores[3])\n",
        "# saving the best model\n",
        "rfc_100.save_model(\"RFC_raw_statics_100\")"
      ],
      "metadata": {
        "id": "EpTLKgI5THE0"
      },
      "execution_count": null,
      "outputs": []
    },
    {
      "cell_type": "markdown",
      "source": [
        "## RFC"
      ],
      "metadata": {
        "id": "a9srsud74m9Z"
      }
    },
    {
      "cell_type": "markdown",
      "source": [
        "### Scaled stances wih fwhm from the sum of forces from the right foot with 3 extra features\n",
        " 'r_swings_time','r_max_peak','r_total_fwhm'"
      ],
      "metadata": {
        "id": "MWmZSwb2GwhW"
      }
    },
    {
      "cell_type": "code",
      "source": [
        "# input data and label data\n",
        "df_1 = data.scaled_stances_statics_df[[ 'r_interp','r_swings_time','r_max_peak','r_total_fwhm']]\n",
        "y_1 = data.scaled_stances_statics_df[[ 'y']]\n",
        "# reformatting\n",
        "df_1 = data.return_array_df(df_1,'r_interp',['r_swings_time','r_max_peak','r_total_fwhm'])\n",
        "# splitting the data\n",
        "X_train_1, X_test_1, y_train_1, y_test_1 = train_test_split(df_1, y_1, random_state=42)"
      ],
      "metadata": {
        "id": "TlMG4y95ugRv"
      },
      "execution_count": null,
      "outputs": []
    },
    {
      "cell_type": "code",
      "source": [
        "# Checking which RFC will work the best\n",
        "rfc_1 = RFClassifier(models_path,200,2)\n",
        "ccs=rfc_1.multiple_training([5, 10, 20, 40, 100, 200],2, X_train_1, y_train_1, X_test_1,  y_test_1 )"
      ],
      "metadata": {
        "colab": {
          "base_uri": "https://localhost:8080/"
        },
        "id": "CE2Vv4RywC4a",
        "outputId": "e2530c99-976d-4069-bb7e-ed9af5652b74"
      },
      "execution_count": null,
      "outputs": [
        {
          "output_type": "stream",
          "name": "stdout",
          "text": [
            "Estimator = 5\n",
            "Accuracy: 0.9034, Precision: 0.9103, Recall: 0.9515, F1: 0.9304\n",
            "Estimator = 10\n",
            "Accuracy: 0.9223, Precision: 0.9313, Recall: 0.9560, F1: 0.9435\n",
            "Estimator = 20\n",
            "Accuracy: 0.9313, Precision: 0.9314, Recall: 0.9703, F1: 0.9504\n",
            "Estimator = 40\n",
            "Accuracy: 0.9390, Precision: 0.9362, Recall: 0.9767, F1: 0.9560\n",
            "Estimator = 100\n",
            "Accuracy: 0.9418, Precision: 0.9370, Recall: 0.9803, F1: 0.9581\n",
            "Estimator = 200\n",
            "Accuracy: 0.9414, Precision: 0.9356, Recall: 0.9812, F1: 0.9579\n"
          ]
        }
      ]
    },
    {
      "cell_type": "code",
      "source": [
        "# recreating the best model to be saved\n",
        "rfc_1_100 = RFClassifier(models_path,100,2)\n",
        "rfc_1_100.tain(X_train_1,np.ravel(y_train_1))\n",
        "y_pred=rfc_1_100.predict(X_test_1)\n",
        "scores=rfc_1_100.scores(y_test_1, y_pred)\n",
        "rfc_1_100.print_scores(scores[0],scores[1],scores[2],scores[3])\n",
        "# saving the best model\n",
        "rfc_1_100.save_model(\"RFC_scaled_stances_100\")"
      ],
      "metadata": {
        "id": "8NlGm5ohxQMg"
      },
      "execution_count": null,
      "outputs": []
    },
    {
      "cell_type": "markdown",
      "source": [
        "### Scaled stances wih fwhm from the sum of forces from the right foot with 6 extra features \n",
        "'r_swings_time','r_max_peak','r_total_fwhm', 'r_strides_time','r_peaks_toe','r_peaks_heel'"
      ],
      "metadata": {
        "id": "G_8VoeVA4kv6"
      }
    },
    {
      "cell_type": "code",
      "source": [
        "# input data and label data\n",
        "df_2 = data.scaled_stances_statics_df[[ 'r_interp','r_swings_time','r_max_peak','r_total_fwhm','r_strides_time','r_peaks_toe','r_peaks_heel']]\n",
        "y_2 = data.scaled_stances_statics_df[[ 'y']]\n",
        "# reformatting\n",
        "df_2 = data.return_array_df(df_2,'r_interp',['r_swings_time','r_max_peak','r_total_fwhm','r_strides_time','r_peaks_toe','r_peaks_heel'])\n",
        "# splitting the data\n",
        "X_train_2, X_test_2, y_train_2, y_test_2 = train_test_split(df_2, y_2, random_state=42)"
      ],
      "metadata": {
        "id": "pmA4pZly4w6q"
      },
      "execution_count": null,
      "outputs": []
    },
    {
      "cell_type": "code",
      "source": [
        "# Checking which RFC will work the best\n",
        "rfc_2 = RFClassifier(models_path,200,2)\n",
        "ccs=rfc_2.multiple_training([5, 10, 20, 40, 100, 200],2, X_train_2, y_train_2, X_test_2,  y_test_2 )"
      ],
      "metadata": {
        "colab": {
          "base_uri": "https://localhost:8080/"
        },
        "id": "fpy6Eo425p0B",
        "outputId": "49903abf-418d-4ed9-8b1d-785616f7953e"
      },
      "execution_count": null,
      "outputs": [
        {
          "output_type": "stream",
          "name": "stdout",
          "text": [
            "Estimator = 5\n",
            "Accuracy: 0.9276, Precision: 0.9308, Recall: 0.9651, F1: 0.9476\n",
            "Estimator = 10\n",
            "Accuracy: 0.9394, Precision: 0.9450, Recall: 0.9670, F1: 0.9559\n",
            "Estimator = 20\n",
            "Accuracy: 0.9497, Precision: 0.9475, Recall: 0.9803, F1: 0.9636\n",
            "Estimator = 40\n",
            "Accuracy: 0.9502, Precision: 0.9456, Recall: 0.9832, F1: 0.9640\n",
            "Estimator = 100\n",
            "Accuracy: 0.9537, Precision: 0.9461, Recall: 0.9880, F1: 0.9666\n",
            "Estimator = 200\n",
            "Accuracy: 0.9535, Precision: 0.9453, Recall: 0.9887, F1: 0.9665\n"
          ]
        }
      ]
    },
    {
      "cell_type": "code",
      "source": [
        "# recreating the best model to be saved\n",
        "rfc_2_100 = RFClassifier(models_path,100,2)\n",
        "rfc_2_100.tain(X_train_2,y_train_2)\n",
        "y_pred_2=rfc_2_100.predict(X_test_2)\n",
        "scores=rfc_2_100.scores(y_test_2, y_pred_2)\n",
        "# rfc_2_100.print_scores(scores[0],scores[1],scores[2],scores[3])\n",
        "# saving the best model\n",
        "rfc_2_100.save_model(\"RFC_scaled_stances_6_features_100\")"
      ],
      "metadata": {
        "id": "oHvCVpN05tmW"
      },
      "execution_count": null,
      "outputs": []
    },
    {
      "cell_type": "markdown",
      "source": [
        "### Scaled stances wih fwhm from the sum of forces from the right foot with 3 extra features and statics\n",
        " 'r_swings_time','r_max_peak','r_total_fwhm' and statics from basemodel\n"
      ],
      "metadata": {
        "id": "XUPH5RyjBXEP"
      }
    },
    {
      "cell_type": "code",
      "source": [
        "# input data and label data\n",
        "colnames_3=['r_interp','r_swings_time','r_max_peak','r_total_fwhm']\n",
        "for col in [\"L1\",\t\"L2\",\t\"L3\"\t,\"L4\"\t\"L5\",\t\"L6\",\t\"L7\"\t,\"L8\",\t\"R1\",\t\"R2\"\t,\"R3\",\t\"R4\",\t\"R5\",\t\"R6\",\t\"R7\",\t\"R8\",\t\"Total_Force_Left\",\t\"Total_Force_Right\"]:\n",
        "    for x in [\"Min\", \"Max\", \"Std\", \"Med\", \"Avg\", \"Skewness\", \"Kurtosis\"]:\n",
        "      colnames_3.append( col +'_' +  x)"
      ],
      "metadata": {
        "id": "CSbDo0oTBcty"
      },
      "execution_count": null,
      "outputs": []
    },
    {
      "cell_type": "code",
      "source": [
        "df_3 = data.scaled_stances_statics_df[colnames_3]\n",
        "y_3 = data.scaled_stances_statics_df[[ 'y']]\n",
        "# reformatting\n",
        "colnames_3.remove(\"r_interp\")\n",
        "df_3 = data.return_array_df(df_3,'r_interp',colnames_3)\n",
        "# splitting the data\n",
        "X_train_3, X_test_3, y_train_3, y_test_3 = train_test_split(df_3, y_3, random_state=42)"
      ],
      "metadata": {
        "id": "sQPgaNThCzcG"
      },
      "execution_count": null,
      "outputs": []
    },
    {
      "cell_type": "code",
      "source": [
        "# Checking which RFC will work the best\n",
        "rfc_3 = RFClassifier(models_path,200,2)\n",
        "ccs_3 = rfc_3.multiple_training([5, 10, 20, 40, 100, 200],2, X_train_3, y_train_3,X_test_3, y_test_3)"
      ],
      "metadata": {
        "colab": {
          "base_uri": "https://localhost:8080/"
        },
        "id": "0Dyt_2UeEXuP",
        "outputId": "ad8c336f-36e2-4190-8846-9e75f5ab31d4"
      },
      "execution_count": null,
      "outputs": [
        {
          "output_type": "stream",
          "name": "stdout",
          "text": [
            "Estimator = 5\n",
            "Accuracy: 1.0000, Precision: 1.0000, Recall: 1.0000, F1: 1.0000\n",
            "Estimator = 10\n",
            "Accuracy: 1.0000, Precision: 1.0000, Recall: 1.0000, F1: 1.0000\n",
            "Estimator = 20\n",
            "Accuracy: 1.0000, Precision: 1.0000, Recall: 1.0000, F1: 1.0000\n",
            "Estimator = 40\n",
            "Accuracy: 1.0000, Precision: 1.0000, Recall: 1.0000, F1: 1.0000\n",
            "Estimator = 100\n",
            "Accuracy: 1.0000, Precision: 1.0000, Recall: 1.0000, F1: 1.0000\n",
            "Estimator = 200\n",
            "Accuracy: 1.0000, Precision: 1.0000, Recall: 1.0000, F1: 1.0000\n"
          ]
        }
      ]
    },
    {
      "cell_type": "code",
      "source": [
        "# recreating the best model to be saved\n",
        "rfc_3_100 = RFClassifier(models_path,100,2)\n",
        "rfc_3_100.tain(X_train_3,y_train_3)\n",
        "y_pred_3=rfc_3_100.predict(X_test_3)\n",
        "scores=rfc_3_100.scores(y_test_3, y_pred_3)\n",
        "# rfc_2_100.print_scores(scores[0],scores[1],scores[2],scores[3])\n",
        "# saving the best model\n",
        "rfc_3_100.save_model(\"RFC_scaled_stances_3_features_statics_100\")"
      ],
      "metadata": {
        "id": "MomDBNZRExCb"
      },
      "execution_count": null,
      "outputs": []
    },
    {
      "cell_type": "markdown",
      "source": [
        "### Scaled stances wih fwhm from the sum of forces from the right foot with 6 extra features and statics\n",
        " 'r_swings_time','r_max_peak','r_total_fwhm' and statics from basemodel\n",
        " "
      ],
      "metadata": {
        "id": "hcySvPsbFqer"
      }
    },
    {
      "cell_type": "code",
      "source": [
        "# input data and label data\n",
        "colnames_4=['r_interp','r_swings_time','r_max_peak','r_total_fwhm','r_strides_time','r_peaks_toe','r_peaks_heel']\n",
        "for col in [\"L1\",\t\"L2\",\t\"L3\"\t,\"L4\"\t\"L5\",\t\"L6\",\t\"L7\"\t,\"L8\",\t\"R1\",\t\"R2\"\t,\"R3\",\t\"R4\",\t\"R5\",\t\"R6\",\t\"R7\",\t\"R8\",\t\"Total_Force_Left\",\t\"Total_Force_Right\"]:\n",
        "    for x in [\"Min\", \"Max\", \"Std\", \"Med\", \"Avg\", \"Skewness\", \"Kurtosis\"]:\n",
        "      colnames_4.append( col +'_' +  x)"
      ],
      "metadata": {
        "id": "F0xCrNQoFVUG"
      },
      "execution_count": null,
      "outputs": []
    },
    {
      "cell_type": "code",
      "source": [
        "df_4 = data.scaled_stances_statics_df[colnames_4]\n",
        "y_4 = data.scaled_stances_statics_df[[ 'y']]\n",
        "# reformatting\n",
        "colnames_4.remove(\"r_interp\")\n",
        "df_4 = data.return_array_df(df_4,'r_interp',colnames_4)\n",
        "# splitting the data\n",
        "X_train_4, X_test_4, y_train_4, y_test_4 = train_test_split(df_4, y_4, random_state=42)"
      ],
      "metadata": {
        "id": "bPb5wLk_F4ak"
      },
      "execution_count": null,
      "outputs": []
    },
    {
      "cell_type": "code",
      "source": [
        "# Checking which RFC will work the best\n",
        "rfc_4 = RFClassifier(models_path,200,2)\n",
        "ccs_4 = rfc_4.multiple_training([5, 10, 20, 40, 100, 200],2, X_train_4, y_train_4,X_test_4, y_test_4)"
      ],
      "metadata": {
        "colab": {
          "base_uri": "https://localhost:8080/"
        },
        "id": "6Xjz6FWPF7Iw",
        "outputId": "9f95c56a-e375-4e5b-b1d8-247b2e2dbfde"
      },
      "execution_count": null,
      "outputs": [
        {
          "output_type": "stream",
          "name": "stdout",
          "text": [
            "Estimator = 5\n",
            "Accuracy: 1.0000, Precision: 1.0000, Recall: 1.0000, F1: 1.0000\n",
            "Estimator = 10\n",
            "Accuracy: 1.0000, Precision: 1.0000, Recall: 1.0000, F1: 1.0000\n",
            "Estimator = 20\n",
            "Accuracy: 1.0000, Precision: 1.0000, Recall: 1.0000, F1: 1.0000\n",
            "Estimator = 40\n",
            "Accuracy: 1.0000, Precision: 1.0000, Recall: 1.0000, F1: 1.0000\n",
            "Estimator = 100\n",
            "Accuracy: 1.0000, Precision: 1.0000, Recall: 1.0000, F1: 1.0000\n",
            "Estimator = 200\n",
            "Accuracy: 1.0000, Precision: 1.0000, Recall: 1.0000, F1: 1.0000\n"
          ]
        }
      ]
    },
    {
      "cell_type": "code",
      "source": [
        "# recreating the best model to be saved\n",
        "rfc_4_100 = RFClassifier(models_path,100,2)\n",
        "rfc_4_100.tain(X_train_4,y_train_4)\n",
        "y_pred_4=rfc_4_100.predict(X_test_4)\n",
        "scores=rfc_4_100.scores(y_test_4, y_pred_4)\n",
        "# rfc_2_100.print_scores(scores[0],scores[1],scores[2],scores[3])\n",
        "# saving the best model\n",
        "rfc_4_100.save_model(\"RFC_scaled_stances_6_features_statics_100\")"
      ],
      "metadata": {
        "id": "3EwxWpKaGJhW"
      },
      "execution_count": null,
      "outputs": []
    },
    {
      "cell_type": "markdown",
      "source": [
        "### Scaled stances wih fwhm from the sum of forces from the right & left foot with 6 extra features each"
      ],
      "metadata": {
        "id": "aHzN61VULEay"
      }
    },
    {
      "cell_type": "code",
      "source": [
        "# input data and label data\n",
        "df_5 = data.scaled_stances_statics_df[[ 'r_interp','r_swings_time','r_max_peak','r_total_fwhm','r_strides_time','r_peaks_toe','r_peaks_heel','l_interp','l_swings_time','l_max_peak','l_total_fwhm','l_strides_time','l_peaks_toe','l_peaks_heel']]\n",
        "y_5 = data.scaled_stances_statics_df[[ 'y']]\n",
        "# reformatting\n",
        "df_5 = data.return_array_df_mul_lists(df_5,['r_interp','l_interp'],['r_swings_time','r_max_peak','r_total_fwhm','r_strides_time','r_peaks_toe','r_peaks_heel','l_swings_time','l_max_peak','l_total_fwhm','l_strides_time','l_peaks_toe','l_peaks_heel'])\n",
        "# splitting the data\n",
        "X_train_5, X_test_5, y_train_5, y_test_5 = train_test_split(df_5, y_5, random_state=42)"
      ],
      "metadata": {
        "id": "WUKb_vv-GTkK"
      },
      "execution_count": 31,
      "outputs": []
    },
    {
      "cell_type": "code",
      "source": [
        "# Checking which RFC will work the best\n",
        "rfc_5 = RFClassifier(models_path,200,2)\n",
        "ccs_5=rfc_5.multiple_training([5, 10, 20, 40, 100, 200],2, X_train_5, y_train_5, X_test_5,  y_test_5 )"
      ],
      "metadata": {
        "colab": {
          "base_uri": "https://localhost:8080/"
        },
        "id": "ajnq9ehdLpmi",
        "outputId": "b70dbada-d7a7-41fc-c759-a2f422e63b72"
      },
      "execution_count": 32,
      "outputs": [
        {
          "output_type": "stream",
          "name": "stdout",
          "text": [
            "Estimator = 5\n",
            "Accuracy: 0.9339, Precision: 0.9382, Recall: 0.9664, F1: 0.9521\n",
            "Estimator = 10\n",
            "Accuracy: 0.9513, Precision: 0.9559, Recall: 0.9732, F1: 0.9644\n",
            "Estimator = 20\n",
            "Accuracy: 0.9587, Precision: 0.9526, Recall: 0.9884, F1: 0.9702\n",
            "Estimator = 40\n",
            "Accuracy: 0.9590, Precision: 0.9512, Recall: 0.9903, F1: 0.9704\n",
            "Estimator = 100\n",
            "Accuracy: 0.9614, Precision: 0.9522, Recall: 0.9929, F1: 0.9721\n",
            "Estimator = 200\n",
            "Accuracy: 0.9607, Precision: 0.9511, Recall: 0.9932, F1: 0.9717\n"
          ]
        }
      ]
    },
    {
      "cell_type": "code",
      "source": [
        "# recreating the best model to be saved\n",
        "rfc_5_100 = RFClassifier(models_path,100,2)\n",
        "rfc_5_100.tain(X_train_5,y_train_5)\n",
        "y_pred_5=rfc_5_100.predict(X_test_5)\n",
        "scores_5=rfc_5_100.scores(y_test_5, y_pred_5)\n",
        "# rfc_2_100.print_scores(scores[0],scores[1],scores[2],scores[3])\n",
        "# saving the best model\n",
        "rfc_5_100.save_model(\"RFC_both_feet_scaled_stances_6_features_100\")"
      ],
      "metadata": {
        "id": "CXpVVvUoLqLz"
      },
      "execution_count": 33,
      "outputs": []
    },
    {
      "cell_type": "markdown",
      "source": [
        "### Scaled stances wih fwhm from the sum of forces from the right & left foot with 6 extra features each and statics from base model"
      ],
      "metadata": {
        "id": "FtjB199dOR-m"
      }
    },
    {
      "cell_type": "code",
      "source": [
        "# input data and label data\n",
        "colnames_6=['r_interp','r_swings_time','r_max_peak','r_total_fwhm','r_strides_time','r_peaks_toe','r_peaks_heel','l_interp','l_swings_time','l_max_peak','l_total_fwhm','l_strides_time','l_peaks_toe','l_peaks_heel']\n",
        "for col in [\"L1\",\t\"L2\",\t\"L3\"\t,\"L4\"\t\"L5\",\t\"L6\",\t\"L7\"\t,\"L8\",\t\"R1\",\t\"R2\"\t,\"R3\",\t\"R4\",\t\"R5\",\t\"R6\",\t\"R7\",\t\"R8\",\t\"Total_Force_Left\",\t\"Total_Force_Right\"]:\n",
        "    for x in [\"Min\", \"Max\", \"Std\", \"Med\", \"Avg\", \"Skewness\", \"Kurtosis\"]:\n",
        "      colnames_6.append( col +'_' +  x)"
      ],
      "metadata": {
        "id": "8zv20x8LNW9P"
      },
      "execution_count": 44,
      "outputs": []
    },
    {
      "cell_type": "code",
      "source": [
        "df_6 = data.scaled_stances_statics_df[colnames_6]\n",
        "y_6 = data.scaled_stances_statics_df[[ 'y']]\n",
        "# reformatting\n",
        "colnames_6.remove(\"r_interp\")\n",
        "colnames_6.remove(\"l_interp\")\n",
        "df_6 = data.return_array_df_mul_lists(df_6,['r_interp','l_interp'],colnames_6)\n",
        "# splitting the data\n",
        "X_train_6, X_test_6, y_train_6, y_test_6 = train_test_split(df_6, y_6, random_state=42)"
      ],
      "metadata": {
        "id": "tH3OMMA_O9gG"
      },
      "execution_count": 45,
      "outputs": []
    },
    {
      "cell_type": "code",
      "source": [
        "# Checking which RFC will work the best\n",
        "rfc_6 = RFClassifier(models_path,200,2)\n",
        "ccs_6=rfc_6.multiple_training([5, 10, 20, 40, 100, 200],2, X_train_6, y_train_6, X_test_6,  y_test_6 )"
      ],
      "metadata": {
        "colab": {
          "base_uri": "https://localhost:8080/"
        },
        "id": "I2_FauqYO3g1",
        "outputId": "8293f29a-7c31-4e2c-d17a-4ede8567e412"
      },
      "execution_count": 46,
      "outputs": [
        {
          "output_type": "stream",
          "name": "stdout",
          "text": [
            "Estimator = 5\n",
            "Accuracy: 1.0000, Precision: 1.0000, Recall: 1.0000, F1: 1.0000\n",
            "Estimator = 10\n",
            "Accuracy: 1.0000, Precision: 1.0000, Recall: 1.0000, F1: 1.0000\n",
            "Estimator = 20\n",
            "Accuracy: 1.0000, Precision: 1.0000, Recall: 1.0000, F1: 1.0000\n",
            "Estimator = 40\n",
            "Accuracy: 1.0000, Precision: 1.0000, Recall: 1.0000, F1: 1.0000\n",
            "Estimator = 100\n",
            "Accuracy: 1.0000, Precision: 1.0000, Recall: 1.0000, F1: 1.0000\n",
            "Estimator = 200\n",
            "Accuracy: 1.0000, Precision: 1.0000, Recall: 1.0000, F1: 1.0000\n"
          ]
        }
      ]
    },
    {
      "cell_type": "code",
      "source": [
        "# recreating the best model to be saved\n",
        "rfc_6_100 = RFClassifier(models_path,100,2)\n",
        "rfc_6_100.tain(X_train_6,y_train_6)\n",
        "y_pred_6=rfc_6_100.predict(X_test_6)\n",
        "scores_6=rfc_6_100.scores(y_test_6, y_pred_6)\n",
        "# rfc_2_100.print_scores(scores[0],scores[1],scores[2],scores[3])\n",
        "# saving the best model\n",
        "rfc_6_100.save_model(\"RFC_both_feet_scaled_stances_6_features_statics_100\")"
      ],
      "metadata": {
        "id": "berubDVOPh5M"
      },
      "execution_count": 47,
      "outputs": []
    },
    {
      "cell_type": "markdown",
      "source": [
        "### Scaled stances wih fwhm from the forces of 16 sensor from the right & left foot with 6 extra features each"
      ],
      "metadata": {
        "id": "GJzuSBzlQ8ES"
      }
    },
    {
      "cell_type": "code",
      "source": [
        "colnames_7=['r_swings_time','r_max_peak','r_total_fwhm','r_strides_time','r_peaks_toe','r_peaks_heel','l_swings_time','l_max_peak','l_total_fwhm','l_strides_time','l_peaks_toe','l_peaks_heel']\n",
        "for col in [\"L1\",\t\"L2\",\t\"L3\"\t,\"L4\",\t\"L5\",\t\"L6\",\t\"L7\"\t,\"L8\",\t\"R1\",\t\"R2\"\t,\"R3\",\t\"R4\",\t\"R5\",\t\"R6\",\t\"R7\",\t\"R8\"]:\n",
        "    for x in [\"interp\", \"fwhm\"]:\n",
        "      colnames_7.append( col +'_' +  x)"
      ],
      "metadata": {
        "id": "HWl8lAEkRhmE"
      },
      "execution_count": 170,
      "outputs": []
    },
    {
      "cell_type": "code",
      "source": [
        "col_lists_7=[]\n",
        "for col in [\"L1\",\t\"L2\",\t\"L3\"\t,\"L4\"\t,\"L5\",\t\"L6\",\t\"L7\"\t,\"L8\",\t\"R1\",\t\"R2\"\t,\"R3\",\t\"R4\",\t\"R5\",\t\"R6\",\t\"R7\",\t\"R8\"]:\n",
        "    for x in [\"interp\"]:\n",
        "      col_lists_7.append( col +'_' +  x)"
      ],
      "metadata": {
        "id": "Aqc58HO-SBia"
      },
      "execution_count": 171,
      "outputs": []
    },
    {
      "cell_type": "code",
      "source": [
        "df_7 = data.scaled_stances_statics_df[colnames_7]\n",
        "y_7 = data.scaled_stances_statics_df[[ 'y']]\n",
        "# reformatting\n",
        "for col in col_lists_7:\n",
        "  colnames_7.remove(col)\n",
        "df_7 = data.return_array_df_mul_lists(df_7,col_lists_7,colnames_7)\n",
        "# df_7 = np.asarray([l for l in df_7 if ~np.isnan(l).any()])\n",
        "df_7[np.isnan(df_7)] = 0\n",
        "# splitting the data\n",
        "X_train_7, X_test_7, y_train_7, y_test_7 = train_test_split(df_7, y_7, random_state=42)"
      ],
      "metadata": {
        "id": "RzdHepxkQM-Y"
      },
      "execution_count": 172,
      "outputs": []
    },
    {
      "cell_type": "code",
      "source": [
        "# Checking which RFC will work the best\n",
        "rfc_7 = RFClassifier(models_path,200,2)\n",
        "ccs_7=rfc_7.multiple_training([5, 10, 20, 40, 100, 200],2, X_train_7, y_train_7, X_test_7,  y_test_7 )"
      ],
      "metadata": {
        "colab": {
          "base_uri": "https://localhost:8080/"
        },
        "id": "0IZBVxSIRR2H",
        "outputId": "701536a5-93ef-423d-d5a1-aaf3eca23dc3"
      },
      "execution_count": 173,
      "outputs": [
        {
          "output_type": "stream",
          "name": "stdout",
          "text": [
            "Estimator = 5\n",
            "Accuracy: 0.9511, Precision: 0.9484, Recall: 0.9812, F1: 0.9646\n",
            "Estimator = 10\n",
            "Accuracy: 0.9581, Precision: 0.9577, Recall: 0.9816, F1: 0.9695\n",
            "Estimator = 20\n",
            "Accuracy: 0.9636, Precision: 0.9549, Recall: 0.9932, F1: 0.9737\n",
            "Estimator = 40\n",
            "Accuracy: 0.9629, Precision: 0.9535, Recall: 0.9939, F1: 0.9732\n",
            "Estimator = 100\n",
            "Accuracy: 0.9605, Precision: 0.9497, Recall: 0.9945, F1: 0.9716\n",
            "Estimator = 200\n",
            "Accuracy: 0.9603, Precision: 0.9486, Recall: 0.9955, F1: 0.9714\n"
          ]
        }
      ]
    },
    {
      "cell_type": "code",
      "source": [
        "# recreating the best model to be saved\n",
        "rfc_7_20 = RFClassifier(models_path,20,2)\n",
        "rfc_7_20.tain(X_train_7,y_train_7)\n",
        "y_pred_7=rfc_7_20.predict(X_test_7)\n",
        "scores_7=rfc_7_20.scores(y_test_7, y_pred_7)\n",
        "# rfc_7_20.print_scores(scores_7[0],scores_7[1],scores_7[2],scores_7[3])\n",
        "# saving the best model\n",
        "rfc_7_20.save_model(\"RFC_both_feet_16_sensors_6_features_20\")"
      ],
      "metadata": {
        "id": "4Yo3CDfjTKcV"
      },
      "execution_count": 134,
      "outputs": []
    },
    {
      "cell_type": "markdown",
      "source": [
        "### Scaled stances wih fwhm from the forces of 16 sensor from the right & left foot and the sum of all sensors and the with 6 extra features each "
      ],
      "metadata": {
        "id": "WunSzzfXco69"
      }
    },
    {
      "cell_type": "code",
      "source": [
        "colnames_9=['r_interp','l_interp','r_swings_time','r_max_peak','r_total_fwhm','r_strides_time','r_peaks_toe','r_peaks_heel','l_swings_time','l_max_peak','l_total_fwhm','l_strides_time','l_peaks_toe','l_peaks_heel']\n",
        "for col in [\"L1\",\t\"L2\",\t\"L3\"\t,\"L4\",\t\"L5\",\t\"L6\",\t\"L7\"\t,\"L8\",\t\"R1\",\t\"R2\"\t,\"R3\",\t\"R4\",\t\"R5\",\t\"R6\",\t\"R7\",\t\"R8\"]:\n",
        "    for x in [\"interp\", \"fwhm\"]:\n",
        "      colnames_9.append( col +'_' +  x)"
      ],
      "metadata": {
        "id": "sG8l8Z5Hc9G_"
      },
      "execution_count": 130,
      "outputs": []
    },
    {
      "cell_type": "code",
      "source": [
        "col_lists_9=[]\n",
        "for col in [\"l\",\"r\",\"L1\",\t\"L2\",\t\"L3\"\t,\"L4\"\t,\"L5\",\t\"L6\",\t\"L7\"\t,\"L8\",\t\"R1\",\t\"R2\"\t,\"R3\",\t\"R4\",\t\"R5\",\t\"R6\",\t\"R7\",\t\"R8\"]:\n",
        "    for x in [\"interp\"]:\n",
        "      col_lists_9.append( col +'_' +  x)"
      ],
      "metadata": {
        "id": "9I5hzP48eWzW"
      },
      "execution_count": 131,
      "outputs": []
    },
    {
      "cell_type": "code",
      "source": [
        "df_9 = data.scaled_stances_statics_df[colnames_9]\n",
        "y_9 = data.scaled_stances_statics_df[[ 'y']]\n",
        "# reformatting\n",
        "for col in col_lists_9:\n",
        "  colnames_9.remove(col)\n",
        "df_9 = data.return_array_df_mul_lists(df_9,col_lists_9,colnames_9)\n",
        "# df_7 = np.asarray([l for l in df_7 if ~np.isnan(l).any()])\n",
        "df_9[np.isnan(df_9)] = 0\n",
        "# splitting the data\n",
        "X_train_9, X_test_9, y_train_9, y_test_9 = train_test_split(df_9, y_9, random_state=42)"
      ],
      "metadata": {
        "id": "w10aOeJfeYSl"
      },
      "execution_count": 132,
      "outputs": []
    },
    {
      "cell_type": "code",
      "source": [
        "# Checking which RFC will work the best\n",
        "rfc_9 = RFClassifier(models_path,200,2)\n",
        "ccs_9=rfc_9.multiple_training([5, 10, 20, 40, 100, 200],2, X_train_9, y_train_9, X_test_9,  y_test_9 )"
      ],
      "metadata": {
        "colab": {
          "base_uri": "https://localhost:8080/"
        },
        "id": "rPwmY4o8eZ8X",
        "outputId": "0e1ce48c-da5c-4a99-b620-bd888558f4aa"
      },
      "execution_count": 133,
      "outputs": [
        {
          "output_type": "stream",
          "name": "stdout",
          "text": [
            "Estimator = 5\n",
            "Accuracy: 0.9434, Precision: 0.9423, Recall: 0.9764, F1: 0.9590\n",
            "Estimator = 10\n",
            "Accuracy: 0.9596, Precision: 0.9593, Recall: 0.9822, F1: 0.9706\n",
            "Estimator = 20\n",
            "Accuracy: 0.9631, Precision: 0.9529, Recall: 0.9948, F1: 0.9734\n",
            "Estimator = 40\n",
            "Accuracy: 0.9636, Precision: 0.9530, Recall: 0.9955, F1: 0.9738\n",
            "Estimator = 100\n",
            "Accuracy: 0.9645, Precision: 0.9533, Recall: 0.9964, F1: 0.9744\n",
            "Estimator = 200\n",
            "Accuracy: 0.9642, Precision: 0.9524, Recall: 0.9971, F1: 0.9743\n"
          ]
        }
      ]
    },
    {
      "cell_type": "code",
      "source": [
        "# recreating the best model to be saved\n",
        "rfc_9_100 = RFClassifier(models_path,100,2)\n",
        "rfc_9_100.tain(X_train_9,y_train_9)\n",
        "y_pred_9=rfc_9_100.predict(X_test_9)\n",
        "scores_9=rfc_9_100.scores(y_test_9, y_pred_9)\n",
        "# rfc_7_20.print_scores(scores_7[0],scores_7[1],scores_7[2],scores_7[3])\n",
        "# saving the best model\n",
        "rfc_9_100.save_model(\"RFC_both_feet_16_sensors_sumsensors_6_features_100\")"
      ],
      "metadata": {
        "id": "ZBC_WnCmebYH"
      },
      "execution_count": 135,
      "outputs": []
    },
    {
      "cell_type": "markdown",
      "source": [
        "### Scaled stances wih fwhm from the forces of 16 sensor from the right & left foot and the sum of all sensors and the with 6 extra features each and the statics from base models"
      ],
      "metadata": {
        "id": "Pbf7jqHRdG2b"
      }
    },
    {
      "cell_type": "code",
      "source": [
        "colnames_8=['r_interp','r_swings_time','r_max_peak','r_total_fwhm','r_strides_time','r_peaks_toe','r_peaks_heel','l_interp','l_swings_time','l_max_peak','l_total_fwhm','l_strides_time','l_peaks_toe','l_peaks_heel']\n",
        "for col in [\"L1\",\t\"L2\",\t\"L3\"\t,\"L4\",\t\"L5\",\t\"L6\",\t\"L7\"\t,\"L8\",\t\"R1\",\t\"R2\"\t,\"R3\",\t\"R4\",\t\"R5\",\t\"R6\",\t\"R7\",\t\"R8\"]:\n",
        "    for x in [\"interp\", \"fwhm\"]:\n",
        "      colnames_8.append( col +'_' +  x)\n",
        "\n",
        "for col in [\"L1\",\t\"L2\",\t\"L3\"\t,\"L4\"\t\"L5\",\t\"L6\",\t\"L7\"\t,\"L8\",\t\"R1\",\t\"R2\"\t,\"R3\",\t\"R4\",\t\"R5\",\t\"R6\",\t\"R7\",\t\"R8\",\t\"Total_Force_Left\",\t\"Total_Force_Right\"]:\n",
        "    for x in [\"Min\", \"Max\", \"Std\", \"Med\", \"Avg\", \"Skewness\", \"Kurtosis\"]:\n",
        "      colnames_8.append( col +'_' +  x)\n",
        "\n",
        "col_lists_8=['r_interp','l_interp']\n",
        "for col in [\"L1\",\t\"L2\",\t\"L3\"\t,\"L4\"\t,\"L5\",\t\"L6\",\t\"L7\"\t,\"L8\",\t\"R1\",\t\"R2\"\t,\"R3\",\t\"R4\",\t\"R5\",\t\"R6\",\t\"R7\",\t\"R8\"]:\n",
        "    for x in [\"interp\"]:\n",
        "      col_lists_8.append( col +'_' +  x)\n",
        "\n",
        "df_8 = data.scaled_stances_statics_df[colnames_8]\n",
        "y_8 = data.scaled_stances_statics_df[[ 'y']]\n",
        "# reformatting\n",
        "for col in col_lists_8:\n",
        "  colnames_8.remove(col)\n",
        "df_8 = data.return_array_df_mul_lists(df_8,col_lists_8,colnames_8)\n",
        "# df_7 = np.asarray([l for l in df_7 if ~np.isnan(l).any()])\n",
        "df_8[np.isnan(df_8)] = 0\n",
        "# splitting the data\n",
        "X_train_8, X_test_8, y_train_8, y_test_8 = train_test_split(df_8, y_8, random_state=42)\n"
      ],
      "metadata": {
        "id": "iNDHk3U2lA-v"
      },
      "execution_count": 174,
      "outputs": []
    },
    {
      "cell_type": "code",
      "source": [
        "# Checking which RFC will work the best\n",
        "rfc_8 = RFClassifier(models_path,200,2)\n",
        "ccs_8=rfc_8.multiple_training([5, 10, 20, 40, 100, 200],2, X_train_8, y_train_8, X_test_8,  y_test_8 )"
      ],
      "metadata": {
        "colab": {
          "base_uri": "https://localhost:8080/"
        },
        "id": "jlE0InyLlSOv",
        "outputId": "60c8d0b7-db34-456a-cd07-6fb04b6a5f67"
      },
      "execution_count": 175,
      "outputs": [
        {
          "output_type": "stream",
          "name": "stdout",
          "text": [
            "Estimator = 5\n",
            "Accuracy: 0.9974, Precision: 0.9974, Recall: 0.9987, F1: 0.9981\n",
            "Estimator = 10\n",
            "Accuracy: 0.9996, Precision: 1.0000, Recall: 0.9994, F1: 0.9997\n",
            "Estimator = 20\n",
            "Accuracy: 1.0000, Precision: 1.0000, Recall: 1.0000, F1: 1.0000\n",
            "Estimator = 40\n",
            "Accuracy: 1.0000, Precision: 1.0000, Recall: 1.0000, F1: 1.0000\n",
            "Estimator = 100\n",
            "Accuracy: 1.0000, Precision: 1.0000, Recall: 1.0000, F1: 1.0000\n",
            "Estimator = 200\n",
            "Accuracy: 1.0000, Precision: 1.0000, Recall: 1.0000, F1: 1.0000\n"
          ]
        }
      ]
    },
    {
      "cell_type": "code",
      "source": [
        "# recreating the best model to be saved\n",
        "rfc_8_100 = RFClassifier(models_path,100,2)\n",
        "rfc_8_100.tain(X_train_8,y_train_8)\n",
        "y_pred_8=rfc_8_100.predict(X_test_8)\n",
        "scores_8=rfc_8_100.scores(y_test_8, y_pred_8)\n",
        "# rfc_7_20.print_scores(scores_7[0],scores_7[1],scores_7[2],scores_7[3])\n",
        "# saving the best model\n",
        "rfc_8_100.save_model(\"RFC_both_feet_16_sensors_sumsensors_6_features_100\") "
      ],
      "metadata": {
        "id": "-fpvHebOlUmo"
      },
      "execution_count": 176,
      "outputs": []
    }
  ]
}