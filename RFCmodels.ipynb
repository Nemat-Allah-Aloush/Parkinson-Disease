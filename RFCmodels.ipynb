{
  "nbformat": 4,
  "nbformat_minor": 0,
  "metadata": {
    "colab": {
      "provenance": [],
      "collapsed_sections": [
        "MKGf5VKJNXWm",
        "RCMwlVS3hlkh",
        "a9srsud74m9Z",
        "Ru-RizLKGFbU",
        "MWmZSwb2GwhW",
        "G_8VoeVA4kv6",
        "XUPH5RyjBXEP",
        "hcySvPsbFqer",
        "aHzN61VULEay",
        "FtjB199dOR-m",
        "GJzuSBzlQ8ES",
        "WunSzzfXco69",
        "Pbf7jqHRdG2b",
        "mD0NU88FpgD5",
        "RFVESVzhj2qv",
        "ihK6ZuxMlqaK",
        "hNWcAO2OpvTo"
      ]
    },
    "kernelspec": {
      "name": "python3",
      "display_name": "Python 3"
    },
    "language_info": {
      "name": "python"
    }
  },
  "cells": [
    {
      "cell_type": "markdown",
      "source": [
        "The plan\n",
        "1. Binary Classification:\n",
        "- [Basemodel](#scrollTo=Ru-RizLKGFbU&line=1&uniqifier=1)\n",
        "- [RFC on scaled stances with 3 extra features](#scrollTo=MWmZSwb2GwhW&line=1&uniqifier=1)\n",
        "- [RFC on scaled stances with 6 extra features](#scrollTo=G_8VoeVA4kv6)\n",
        "- [RFC on scaled stances with 3 extra features and statics](#scrollTo=XUPH5RyjBXEP)\n",
        "- [RFC on scaled stances with 6 extra features and statics](#scrollTo=hcySvPsbFqer)\n",
        "- [RFC model on scaled stances from the right & left foot with 6 extra features each](#scrollTo=aHzN61VULEay&line=1&uniqifier=1)\n",
        "- [RFC model on scaled stances from the right & left foot with 6 extra features each and basemodels](#scrollTo=FtjB199dOR-m&line=1&uniqifier=1)\n",
        "- [RFC model on scaled stances from 16 sensor from the right & left foot with 6 extra features each](#scrollTo=GJzuSBzlQ8ES&line=1&uniqifier=1)\n",
        "- [RFC model on scaled stances from 16 sensor from the right & left foot with the sum of all sensors and with 6 extra features each ](#scrollTo=WunSzzfXco69&line=1&uniqifier=1)\n",
        "- [RFC model on scaled stances from 16 sensor from the right & left foot and the sum of all sensors and with 6 extra features each foot and the statics from base models](#scrollTo=Pbf7jqHRdG2b&line=1&uniqifier=1)\n",
        "\n",
        "1. Multiclass Classification - Severity Detection\n",
        "- [Baselline Model](#scrollTo=RFVESVzhj2qv&line=1&uniqifier=1)\n",
        "- [RFC model on scaled stances from 16 sensor from the right & left foot with the sum of all sensors and with 6 extra features each](#scrollTo=ihK6ZuxMlqaK&line=1&uniqifier=1)\n",
        "- [RFC model on scaled stances from 16 sensor from the right & left foot and the sum of all sensors and with 6 extra features each foot and the statics from base models](#scrollTo=hNWcAO2OpvTo&line=1&uniqifier=1)\n",
        "\n",
        "\n"
      ],
      "metadata": {
        "id": "976xz1gqjwu6"
      }
    },
    {
      "cell_type": "markdown",
      "source": [
        "## Importing libraries"
      ],
      "metadata": {
        "id": "MKGf5VKJNXWm"
      }
    },
    {
      "cell_type": "code",
      "source": [
        "import pandas as pd\n",
        "import numpy as np\n",
        "\n",
        "from sklearn.preprocessing import PolynomialFeatures\n",
        "from sklearn import decomposition\n",
        "from sklearn.model_selection import train_test_split\n",
        "from sklearn import decomposition\n",
        "from sklearn.svm import SVC\n",
        "from sklearn.ensemble import RandomForestClassifier\n",
        "from sklearn.metrics import accuracy_score,precision_score, recall_score, f1_score, auc, roc_curve\n",
        "from sklearn.preprocessing import StandardScaler\n",
        "\n",
        "import os\n",
        "\n",
        "import sys\n",
        "\n",
        "from tqdm.auto import tqdm\n",
        "\n",
        "import shutil\n",
        "\n",
        "from itertools import groupby\n",
        "\n",
        "import matplotlib.pyplot as plt\n",
        "\n",
        "from statistics import mean\n",
        "\n",
        "import scipy.stats as stats\n",
        "from scipy.stats import skew\n",
        "from scipy.stats import kurtosis\n",
        "from scipy.fftpack import fft\n",
        "from scipy import signal\n",
        "\n",
        "import tensorflow as tf\n",
        "from tensorflow import keras\n",
        "\n",
        "from keras.models import Sequential, Model\n",
        "from keras.layers import LSTM, Dense, Input, Flatten, Conv1D, MaxPooling1D, Concatenate, Dropout\n",
        "from keras.optimizers import Adam\n",
        "from keras.callbacks import EarlyStopping\n",
        "from keras.utils.vis_utils import plot_model\n"
      ],
      "metadata": {
        "id": "lRy2MqBiNXsk"
      },
      "execution_count": null,
      "outputs": []
    },
    {
      "cell_type": "code",
      "source": [
        "sys.path.insert(0,\"/content/drive/MyDrive/ITMO-Master's/Thesis/3rd_semester\")"
      ],
      "metadata": {
        "id": "ZZhPfk7MESDP"
      },
      "execution_count": null,
      "outputs": []
    },
    {
      "cell_type": "markdown",
      "source": [
        "## Importing my Classes :)"
      ],
      "metadata": {
        "id": "RCMwlVS3hlkh"
      }
    },
    {
      "cell_type": "code",
      "source": [
        "parquet_path = \"/content/drive/MyDrive/ITMO-Master's/Thesis/3rd_semester/Data/parquet_files/\"\n",
        "models_path = \"/content/drive/MyDrive/ITMO-Master's/Thesis/3rd_semester/Models/\""
      ],
      "metadata": {
        "id": "1U-rpquAF3df"
      },
      "execution_count": null,
      "outputs": []
    },
    {
      "cell_type": "code",
      "source": [
        "# Data Class\n",
        "import DataClass \n",
        "from DataClass import Data\n",
        "# Random Forest Classifier Class\n",
        "import RFClassifier\n",
        "from RFClassifier import RFClassifier"
      ],
      "metadata": {
        "id": "k3zGGX3YJBd1"
      },
      "execution_count": null,
      "outputs": []
    },
    {
      "cell_type": "code",
      "source": [
        "# read prepared data\n",
        "data = Data( 0, \"\", \"\",parquet_path)"
      ],
      "metadata": {
        "id": "ZI8B15BwEHsY"
      },
      "execution_count": null,
      "outputs": []
    },
    {
      "cell_type": "markdown",
      "source": [
        "## RFC (Binary Classification)"
      ],
      "metadata": {
        "id": "a9srsud74m9Z"
      }
    },
    {
      "cell_type": "markdown",
      "source": [
        "### Basemodel"
      ],
      "metadata": {
        "id": "Ru-RizLKGFbU"
      }
    },
    {
      "cell_type": "code",
      "source": [
        "# the data used \n",
        "data.raw_statics_df.shape"
      ],
      "metadata": {
        "colab": {
          "base_uri": "https://localhost:8080/"
        },
        "id": "bLeoSc43L8NA",
        "outputId": "6a380a0e-ef32-4df3-fbf3-5342926ab402"
      },
      "execution_count": null,
      "outputs": [
        {
          "output_type": "execute_result",
          "data": {
            "text/plain": [
              "(304, 129)"
            ]
          },
          "metadata": {},
          "execution_count": 6
        }
      ]
    },
    {
      "cell_type": "code",
      "source": [
        "# splitting the data into train and test data\n",
        "y = data.raw_statics_df['y']\n",
        "X = data.raw_statics_df.drop(columns=['ID', 'level', 'y'], axis=1)\n",
        "X_train, X_test, y_train, y_test = train_test_split(X, y, random_state=64)"
      ],
      "metadata": {
        "id": "Ge91HG2YL-uQ"
      },
      "execution_count": null,
      "outputs": []
    },
    {
      "cell_type": "code",
      "source": [
        "# Checking which RFC will work the best\n",
        "rfc = RFClassifier(models_path,200,2)\n",
        "ccs=rfc.multiple_training([5, 10, 20, 40, 100, 200],2,X_train, np.ravel(y_train), X_test, y_test)"
      ],
      "metadata": {
        "colab": {
          "base_uri": "https://localhost:8080/"
        },
        "id": "cDCv97pVeczT",
        "outputId": "32347a48-ea08-42df-f026-b83ff0ba1176"
      },
      "execution_count": null,
      "outputs": [
        {
          "output_type": "stream",
          "name": "stdout",
          "text": [
            "Estimator = 5\n",
            "Accuracy: 0.8553, Precision: 0.8462, Recall: 0.9821, F1: 0.9091\n",
            "Estimator = 10\n",
            "Accuracy: 0.8553, Precision: 0.8571, Recall: 0.9643, F1: 0.9076\n",
            "Estimator = 20\n",
            "Accuracy: 0.8289, Precision: 0.8525, Recall: 0.9286, F1: 0.8889\n",
            "Estimator = 40\n",
            "Accuracy: 0.8816, Precision: 0.8852, Recall: 0.9643, F1: 0.9231\n",
            "Estimator = 100\n",
            "Accuracy: 0.9211, Precision: 0.9167, Recall: 0.9821, F1: 0.9483\n",
            "Estimator = 200\n",
            "Accuracy: 0.9079, Precision: 0.9153, Recall: 0.9643, F1: 0.9391\n"
          ]
        }
      ]
    },
    {
      "cell_type": "code",
      "source": [
        "# recreating the best model to be saved\n",
        "rfc_100 = RFClassifier(models_path,100,2)\n",
        "rfc_100.tain(X_train,np.ravel(y_train))\n",
        "y_pred=rfc_100.predict(X_test)\n",
        "scores=rfc_100.scores(y_test, y_pred)\n",
        "# rfc_100.print_scores(scores[0],scores[1],scores[2],scores[3])\n",
        "# saving the best model\n",
        "rfc_100.save_model(\"RFC_raw_statics_100\")"
      ],
      "metadata": {
        "id": "EpTLKgI5THE0"
      },
      "execution_count": null,
      "outputs": []
    },
    {
      "cell_type": "markdown",
      "source": [
        "### Scaled stances wih fwhm from the sum of forces from the right foot with 3 extra features\n",
        " 'r_swings_time','r_max_peak','r_total_fwhm'"
      ],
      "metadata": {
        "id": "MWmZSwb2GwhW"
      }
    },
    {
      "cell_type": "code",
      "source": [
        "# input data and label data\n",
        "df_1 = data.scaled_stances_statics_df[[ 'r_interp','r_swings_time','r_max_peak','r_total_fwhm']]\n",
        "y_1 = data.scaled_stances_statics_df[[ 'y']]\n",
        "# reformatting\n",
        "df_1 = data.return_array_df(df_1,'r_interp',['r_swings_time','r_max_peak','r_total_fwhm'])\n",
        "# splitting the data\n",
        "X_train_1, X_test_1, y_train_1, y_test_1 = train_test_split(df_1, y_1, random_state=42)"
      ],
      "metadata": {
        "id": "TlMG4y95ugRv"
      },
      "execution_count": null,
      "outputs": []
    },
    {
      "cell_type": "code",
      "source": [
        "# Checking which RFC will work the best\n",
        "rfc_1 = RFClassifier(models_path,200,2)\n",
        "ccs=rfc_1.multiple_training([5, 10, 20, 40, 100, 200],2, X_train_1, y_train_1, X_test_1,  y_test_1 )"
      ],
      "metadata": {
        "colab": {
          "base_uri": "https://localhost:8080/"
        },
        "id": "CE2Vv4RywC4a",
        "outputId": "e2530c99-976d-4069-bb7e-ed9af5652b74"
      },
      "execution_count": null,
      "outputs": [
        {
          "output_type": "stream",
          "name": "stdout",
          "text": [
            "Estimator = 5\n",
            "Accuracy: 0.9034, Precision: 0.9103, Recall: 0.9515, F1: 0.9304\n",
            "Estimator = 10\n",
            "Accuracy: 0.9223, Precision: 0.9313, Recall: 0.9560, F1: 0.9435\n",
            "Estimator = 20\n",
            "Accuracy: 0.9313, Precision: 0.9314, Recall: 0.9703, F1: 0.9504\n",
            "Estimator = 40\n",
            "Accuracy: 0.9390, Precision: 0.9362, Recall: 0.9767, F1: 0.9560\n",
            "Estimator = 100\n",
            "Accuracy: 0.9418, Precision: 0.9370, Recall: 0.9803, F1: 0.9581\n",
            "Estimator = 200\n",
            "Accuracy: 0.9414, Precision: 0.9356, Recall: 0.9812, F1: 0.9579\n"
          ]
        }
      ]
    },
    {
      "cell_type": "code",
      "source": [
        "# recreating the best model to be saved\n",
        "rfc_1_100 = RFClassifier(models_path,100,2)\n",
        "rfc_1_100.tain(X_train_1,np.ravel(y_train_1))\n",
        "y_pred=rfc_1_100.predict(X_test_1)\n",
        "scores=rfc_1_100.scores(y_test_1, y_pred)\n",
        "rfc_1_100.print_scores(scores[0],scores[1],scores[2],scores[3])\n",
        "# saving the best model\n",
        "rfc_1_100.save_model(\"RFC_scaled_stances_100\")"
      ],
      "metadata": {
        "id": "8NlGm5ohxQMg"
      },
      "execution_count": null,
      "outputs": []
    },
    {
      "cell_type": "markdown",
      "source": [
        "### Scaled stances wih fwhm from the sum of forces from the right foot with 6 extra features \n",
        "'r_swings_time','r_max_peak','r_total_fwhm', 'r_strides_time','r_peaks_toe','r_peaks_heel'"
      ],
      "metadata": {
        "id": "G_8VoeVA4kv6"
      }
    },
    {
      "cell_type": "code",
      "source": [
        "# input data and label data\n",
        "df_2 = data.scaled_stances_statics_df[[ 'r_interp','r_swings_time','r_max_peak','r_total_fwhm','r_strides_time','r_peaks_toe','r_peaks_heel']]\n",
        "y_2 = data.scaled_stances_statics_df[[ 'y']]\n",
        "# reformatting\n",
        "df_2 = data.return_array_df(df_2,'r_interp',['r_swings_time','r_max_peak','r_total_fwhm','r_strides_time','r_peaks_toe','r_peaks_heel'])\n",
        "# splitting the data\n",
        "X_train_2, X_test_2, y_train_2, y_test_2 = train_test_split(df_2, y_2, random_state=42)"
      ],
      "metadata": {
        "id": "pmA4pZly4w6q"
      },
      "execution_count": null,
      "outputs": []
    },
    {
      "cell_type": "code",
      "source": [
        "# Checking which RFC will work the best\n",
        "rfc_2 = RFClassifier(models_path,200,2)\n",
        "ccs=rfc_2.multiple_training([5, 10, 20, 40, 100, 200],2, X_train_2, y_train_2, X_test_2,  y_test_2 )"
      ],
      "metadata": {
        "colab": {
          "base_uri": "https://localhost:8080/"
        },
        "id": "fpy6Eo425p0B",
        "outputId": "49903abf-418d-4ed9-8b1d-785616f7953e"
      },
      "execution_count": null,
      "outputs": [
        {
          "output_type": "stream",
          "name": "stdout",
          "text": [
            "Estimator = 5\n",
            "Accuracy: 0.9276, Precision: 0.9308, Recall: 0.9651, F1: 0.9476\n",
            "Estimator = 10\n",
            "Accuracy: 0.9394, Precision: 0.9450, Recall: 0.9670, F1: 0.9559\n",
            "Estimator = 20\n",
            "Accuracy: 0.9497, Precision: 0.9475, Recall: 0.9803, F1: 0.9636\n",
            "Estimator = 40\n",
            "Accuracy: 0.9502, Precision: 0.9456, Recall: 0.9832, F1: 0.9640\n",
            "Estimator = 100\n",
            "Accuracy: 0.9537, Precision: 0.9461, Recall: 0.9880, F1: 0.9666\n",
            "Estimator = 200\n",
            "Accuracy: 0.9535, Precision: 0.9453, Recall: 0.9887, F1: 0.9665\n"
          ]
        }
      ]
    },
    {
      "cell_type": "code",
      "source": [
        "# recreating the best model to be saved\n",
        "rfc_2_100 = RFClassifier(models_path,100,2)\n",
        "rfc_2_100.tain(X_train_2,y_train_2)\n",
        "y_pred_2=rfc_2_100.predict(X_test_2)\n",
        "scores=rfc_2_100.scores(y_test_2, y_pred_2)\n",
        "# rfc_2_100.print_scores(scores[0],scores[1],scores[2],scores[3])\n",
        "# saving the best model\n",
        "rfc_2_100.save_model(\"RFC_scaled_stances_6_features_100\")"
      ],
      "metadata": {
        "id": "oHvCVpN05tmW"
      },
      "execution_count": null,
      "outputs": []
    },
    {
      "cell_type": "markdown",
      "source": [
        "### Scaled stances wih fwhm from the sum of forces from the right foot with 3 extra features and statics\n",
        " 'r_swings_time','r_max_peak','r_total_fwhm' and statics from basemodel\n"
      ],
      "metadata": {
        "id": "XUPH5RyjBXEP"
      }
    },
    {
      "cell_type": "code",
      "source": [
        "# input data and label data\n",
        "colnames_3=['r_interp','r_swings_time','r_max_peak','r_total_fwhm']\n",
        "for col in [\"L1\",\t\"L2\",\t\"L3\"\t,\"L4\"\t\"L5\",\t\"L6\",\t\"L7\"\t,\"L8\",\t\"R1\",\t\"R2\"\t,\"R3\",\t\"R4\",\t\"R5\",\t\"R6\",\t\"R7\",\t\"R8\",\t\"Total_Force_Left\",\t\"Total_Force_Right\"]:\n",
        "    for x in [\"Min\", \"Max\", \"Std\", \"Med\", \"Avg\", \"Skewness\", \"Kurtosis\"]:\n",
        "      colnames_3.append( col +'_' +  x)"
      ],
      "metadata": {
        "id": "CSbDo0oTBcty"
      },
      "execution_count": null,
      "outputs": []
    },
    {
      "cell_type": "code",
      "source": [
        "df_3 = data.scaled_stances_statics_df[colnames_3]\n",
        "y_3 = data.scaled_stances_statics_df[[ 'y']]\n",
        "# reformatting\n",
        "colnames_3.remove(\"r_interp\")\n",
        "df_3 = data.return_array_df(df_3,'r_interp',colnames_3)\n",
        "# splitting the data\n",
        "X_train_3, X_test_3, y_train_3, y_test_3 = train_test_split(df_3, y_3, random_state=42)"
      ],
      "metadata": {
        "id": "sQPgaNThCzcG"
      },
      "execution_count": null,
      "outputs": []
    },
    {
      "cell_type": "code",
      "source": [
        "# Checking which RFC will work the best\n",
        "rfc_3 = RFClassifier(models_path,200,2)\n",
        "ccs_3 = rfc_3.multiple_training([5, 10, 20, 40, 100, 200],2, X_train_3, y_train_3,X_test_3, y_test_3)"
      ],
      "metadata": {
        "colab": {
          "base_uri": "https://localhost:8080/"
        },
        "id": "0Dyt_2UeEXuP",
        "outputId": "ad8c336f-36e2-4190-8846-9e75f5ab31d4"
      },
      "execution_count": null,
      "outputs": [
        {
          "output_type": "stream",
          "name": "stdout",
          "text": [
            "Estimator = 5\n",
            "Accuracy: 1.0000, Precision: 1.0000, Recall: 1.0000, F1: 1.0000\n",
            "Estimator = 10\n",
            "Accuracy: 1.0000, Precision: 1.0000, Recall: 1.0000, F1: 1.0000\n",
            "Estimator = 20\n",
            "Accuracy: 1.0000, Precision: 1.0000, Recall: 1.0000, F1: 1.0000\n",
            "Estimator = 40\n",
            "Accuracy: 1.0000, Precision: 1.0000, Recall: 1.0000, F1: 1.0000\n",
            "Estimator = 100\n",
            "Accuracy: 1.0000, Precision: 1.0000, Recall: 1.0000, F1: 1.0000\n",
            "Estimator = 200\n",
            "Accuracy: 1.0000, Precision: 1.0000, Recall: 1.0000, F1: 1.0000\n"
          ]
        }
      ]
    },
    {
      "cell_type": "code",
      "source": [
        "# recreating the best model to be saved\n",
        "rfc_3_100 = RFClassifier(models_path,100,2)\n",
        "rfc_3_100.tain(X_train_3,y_train_3)\n",
        "y_pred_3=rfc_3_100.predict(X_test_3)\n",
        "scores=rfc_3_100.scores(y_test_3, y_pred_3)\n",
        "# rfc_2_100.print_scores(scores[0],scores[1],scores[2],scores[3])\n",
        "# saving the best model\n",
        "rfc_3_100.save_model(\"RFC_scaled_stances_3_features_statics_100\")"
      ],
      "metadata": {
        "id": "MomDBNZRExCb"
      },
      "execution_count": null,
      "outputs": []
    },
    {
      "cell_type": "markdown",
      "source": [
        "### Scaled stances wih fwhm from the sum of forces from the right foot with 6 extra features and statics\n",
        " 'r_swings_time','r_max_peak','r_total_fwhm' and statics from basemodel\n",
        " "
      ],
      "metadata": {
        "id": "hcySvPsbFqer"
      }
    },
    {
      "cell_type": "code",
      "source": [
        "# input data and label data\n",
        "colnames_4=['r_interp','r_swings_time','r_max_peak','r_total_fwhm','r_strides_time','r_peaks_toe','r_peaks_heel']\n",
        "for col in [\"L1\",\t\"L2\",\t\"L3\"\t,\"L4\"\t\"L5\",\t\"L6\",\t\"L7\"\t,\"L8\",\t\"R1\",\t\"R2\"\t,\"R3\",\t\"R4\",\t\"R5\",\t\"R6\",\t\"R7\",\t\"R8\",\t\"Total_Force_Left\",\t\"Total_Force_Right\"]:\n",
        "    for x in [\"Min\", \"Max\", \"Std\", \"Med\", \"Avg\", \"Skewness\", \"Kurtosis\"]:\n",
        "      colnames_4.append( col +'_' +  x)"
      ],
      "metadata": {
        "id": "F0xCrNQoFVUG"
      },
      "execution_count": null,
      "outputs": []
    },
    {
      "cell_type": "code",
      "source": [
        "df_4 = data.scaled_stances_statics_df[colnames_4]\n",
        "y_4 = data.scaled_stances_statics_df[[ 'y']]\n",
        "# reformatting\n",
        "colnames_4.remove(\"r_interp\")\n",
        "df_4 = data.return_array_df(df_4,'r_interp',colnames_4)\n",
        "# splitting the data\n",
        "X_train_4, X_test_4, y_train_4, y_test_4 = train_test_split(df_4, y_4, random_state=42)"
      ],
      "metadata": {
        "id": "bPb5wLk_F4ak"
      },
      "execution_count": null,
      "outputs": []
    },
    {
      "cell_type": "code",
      "source": [
        "# Checking which RFC will work the best\n",
        "rfc_4 = RFClassifier(models_path,200,2)\n",
        "ccs_4 = rfc_4.multiple_training([5, 10, 20, 40, 100, 200],2, X_train_4, y_train_4,X_test_4, y_test_4)"
      ],
      "metadata": {
        "colab": {
          "base_uri": "https://localhost:8080/"
        },
        "id": "6Xjz6FWPF7Iw",
        "outputId": "9f95c56a-e375-4e5b-b1d8-247b2e2dbfde"
      },
      "execution_count": null,
      "outputs": [
        {
          "output_type": "stream",
          "name": "stdout",
          "text": [
            "Estimator = 5\n",
            "Accuracy: 1.0000, Precision: 1.0000, Recall: 1.0000, F1: 1.0000\n",
            "Estimator = 10\n",
            "Accuracy: 1.0000, Precision: 1.0000, Recall: 1.0000, F1: 1.0000\n",
            "Estimator = 20\n",
            "Accuracy: 1.0000, Precision: 1.0000, Recall: 1.0000, F1: 1.0000\n",
            "Estimator = 40\n",
            "Accuracy: 1.0000, Precision: 1.0000, Recall: 1.0000, F1: 1.0000\n",
            "Estimator = 100\n",
            "Accuracy: 1.0000, Precision: 1.0000, Recall: 1.0000, F1: 1.0000\n",
            "Estimator = 200\n",
            "Accuracy: 1.0000, Precision: 1.0000, Recall: 1.0000, F1: 1.0000\n"
          ]
        }
      ]
    },
    {
      "cell_type": "code",
      "source": [
        "# recreating the best model to be saved\n",
        "rfc_4_100 = RFClassifier(models_path,100,2)\n",
        "rfc_4_100.tain(X_train_4,y_train_4)\n",
        "y_pred_4=rfc_4_100.predict(X_test_4)\n",
        "scores=rfc_4_100.scores(y_test_4, y_pred_4)\n",
        "# rfc_2_100.print_scores(scores[0],scores[1],scores[2],scores[3])\n",
        "# saving the best model\n",
        "rfc_4_100.save_model(\"RFC_scaled_stances_6_features_statics_100\")"
      ],
      "metadata": {
        "id": "3EwxWpKaGJhW"
      },
      "execution_count": null,
      "outputs": []
    },
    {
      "cell_type": "markdown",
      "source": [
        "### Scaled stances wih fwhm from the sum of forces from the right & left foot with 6 extra features each"
      ],
      "metadata": {
        "id": "aHzN61VULEay"
      }
    },
    {
      "cell_type": "code",
      "source": [
        "# input data and label data\n",
        "df_5 = data.scaled_stances_statics_df[[ 'r_interp','r_swings_time','r_max_peak','r_total_fwhm','r_strides_time','r_peaks_toe','r_peaks_heel','l_interp','l_swings_time','l_max_peak','l_total_fwhm','l_strides_time','l_peaks_toe','l_peaks_heel']]\n",
        "y_5 = data.scaled_stances_statics_df[[ 'y']]\n",
        "# reformatting\n",
        "df_5 = data.return_array_df_mul_lists(df_5,['r_interp','l_interp'],['r_swings_time','r_max_peak','r_total_fwhm','r_strides_time','r_peaks_toe','r_peaks_heel','l_swings_time','l_max_peak','l_total_fwhm','l_strides_time','l_peaks_toe','l_peaks_heel'])\n",
        "# splitting the data\n",
        "X_train_5, X_test_5, y_train_5, y_test_5 = train_test_split(df_5, y_5, random_state=42)"
      ],
      "metadata": {
        "id": "WUKb_vv-GTkK"
      },
      "execution_count": null,
      "outputs": []
    },
    {
      "cell_type": "code",
      "source": [
        "# Checking which RFC will work the best\n",
        "rfc_5 = RFClassifier(models_path,200,2)\n",
        "ccs_5=rfc_5.multiple_training([5, 10, 20, 40, 100, 200],2, X_train_5, y_train_5, X_test_5,  y_test_5 )"
      ],
      "metadata": {
        "colab": {
          "base_uri": "https://localhost:8080/"
        },
        "id": "ajnq9ehdLpmi",
        "outputId": "b70dbada-d7a7-41fc-c759-a2f422e63b72"
      },
      "execution_count": null,
      "outputs": [
        {
          "output_type": "stream",
          "name": "stdout",
          "text": [
            "Estimator = 5\n",
            "Accuracy: 0.9339, Precision: 0.9382, Recall: 0.9664, F1: 0.9521\n",
            "Estimator = 10\n",
            "Accuracy: 0.9513, Precision: 0.9559, Recall: 0.9732, F1: 0.9644\n",
            "Estimator = 20\n",
            "Accuracy: 0.9587, Precision: 0.9526, Recall: 0.9884, F1: 0.9702\n",
            "Estimator = 40\n",
            "Accuracy: 0.9590, Precision: 0.9512, Recall: 0.9903, F1: 0.9704\n",
            "Estimator = 100\n",
            "Accuracy: 0.9614, Precision: 0.9522, Recall: 0.9929, F1: 0.9721\n",
            "Estimator = 200\n",
            "Accuracy: 0.9607, Precision: 0.9511, Recall: 0.9932, F1: 0.9717\n"
          ]
        }
      ]
    },
    {
      "cell_type": "code",
      "source": [
        "# recreating the best model to be saved\n",
        "rfc_5_100 = RFClassifier(models_path,100,2)\n",
        "rfc_5_100.tain(X_train_5,y_train_5)\n",
        "y_pred_5=rfc_5_100.predict(X_test_5)\n",
        "scores_5=rfc_5_100.scores(y_test_5, y_pred_5)\n",
        "# rfc_2_100.print_scores(scores[0],scores[1],scores[2],scores[3])\n",
        "# saving the best model\n",
        "rfc_5_100.save_model(\"RFC_both_feet_scaled_stances_6_features_100\")"
      ],
      "metadata": {
        "id": "CXpVVvUoLqLz"
      },
      "execution_count": null,
      "outputs": []
    },
    {
      "cell_type": "markdown",
      "source": [
        "### Scaled stances wih fwhm from the sum of forces from the right & left foot with 6 extra features each and statics from base model"
      ],
      "metadata": {
        "id": "FtjB199dOR-m"
      }
    },
    {
      "cell_type": "code",
      "source": [
        "# input data and label data\n",
        "colnames_6=['r_interp','r_swings_time','r_max_peak','r_total_fwhm','r_strides_time','r_peaks_toe','r_peaks_heel','l_interp','l_swings_time','l_max_peak','l_total_fwhm','l_strides_time','l_peaks_toe','l_peaks_heel']\n",
        "for col in [\"L1\",\t\"L2\",\t\"L3\"\t,\"L4\"\t\"L5\",\t\"L6\",\t\"L7\"\t,\"L8\",\t\"R1\",\t\"R2\"\t,\"R3\",\t\"R4\",\t\"R5\",\t\"R6\",\t\"R7\",\t\"R8\",\t\"Total_Force_Left\",\t\"Total_Force_Right\"]:\n",
        "    for x in [\"Min\", \"Max\", \"Std\", \"Med\", \"Avg\", \"Skewness\", \"Kurtosis\"]:\n",
        "      colnames_6.append( col +'_' +  x)"
      ],
      "metadata": {
        "id": "8zv20x8LNW9P"
      },
      "execution_count": null,
      "outputs": []
    },
    {
      "cell_type": "code",
      "source": [
        "df_6 = data.scaled_stances_statics_df[colnames_6]\n",
        "y_6 = data.scaled_stances_statics_df[[ 'y']]\n",
        "# reformatting\n",
        "colnames_6.remove(\"r_interp\")\n",
        "colnames_6.remove(\"l_interp\")\n",
        "df_6 = data.return_array_df_mul_lists(df_6,['r_interp','l_interp'],colnames_6)\n",
        "# splitting the data\n",
        "X_train_6, X_test_6, y_train_6, y_test_6 = train_test_split(df_6, y_6, random_state=42)"
      ],
      "metadata": {
        "id": "tH3OMMA_O9gG"
      },
      "execution_count": null,
      "outputs": []
    },
    {
      "cell_type": "code",
      "source": [
        "# Checking which RFC will work the best\n",
        "rfc_6 = RFClassifier(models_path,200,2)\n",
        "ccs_6=rfc_6.multiple_training([5, 10, 20, 40, 100, 200],2, X_train_6, y_train_6, X_test_6,  y_test_6 )"
      ],
      "metadata": {
        "colab": {
          "base_uri": "https://localhost:8080/"
        },
        "id": "I2_FauqYO3g1",
        "outputId": "8293f29a-7c31-4e2c-d17a-4ede8567e412"
      },
      "execution_count": null,
      "outputs": [
        {
          "output_type": "stream",
          "name": "stdout",
          "text": [
            "Estimator = 5\n",
            "Accuracy: 1.0000, Precision: 1.0000, Recall: 1.0000, F1: 1.0000\n",
            "Estimator = 10\n",
            "Accuracy: 1.0000, Precision: 1.0000, Recall: 1.0000, F1: 1.0000\n",
            "Estimator = 20\n",
            "Accuracy: 1.0000, Precision: 1.0000, Recall: 1.0000, F1: 1.0000\n",
            "Estimator = 40\n",
            "Accuracy: 1.0000, Precision: 1.0000, Recall: 1.0000, F1: 1.0000\n",
            "Estimator = 100\n",
            "Accuracy: 1.0000, Precision: 1.0000, Recall: 1.0000, F1: 1.0000\n",
            "Estimator = 200\n",
            "Accuracy: 1.0000, Precision: 1.0000, Recall: 1.0000, F1: 1.0000\n"
          ]
        }
      ]
    },
    {
      "cell_type": "code",
      "source": [
        "# recreating the best model to be saved\n",
        "rfc_6_100 = RFClassifier(models_path,100,2)\n",
        "rfc_6_100.tain(X_train_6,y_train_6)\n",
        "y_pred_6=rfc_6_100.predict(X_test_6)\n",
        "scores_6=rfc_6_100.scores(y_test_6, y_pred_6)\n",
        "# rfc_2_100.print_scores(scores[0],scores[1],scores[2],scores[3])\n",
        "# saving the best model\n",
        "rfc_6_100.save_model(\"RFC_both_feet_scaled_stances_6_features_statics_100\")"
      ],
      "metadata": {
        "id": "berubDVOPh5M"
      },
      "execution_count": null,
      "outputs": []
    },
    {
      "cell_type": "markdown",
      "source": [
        "### Scaled stances wih fwhm from the forces of 16 sensor from the right & left foot with 6 extra features each"
      ],
      "metadata": {
        "id": "GJzuSBzlQ8ES"
      }
    },
    {
      "cell_type": "code",
      "source": [
        "colnames_7=['r_swings_time','r_max_peak','r_total_fwhm','r_strides_time','r_peaks_toe','r_peaks_heel','l_swings_time','l_max_peak','l_total_fwhm','l_strides_time','l_peaks_toe','l_peaks_heel']\n",
        "for col in [\"L1\",\t\"L2\",\t\"L3\"\t,\"L4\",\t\"L5\",\t\"L6\",\t\"L7\"\t,\"L8\",\t\"R1\",\t\"R2\"\t,\"R3\",\t\"R4\",\t\"R5\",\t\"R6\",\t\"R7\",\t\"R8\"]:\n",
        "    for x in [\"interp\", \"fwhm\"]:\n",
        "      colnames_7.append( col +'_' +  x)"
      ],
      "metadata": {
        "id": "HWl8lAEkRhmE"
      },
      "execution_count": null,
      "outputs": []
    },
    {
      "cell_type": "code",
      "source": [
        "col_lists_7=[]\n",
        "for col in [\"L1\",\t\"L2\",\t\"L3\"\t,\"L4\"\t,\"L5\",\t\"L6\",\t\"L7\"\t,\"L8\",\t\"R1\",\t\"R2\"\t,\"R3\",\t\"R4\",\t\"R5\",\t\"R6\",\t\"R7\",\t\"R8\"]:\n",
        "    for x in [\"interp\"]:\n",
        "      col_lists_7.append( col +'_' +  x)"
      ],
      "metadata": {
        "id": "Aqc58HO-SBia"
      },
      "execution_count": null,
      "outputs": []
    },
    {
      "cell_type": "code",
      "source": [
        "df_7 = data.scaled_stances_statics_df[colnames_7]\n",
        "y_7 = data.scaled_stances_statics_df[[ 'y']]\n",
        "# reformatting\n",
        "for col in col_lists_7:\n",
        "  colnames_7.remove(col)\n",
        "df_7 = data.return_array_df_mul_lists(df_7,col_lists_7,colnames_7)\n",
        "# df_7 = np.asarray([l for l in df_7 if ~np.isnan(l).any()])\n",
        "df_7[np.isnan(df_7)] = 0\n",
        "# splitting the data\n",
        "X_train_7, X_test_7, y_train_7, y_test_7 = train_test_split(df_7, y_7, random_state=42)"
      ],
      "metadata": {
        "id": "RzdHepxkQM-Y"
      },
      "execution_count": null,
      "outputs": []
    },
    {
      "cell_type": "code",
      "source": [
        "# Checking which RFC will work the best\n",
        "rfc_7 = RFClassifier(models_path,200,2)\n",
        "ccs_7=rfc_7.multiple_training([5, 10, 20, 40, 100, 200],2, X_train_7, y_train_7, X_test_7,  y_test_7 )"
      ],
      "metadata": {
        "colab": {
          "base_uri": "https://localhost:8080/"
        },
        "id": "0IZBVxSIRR2H",
        "outputId": "701536a5-93ef-423d-d5a1-aaf3eca23dc3"
      },
      "execution_count": null,
      "outputs": [
        {
          "output_type": "stream",
          "name": "stdout",
          "text": [
            "Estimator = 5\n",
            "Accuracy: 0.9511, Precision: 0.9484, Recall: 0.9812, F1: 0.9646\n",
            "Estimator = 10\n",
            "Accuracy: 0.9581, Precision: 0.9577, Recall: 0.9816, F1: 0.9695\n",
            "Estimator = 20\n",
            "Accuracy: 0.9636, Precision: 0.9549, Recall: 0.9932, F1: 0.9737\n",
            "Estimator = 40\n",
            "Accuracy: 0.9629, Precision: 0.9535, Recall: 0.9939, F1: 0.9732\n",
            "Estimator = 100\n",
            "Accuracy: 0.9605, Precision: 0.9497, Recall: 0.9945, F1: 0.9716\n",
            "Estimator = 200\n",
            "Accuracy: 0.9603, Precision: 0.9486, Recall: 0.9955, F1: 0.9714\n"
          ]
        }
      ]
    },
    {
      "cell_type": "code",
      "source": [
        "# recreating the best model to be saved\n",
        "rfc_7_20 = RFClassifier(models_path,20,2)\n",
        "rfc_7_20.tain(X_train_7,y_train_7)\n",
        "y_pred_7=rfc_7_20.predict(X_test_7)\n",
        "scores_7=rfc_7_20.scores(y_test_7, y_pred_7)\n",
        "# rfc_7_20.print_scores(scores_7[0],scores_7[1],scores_7[2],scores_7[3])\n",
        "# saving the best model\n",
        "rfc_7_20.save_model(\"RFC_both_feet_16_sensors_6_features_20\")"
      ],
      "metadata": {
        "id": "4Yo3CDfjTKcV"
      },
      "execution_count": null,
      "outputs": []
    },
    {
      "cell_type": "markdown",
      "source": [
        "### Scaled stances wih fwhm from the forces of 16 sensor from the right & left foot and the sum of all sensors and the with 6 extra features each "
      ],
      "metadata": {
        "id": "WunSzzfXco69"
      }
    },
    {
      "cell_type": "code",
      "source": [
        "colnames_9=['r_interp','l_interp','r_swings_time','r_max_peak','r_total_fwhm','r_strides_time','r_peaks_toe','r_peaks_heel','l_swings_time','l_max_peak','l_total_fwhm','l_strides_time','l_peaks_toe','l_peaks_heel']\n",
        "for col in [\"L1\",\t\"L2\",\t\"L3\"\t,\"L4\",\t\"L5\",\t\"L6\",\t\"L7\"\t,\"L8\",\t\"R1\",\t\"R2\"\t,\"R3\",\t\"R4\",\t\"R5\",\t\"R6\",\t\"R7\",\t\"R8\"]:\n",
        "    for x in [\"interp\", \"fwhm\"]:\n",
        "      colnames_9.append( col +'_' +  x)"
      ],
      "metadata": {
        "id": "sG8l8Z5Hc9G_"
      },
      "execution_count": null,
      "outputs": []
    },
    {
      "cell_type": "code",
      "source": [
        "col_lists_9=[]\n",
        "for col in [\"l\",\"r\",\"L1\",\t\"L2\",\t\"L3\"\t,\"L4\"\t,\"L5\",\t\"L6\",\t\"L7\"\t,\"L8\",\t\"R1\",\t\"R2\"\t,\"R3\",\t\"R4\",\t\"R5\",\t\"R6\",\t\"R7\",\t\"R8\"]:\n",
        "    for x in [\"interp\"]:\n",
        "      col_lists_9.append( col +'_' +  x)"
      ],
      "metadata": {
        "id": "9I5hzP48eWzW"
      },
      "execution_count": null,
      "outputs": []
    },
    {
      "cell_type": "code",
      "source": [
        "df_9 = data.scaled_stances_statics_df[colnames_9]\n",
        "y_9 = data.scaled_stances_statics_df[[ 'y']]\n",
        "# reformatting\n",
        "for col in col_lists_9:\n",
        "  colnames_9.remove(col)\n",
        "df_9 = data.return_array_df_mul_lists(df_9,col_lists_9,colnames_9)\n",
        "# df_7 = np.asarray([l for l in df_7 if ~np.isnan(l).any()])\n",
        "df_9[np.isnan(df_9)] = 0\n",
        "# splitting the data\n",
        "X_train_9, X_test_9, y_train_9, y_test_9 = train_test_split(df_9, y_9, random_state=42)"
      ],
      "metadata": {
        "id": "w10aOeJfeYSl"
      },
      "execution_count": null,
      "outputs": []
    },
    {
      "cell_type": "code",
      "source": [
        "# Checking which RFC will work the best\n",
        "rfc_9 = RFClassifier(models_path,200,2)\n",
        "ccs_9=rfc_9.multiple_training([5, 10, 20, 40, 100, 200],2, X_train_9, y_train_9, X_test_9,  y_test_9 )"
      ],
      "metadata": {
        "colab": {
          "base_uri": "https://localhost:8080/"
        },
        "id": "rPwmY4o8eZ8X",
        "outputId": "0e1ce48c-da5c-4a99-b620-bd888558f4aa"
      },
      "execution_count": null,
      "outputs": [
        {
          "output_type": "stream",
          "name": "stdout",
          "text": [
            "Estimator = 5\n",
            "Accuracy: 0.9434, Precision: 0.9423, Recall: 0.9764, F1: 0.9590\n",
            "Estimator = 10\n",
            "Accuracy: 0.9596, Precision: 0.9593, Recall: 0.9822, F1: 0.9706\n",
            "Estimator = 20\n",
            "Accuracy: 0.9631, Precision: 0.9529, Recall: 0.9948, F1: 0.9734\n",
            "Estimator = 40\n",
            "Accuracy: 0.9636, Precision: 0.9530, Recall: 0.9955, F1: 0.9738\n",
            "Estimator = 100\n",
            "Accuracy: 0.9645, Precision: 0.9533, Recall: 0.9964, F1: 0.9744\n",
            "Estimator = 200\n",
            "Accuracy: 0.9642, Precision: 0.9524, Recall: 0.9971, F1: 0.9743\n"
          ]
        }
      ]
    },
    {
      "cell_type": "code",
      "source": [
        "# recreating the best model to be saved\n",
        "rfc_9_100 = RFClassifier(models_path,100,2)\n",
        "rfc_9_100.tain(X_train_9,y_train_9)\n",
        "y_pred_9=rfc_9_100.predict(X_test_9)\n",
        "scores_9=rfc_9_100.scores(y_test_9, y_pred_9)\n",
        "# rfc_7_20.print_scores(scores_7[0],scores_7[1],scores_7[2],scores_7[3])\n",
        "# saving the best model\n",
        "rfc_9_100.save_model(\"RFC_both_feet_16_sensors_sumsensors_6_features_100\")"
      ],
      "metadata": {
        "id": "ZBC_WnCmebYH"
      },
      "execution_count": null,
      "outputs": []
    },
    {
      "cell_type": "markdown",
      "source": [
        "### Scaled stances wih fwhm from the forces of 16 sensor from the right & left foot and the sum of all sensors and the with 6 extra features each and the statics from base models"
      ],
      "metadata": {
        "id": "Pbf7jqHRdG2b"
      }
    },
    {
      "cell_type": "code",
      "source": [
        "colnames_8=['r_interp','r_swings_time','r_max_peak','r_total_fwhm','r_strides_time','r_peaks_toe','r_peaks_heel','l_interp','l_swings_time','l_max_peak','l_total_fwhm','l_strides_time','l_peaks_toe','l_peaks_heel']\n",
        "for col in [\"L1\",\t\"L2\",\t\"L3\"\t,\"L4\",\t\"L5\",\t\"L6\",\t\"L7\"\t,\"L8\",\t\"R1\",\t\"R2\"\t,\"R3\",\t\"R4\",\t\"R5\",\t\"R6\",\t\"R7\",\t\"R8\"]:\n",
        "    for x in [\"interp\", \"fwhm\"]:\n",
        "      colnames_8.append( col +'_' +  x)\n",
        "\n",
        "for col in [\"L1\",\t\"L2\",\t\"L3\"\t,\"L4\"\t\"L5\",\t\"L6\",\t\"L7\"\t,\"L8\",\t\"R1\",\t\"R2\"\t,\"R3\",\t\"R4\",\t\"R5\",\t\"R6\",\t\"R7\",\t\"R8\",\t\"Total_Force_Left\",\t\"Total_Force_Right\"]:\n",
        "    for x in [\"Min\", \"Max\", \"Std\", \"Med\", \"Avg\", \"Skewness\", \"Kurtosis\"]:\n",
        "      colnames_8.append( col +'_' +  x)\n",
        "\n",
        "col_lists_8=['r_interp','l_interp']\n",
        "for col in [\"L1\",\t\"L2\",\t\"L3\"\t,\"L4\"\t,\"L5\",\t\"L6\",\t\"L7\"\t,\"L8\",\t\"R1\",\t\"R2\"\t,\"R3\",\t\"R4\",\t\"R5\",\t\"R6\",\t\"R7\",\t\"R8\"]:\n",
        "    for x in [\"interp\"]:\n",
        "      col_lists_8.append( col +'_' +  x)\n",
        "\n",
        "df_8 = data.scaled_stances_statics_df[colnames_8]\n",
        "y_8 = data.scaled_stances_statics_df[[ 'y']]\n",
        "# reformatting\n",
        "for col in col_lists_8:\n",
        "  colnames_8.remove(col)\n",
        "df_8 = data.return_array_df_mul_lists(df_8,col_lists_8,colnames_8)\n",
        "# df_7 = np.asarray([l for l in df_7 if ~np.isnan(l).any()])\n",
        "df_8[np.isnan(df_8)] = 0\n",
        "# splitting the data\n",
        "X_train_8, X_test_8, y_train_8, y_test_8 = train_test_split(df_8, y_8, random_state=42)\n"
      ],
      "metadata": {
        "id": "iNDHk3U2lA-v"
      },
      "execution_count": null,
      "outputs": []
    },
    {
      "cell_type": "code",
      "source": [
        "# Checking which RFC will work the best\n",
        "rfc_8 = RFClassifier(models_path,200,2)\n",
        "ccs_8=rfc_8.multiple_training([5, 10, 20, 40, 100, 200],2, X_train_8, y_train_8, X_test_8,  y_test_8 )"
      ],
      "metadata": {
        "colab": {
          "base_uri": "https://localhost:8080/"
        },
        "id": "jlE0InyLlSOv",
        "outputId": "60c8d0b7-db34-456a-cd07-6fb04b6a5f67"
      },
      "execution_count": null,
      "outputs": [
        {
          "output_type": "stream",
          "name": "stdout",
          "text": [
            "Estimator = 5\n",
            "Accuracy: 0.9974, Precision: 0.9974, Recall: 0.9987, F1: 0.9981\n",
            "Estimator = 10\n",
            "Accuracy: 0.9996, Precision: 1.0000, Recall: 0.9994, F1: 0.9997\n",
            "Estimator = 20\n",
            "Accuracy: 1.0000, Precision: 1.0000, Recall: 1.0000, F1: 1.0000\n",
            "Estimator = 40\n",
            "Accuracy: 1.0000, Precision: 1.0000, Recall: 1.0000, F1: 1.0000\n",
            "Estimator = 100\n",
            "Accuracy: 1.0000, Precision: 1.0000, Recall: 1.0000, F1: 1.0000\n",
            "Estimator = 200\n",
            "Accuracy: 1.0000, Precision: 1.0000, Recall: 1.0000, F1: 1.0000\n"
          ]
        }
      ]
    },
    {
      "cell_type": "code",
      "source": [
        "# recreating the best model to be saved\n",
        "rfc_8_100 = RFClassifier(models_path,100,2)\n",
        "rfc_8_100.tain(X_train_8,y_train_8)\n",
        "y_pred_8=rfc_8_100.predict(X_test_8)\n",
        "scores_8=rfc_8_100.scores(y_test_8, y_pred_8)\n",
        "# rfc_7_20.print_scores(scores_7[0],scores_7[1],scores_7[2],scores_7[3])\n",
        "# saving the best model\n",
        "rfc_8_100.save_model(\"RFC_both_feet_16_sensors_sumsensors_6_features_100\") "
      ],
      "metadata": {
        "id": "-fpvHebOlUmo"
      },
      "execution_count": null,
      "outputs": []
    },
    {
      "cell_type": "markdown",
      "source": [
        "## RFC (Multiclass Classification)"
      ],
      "metadata": {
        "id": "mD0NU88FpgD5"
      }
    },
    {
      "cell_type": "markdown",
      "source": [
        "### Baseline model"
      ],
      "metadata": {
        "id": "RFVESVzhj2qv"
      }
    },
    {
      "cell_type": "code",
      "source": [
        "min_cols=[]\n",
        "for col in data.cols_names[1:]:\n",
        "  colname = col +'_Min'\n",
        "  min_cols.append(colname)"
      ],
      "metadata": {
        "id": "xMjhsQ_qk74I"
      },
      "execution_count": null,
      "outputs": []
    },
    {
      "cell_type": "code",
      "source": [
        "min_cols= np.append( min_cols, ['ID','y','level'])"
      ],
      "metadata": {
        "id": "5smQfinrlSVS"
      },
      "execution_count": null,
      "outputs": []
    },
    {
      "cell_type": "code",
      "source": [
        "# splitting the data into train and test data\n",
        "y = data.raw_statics_df['level']\n",
        "X = data.raw_statics_df.drop(columns=min_cols, axis=1)"
      ],
      "metadata": {
        "id": "J9LJF-otkLVR"
      },
      "execution_count": null,
      "outputs": []
    },
    {
      "cell_type": "code",
      "source": [
        "y.replace(3, 4, inplace= True) \n",
        "y.replace(2.5, 3, inplace= True)  \n",
        "y_m=y.astype('int')\n",
        "\n",
        "# splitting the data\n",
        "X_train_m, X_test_m, y_train_m, y_test_m = train_test_split(X, y_m, random_state=42)"
      ],
      "metadata": {
        "id": "mEAAZHl6j7iC"
      },
      "execution_count": null,
      "outputs": []
    },
    {
      "cell_type": "code",
      "source": [
        "# Checking which RFC will work the best\n",
        "rfc_m = RFClassifier(models_path,200,2,'micro')\n",
        "ccs_m=rfc_m.multiple_training([5, 10, 20, 40, 100, 200],2, X_train_m, y_train_m, X_test_m,  y_test_m )"
      ],
      "metadata": {
        "colab": {
          "base_uri": "https://localhost:8080/"
        },
        "id": "Qh7ST_j9lxDQ",
        "outputId": "75acc565-4cd9-4705-c6c8-6e3b294ca24b"
      },
      "execution_count": null,
      "outputs": [
        {
          "output_type": "stream",
          "name": "stdout",
          "text": [
            "Estimator = 5\n",
            "Accuracy: 0.6447, Precision: 0.6447, Recall: 0.6447, F1: 0.6447\n",
            "Estimator = 10\n",
            "Accuracy: 0.6974, Precision: 0.6974, Recall: 0.6974, F1: 0.6974\n",
            "Estimator = 20\n",
            "Accuracy: 0.7763, Precision: 0.7763, Recall: 0.7763, F1: 0.7763\n",
            "Estimator = 40\n",
            "Accuracy: 0.7763, Precision: 0.7763, Recall: 0.7763, F1: 0.7763\n",
            "Estimator = 100\n",
            "Accuracy: 0.7763, Precision: 0.7763, Recall: 0.7763, F1: 0.7763\n",
            "Estimator = 200\n",
            "Accuracy: 0.7500, Precision: 0.7500, Recall: 0.7500, F1: 0.7500\n"
          ]
        }
      ]
    },
    {
      "cell_type": "markdown",
      "source": [
        "### ![image.png](data:image/png;base64,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)"
      ],
      "metadata": {
        "id": "ihK6ZuxMlqaK"
      }
    },
    {
      "cell_type": "code",
      "source": [
        "colnames_9=['r_interp','l_interp','r_swings_time','r_max_peak','r_total_fwhm','r_strides_time','r_peaks_toe','r_peaks_heel','l_swings_time','l_max_peak','l_total_fwhm','l_strides_time','l_peaks_toe','l_peaks_heel']\n",
        "for col in [\"L1\",\t\"L2\",\t\"L3\"\t,\"L4\",\t\"L5\",\t\"L6\",\t\"L7\"\t,\"L8\",\t\"R1\",\t\"R2\"\t,\"R3\",\t\"R4\",\t\"R5\",\t\"R6\",\t\"R7\",\t\"R8\"]:\n",
        "    for x in [\"interp\", \"fwhm\"]:\n",
        "      colnames_9.append( col +'_' +  x)"
      ],
      "metadata": {
        "id": "R7XpXvX6neP4"
      },
      "execution_count": null,
      "outputs": []
    },
    {
      "cell_type": "code",
      "source": [
        "col_lists_9=[]\n",
        "for col in [\"l\",\"r\",\"L1\",\t\"L2\",\t\"L3\"\t,\"L4\"\t,\"L5\",\t\"L6\",\t\"L7\"\t,\"L8\",\t\"R1\",\t\"R2\"\t,\"R3\",\t\"R4\",\t\"R5\",\t\"R6\",\t\"R7\",\t\"R8\"]:\n",
        "    for x in [\"interp\"]:\n",
        "      col_lists_9.append( col +'_' +  x)"
      ],
      "metadata": {
        "id": "flho8uCtnf-z"
      },
      "execution_count": null,
      "outputs": []
    },
    {
      "cell_type": "code",
      "source": [
        "df_9 = data.scaled_stances_statics_df[colnames_9]\n",
        "y_9 = data.scaled_stances_statics_df[[ 'level']]\n",
        "y_9.replace(3, 4, inplace= True) \n",
        "y_9.replace(2.5, 3, inplace= True)  \n",
        "y_m=y_9.astype('int')\n",
        "\n",
        "# reformatting\n",
        "for col in col_lists_9:\n",
        "  colnames_9.remove(col)\n",
        "df_9 = data.return_array_df_mul_lists(df_9,col_lists_9,colnames_9)\n",
        "# df_7 = np.asarray([l for l in df_7 if ~np.isnan(l).any()])\n",
        "df_9[np.isnan(df_9)] = 0\n",
        "# splitting the data\n",
        "X_train_9, X_test_9, y_train_9, y_test_9 = train_test_split(df_9, y_m, random_state=42)"
      ],
      "metadata": {
        "colab": {
          "base_uri": "https://localhost:8080/"
        },
        "id": "wdZpFm39ng76",
        "outputId": "a379943a-10f5-475b-ea35-97efb1f24e75"
      },
      "execution_count": null,
      "outputs": [
        {
          "output_type": "stream",
          "name": "stderr",
          "text": [
            "<ipython-input-17-16ba76439454>:3: SettingWithCopyWarning: \n",
            "A value is trying to be set on a copy of a slice from a DataFrame\n",
            "\n",
            "See the caveats in the documentation: https://pandas.pydata.org/pandas-docs/stable/user_guide/indexing.html#returning-a-view-versus-a-copy\n",
            "  y_9.replace(3, 4, inplace= True)\n",
            "<ipython-input-17-16ba76439454>:4: SettingWithCopyWarning: \n",
            "A value is trying to be set on a copy of a slice from a DataFrame\n",
            "\n",
            "See the caveats in the documentation: https://pandas.pydata.org/pandas-docs/stable/user_guide/indexing.html#returning-a-view-versus-a-copy\n",
            "  y_9.replace(2.5, 3, inplace= True)\n"
          ]
        }
      ]
    },
    {
      "cell_type": "code",
      "source": [
        "# Checking which RFC will work the best\n",
        "rfc_m = RFClassifier(models_path,200,2,'micro')\n",
        "ccs_m=rfc_m.multiple_training([5, 10, 20, 40, 100, 200],2, X_train_9, y_train_9, X_test_9,  y_test_9)"
      ],
      "metadata": {
        "colab": {
          "base_uri": "https://localhost:8080/"
        },
        "id": "uKu_dkJxkBb4",
        "outputId": "db85b992-18ae-49be-f8c0-4b8753b326e7"
      },
      "execution_count": null,
      "outputs": [
        {
          "output_type": "stream",
          "name": "stdout",
          "text": [
            "Estimator = 5\n",
            "Accuracy: 0.8811, Precision: 0.8811, Recall: 0.8811, F1: 0.8811\n",
            "Estimator = 10\n",
            "Accuracy: 0.9085, Precision: 0.9085, Recall: 0.9085, F1: 0.9085\n",
            "Estimator = 20\n",
            "Accuracy: 0.9219, Precision: 0.9219, Recall: 0.9219, F1: 0.9219\n",
            "Estimator = 40\n",
            "Accuracy: 0.9344, Precision: 0.9344, Recall: 0.9344, F1: 0.9344\n",
            "Estimator = 100\n",
            "Accuracy: 0.9399, Precision: 0.9399, Recall: 0.9399, F1: 0.9399\n",
            "Estimator = 200\n",
            "Accuracy: 0.9397, Precision: 0.9397, Recall: 0.9397, F1: 0.9397\n"
          ]
        }
      ]
    },
    {
      "cell_type": "markdown",
      "source": [
        "### ![image.png](data:image/png;base64,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)"
      ],
      "metadata": {
        "id": "hNWcAO2OpvTo"
      }
    },
    {
      "cell_type": "code",
      "source": [
        "colnames_8=['r_interp','r_swings_time','r_max_peak','r_total_fwhm','r_strides_time','r_peaks_toe','r_peaks_heel','l_interp','l_swings_time','l_max_peak','l_total_fwhm','l_strides_time','l_peaks_toe','l_peaks_heel']\n",
        "for col in [\"L1\",\t\"L2\",\t\"L3\"\t,\"L4\",\t\"L5\",\t\"L6\",\t\"L7\"\t,\"L8\",\t\"R1\",\t\"R2\"\t,\"R3\",\t\"R4\",\t\"R5\",\t\"R6\",\t\"R7\",\t\"R8\"]:\n",
        "    for x in [\"interp\", \"fwhm\"]:\n",
        "      colnames_8.append( col +'_' +  x)\n",
        "\n",
        "for col in [\"L1\",\t\"L2\",\t\"L3\"\t,\"L4\"\t,\"L5\",\t\"L6\",\t\"L7\"\t,\"L8\",\t\"R1\",\t\"R2\"\t,\"R3\",\t\"R4\",\t\"R5\",\t\"R6\",\t\"R7\",\t\"R8\",\t\"Total_Force_Left\",\t\"Total_Force_Right\"]:\n",
        "    for x in [\"Min\", \"Max\", \"Std\", \"Med\", \"Avg\", \"Skewness\"]:\n",
        "      colnames_8.append( col +'_' +  x)\n",
        "\n",
        "for col in [\"L1\",\t\"L2\",\t\"L3\"\t,\t\"L6\",\t\"L7\"\t,\"L8\",\t\"R1\",\t\"R2\"\t,\"R3\",\t\"R4\",\t\"R5\",\t\"R6\",\t\"R7\",\t\"R8\",\t\"Total_Force_Left\",\t\"Total_Force_Right\"]:\n",
        "      colnames_8.append( col +'_' +  \"Kurtosis\")\n",
        "for col in [\"L4\"\t,\"L5\"]:\n",
        "  colnames_8.append( col +'_' +  \"kurtosis\")\n",
        "  \n",
        "col_lists_8=['r_interp','l_interp']\n",
        "for col in [\"L1\",\t\"L2\",\t\"L3\"\t,\"L4\"\t,\"L5\",\t\"L6\",\t\"L7\"\t,\"L8\",\t\"R1\",\t\"R2\"\t,\"R3\",\t\"R4\",\t\"R5\",\t\"R6\",\t\"R7\",\t\"R8\"]:\n",
        "    for x in [\"interp\"]:\n",
        "      col_lists_8.append( col +'_' +  x)\n",
        "\n",
        "df_8 = data.scaled_stances_statics_df[colnames_8]\n",
        "y_8 = data.scaled_stances_statics_df[[ 'level']]\n",
        "y_8.replace(3, 4, inplace= True) \n",
        "y_8.replace(2.5, 3, inplace= True)  \n",
        "y_m=y_8.astype('int')\n",
        "# reformatting\n",
        "for col in col_lists_8:\n",
        "  colnames_8.remove(col)\n",
        "df_8 = data.return_array_df_mul_lists(df_8,col_lists_8,colnames_8)\n",
        "# df_7 = np.asarray([l for l in df_7 if ~np.isnan(l).any()])\n",
        "df_8[np.isnan(df_8)] = 0\n",
        "# splitting the data\n",
        "X_train_8, X_test_8, y_train_8, y_test_8 = train_test_split(df_8, y_m, random_state=42)\n"
      ],
      "metadata": {
        "colab": {
          "base_uri": "https://localhost:8080/"
        },
        "id": "Cs3IhwLCpwFD",
        "outputId": "acb55f59-484e-4ea3-f863-42f5e88e6f55"
      },
      "execution_count": null,
      "outputs": [
        {
          "output_type": "stream",
          "name": "stderr",
          "text": [
            "<ipython-input-23-4de871fe1818>:22: SettingWithCopyWarning: \n",
            "A value is trying to be set on a copy of a slice from a DataFrame\n",
            "\n",
            "See the caveats in the documentation: https://pandas.pydata.org/pandas-docs/stable/user_guide/indexing.html#returning-a-view-versus-a-copy\n",
            "  y_8.replace(3, 4, inplace= True)\n",
            "<ipython-input-23-4de871fe1818>:23: SettingWithCopyWarning: \n",
            "A value is trying to be set on a copy of a slice from a DataFrame\n",
            "\n",
            "See the caveats in the documentation: https://pandas.pydata.org/pandas-docs/stable/user_guide/indexing.html#returning-a-view-versus-a-copy\n",
            "  y_8.replace(2.5, 3, inplace= True)\n"
          ]
        }
      ]
    },
    {
      "cell_type": "code",
      "source": [
        "# Checking which RFC will work the best\n",
        "rfc_m = RFClassifier(models_path,200,2,'micro')\n",
        "ccs_m=rfc_m.multiple_training([5, 10, 20, 40, 100, 200],2, X_train_8, y_train_8, X_test_8,  y_test_8)"
      ],
      "metadata": {
        "colab": {
          "base_uri": "https://localhost:8080/"
        },
        "id": "9CvWdhCsqXe-",
        "outputId": "81df5d99-a4b9-44e6-d79e-621cc7829008"
      },
      "execution_count": null,
      "outputs": [
        {
          "output_type": "stream",
          "name": "stdout",
          "text": [
            "Estimator = 5\n",
            "Accuracy: 0.9991, Precision: 0.9991, Recall: 0.9991, F1: 0.9991\n",
            "Estimator = 10\n",
            "Accuracy: 0.9998, Precision: 0.9998, Recall: 0.9998, F1: 0.9998\n",
            "Estimator = 20\n",
            "Accuracy: 1.0000, Precision: 1.0000, Recall: 1.0000, F1: 1.0000\n",
            "Estimator = 40\n",
            "Accuracy: 1.0000, Precision: 1.0000, Recall: 1.0000, F1: 1.0000\n",
            "Estimator = 100\n",
            "Accuracy: 1.0000, Precision: 1.0000, Recall: 1.0000, F1: 1.0000\n",
            "Estimator = 200\n",
            "Accuracy: 1.0000, Precision: 1.0000, Recall: 1.0000, F1: 1.0000\n"
          ]
        }
      ]
    }
  ]
}