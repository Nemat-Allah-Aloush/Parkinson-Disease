{
  "nbformat": 4,
  "nbformat_minor": 0,
  "metadata": {
    "colab": {
      "provenance": []
    },
    "kernelspec": {
      "name": "python3",
      "display_name": "Python 3"
    },
    "language_info": {
      "name": "python"
    }
  },
  "cells": [
    {
      "cell_type": "code",
      "execution_count": 19,
      "metadata": {
        "id": "hTMDnp5I2KE2"
      },
      "outputs": [],
      "source": [
        "import numpy as np\n",
        "from sklearn.ensemble import RandomForestClassifier\n",
        "from sklearn.metrics import accuracy_score,precision_score, recall_score, f1_score, auc, roc_curve\n",
        "import pickle\n",
        "\n",
        "class RFClassifier:\n",
        "  def __init__(self,models_path,estimators_n,jobs_n,):\n",
        "    self.models_path = models_path\n",
        "    self.rf_classifier = RandomForestClassifier(n_estimators=estimators_n,  n_jobs=jobs_n)\n",
        "\n",
        "  def multiple_training(self,estimators_n,jobs_n, x_train, y_train, x_test, y_test):\n",
        "    test_score_RFC=[]\n",
        "    RFCs=[]\n",
        "    for n in estimators_n:\n",
        "        clf = RandomForestClassifier(n_estimators= int(n), n_jobs= jobs_n)\n",
        "        clf.fit(x_train, np.ravel(y_train))\n",
        "        y_pred = clf.predict(x_test)\n",
        "        scores = self.scores(np.ravel(y_pred), np.ravel(y_test))\n",
        "        test_score_RFC.append(scores)  \n",
        "        RFCs.append(clf)\n",
        "    for neighbor, tr_sc in zip((estimators_n),test_score_RFC): \n",
        "        print(f\"Estimator = {neighbor}\")\n",
        "        print('Accuracy: {:.4f}, Precision: {:.4f}, Recall: {:.4f}, F1: {:.4f}'.format(tr_sc[0],tr_sc[1],tr_sc[2],tr_sc[3]))\n",
        "    return RFCs\n",
        "\n",
        "  def tain(self, x_train, y_train):\n",
        "    # Train a Random Forest classifier on the training set\n",
        "    self.rf_classifier.fit(x_train, np.ravel(y_train))\n",
        "     \n",
        "  def predict(self, x_test):\n",
        "    # Evaluate the performance of the classifier on the testing set\n",
        "    y_pred = self.rf_classifier.predict(x_test)\n",
        "    return y_pred\n",
        "\n",
        "  def scores(self, y_test, y_pred):     \n",
        "    prec = precision_score(y_test, y_pred)\n",
        "    rec = recall_score(y_test, y_pred)\n",
        "    f1 = f1_score(y_test, y_pred)\n",
        "    accuracy = accuracy_score(y_test, y_pred)\n",
        "    return [accuracy,prec,rec,f1]\n",
        "\n",
        "  def print_scores(self,acc,prec,rec,f1):\n",
        "    print(\"Accuracy: {}\".format(acc))\n",
        "    print(\"Precision: {}\".format(prec))\n",
        "    print(\"Recall: {}\".format(rec))\n",
        "    print(\"F1: {}\".format(f1))\n",
        "     \n",
        "  def save_model(self, file_name):\n",
        "    # save the model\n",
        "    with open(self.models_path+file_name, 'wb') as f:\n",
        "        pickle.dump(self.rf_classifier, f)\n",
        "\n",
        "  def load_model(self,file_name):\n",
        "    # Load the model                                                                                                                                                                                                       \n",
        "    with open(self.models_path+file_name) as f:\n",
        "        self.rf_classifier = pickle.load(f)\n",
        "    return self.rf_classifier"
      ]
    },
    {
      "cell_type": "markdown",
      "source": [
        "## Example"
      ],
      "metadata": {
        "id": "fopLT6t6CFrv"
      }
    },
    {
      "cell_type": "code",
      "source": [
        "import sys\n",
        "sys.path.insert(0,\"/content/drive/MyDrive/ITMO-Master's/Thesis/3rd_semester\")"
      ],
      "metadata": {
        "id": "TDb8Q5Rv-Mlu"
      },
      "execution_count": 2,
      "outputs": []
    },
    {
      "cell_type": "code",
      "source": [
        "import DataClass \n",
        "from DataClass import Data\n",
        "parquet_path = \"/content/drive/MyDrive/ITMO-Master's/Thesis/3rd_semester/Data/parquet_files/\"\n",
        "# read prepare data\n",
        "data = Data( 0, \"\", \"\",parquet_path)"
      ],
      "metadata": {
        "id": "fQYaKac777u7"
      },
      "execution_count": 3,
      "outputs": []
    },
    {
      "cell_type": "code",
      "source": [
        "from sklearn.model_selection import train_test_split\n",
        "d=data.return_array_df(data.scaled_right_stances,'new_y',['r_swings_time','max_peak','fwhm_value'])\n",
        "y = data.scaled_right_stances[[ 'y']]\n",
        "X_train, X_test, y_train, y_test = train_test_split(d, y, random_state=42)"
      ],
      "metadata": {
        "id": "yNgZsKtk97oG"
      },
      "execution_count": 5,
      "outputs": []
    },
    {
      "cell_type": "code",
      "source": [
        "rfc = RFClassifier(\"\",200,2)\n",
        "rfc.tain(X_train,y_train)\n",
        "y_pred=rfc.test(X_test)\n",
        "scores=rfc.scores(y_test, y_pred)"
      ],
      "metadata": {
        "id": "0R1kI7VL_A1b"
      },
      "execution_count": 20,
      "outputs": []
    },
    {
      "cell_type": "code",
      "source": [
        "rfc.print_scores(scores[0],scores[1],scores[2],scores[3])"
      ],
      "metadata": {
        "colab": {
          "base_uri": "https://localhost:8080/"
        },
        "id": "ApW6gwMY_zZz",
        "outputId": "b758a183-f5db-4ca1-c7e4-f54f81b433f6"
      },
      "execution_count": 11,
      "outputs": [
        {
          "output_type": "stream",
          "name": "stdout",
          "text": [
            "Accuracy: 0.9260879072818718\n",
            "Precision: 0.9195919591959196\n",
            "Recall: 0.9776714513556619\n",
            "F1: 0.9477427334570192\n"
          ]
        }
      ]
    },
    {
      "cell_type": "code",
      "source": [
        "ccs=rfc.multiple_training([5, 10, 20, 40, 100, 200],2,X_train, y_train, X_test, y_test)"
      ],
      "metadata": {
        "colab": {
          "base_uri": "https://localhost:8080/"
        },
        "id": "JxVVrrkcAGXt",
        "outputId": "d2dad75f-208a-48e5-cf2e-4c072a95edd6"
      },
      "execution_count": 21,
      "outputs": [
        {
          "output_type": "stream",
          "name": "stdout",
          "text": [
            "Estimator = 5\n",
            "Accuracy: 0.8767, Precision: 0.9346, Recall: 0.8908, F1: 0.9122\n",
            "Estimator = 10\n",
            "Accuracy: 0.8972, Precision: 0.9368, Recall: 0.9152, F1: 0.9259\n",
            "Estimator = 20\n",
            "Accuracy: 0.9152, Precision: 0.9525, Recall: 0.9259, F1: 0.9390\n",
            "Estimator = 40\n",
            "Accuracy: 0.9176, Precision: 0.9659, Recall: 0.9181, F1: 0.9414\n",
            "Estimator = 100\n",
            "Accuracy: 0.9263, Precision: 0.9780, Recall: 0.9196, F1: 0.9479\n",
            "Estimator = 200\n",
            "Accuracy: 0.9261, Precision: 0.9764, Recall: 0.9206, F1: 0.9477\n"
          ]
        }
      ]
    },
    {
      "cell_type": "code",
      "source": [],
      "metadata": {
        "id": "vAHd6nhmAWDa"
      },
      "execution_count": null,
      "outputs": []
    }
  ]
}