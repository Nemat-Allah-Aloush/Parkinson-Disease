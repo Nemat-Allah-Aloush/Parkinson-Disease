{
  "cells": [
    {
      "cell_type": "markdown",
      "source": [
        "\n",
        "[Colab link ](https://drive.google.com/file/d/1HmvrkYaFIpb9l7d9RgZpcffEBTkbej60/view?usp=sharing)\n"
      ],
      "metadata": {
        "id": "0m3FP0o2mWUE"
      }
    },
    {
      "cell_type": "markdown",
      "metadata": {
        "id": "xo1CVjZb-oDD"
      },
      "source": [
        "## Importing"
      ]
    },
    {
      "cell_type": "code",
      "execution_count": null,
      "metadata": {
        "id": "aGGXquTD-qxk"
      },
      "outputs": [],
      "source": [
        "import pandas as pd\n",
        "import numpy as np\n",
        "\n",
        "from sklearn.preprocessing import PolynomialFeatures\n",
        "from sklearn import decomposition\n",
        "from sklearn.model_selection import train_test_split\n",
        "from sklearn import decomposition\n",
        "from sklearn.svm import SVC\n",
        "\n",
        "import os\n",
        "\n",
        "from tqdm.auto import tqdm\n",
        "\n",
        "import shutil\n",
        "\n",
        "from itertools import groupby\n",
        "\n",
        "import matplotlib.pyplot as plt\n",
        "\n",
        "from statistics import mean\n",
        "\n",
        "import scipy.stats as stats\n",
        "from scipy.stats import skew\n",
        "from scipy.stats import kurtosis\n",
        "\n",
        "from sklearn.model_selection import train_test_split\n",
        "\n",
        "import tensorflow as tf"
      ]
    },
    {
      "cell_type": "code",
      "execution_count": null,
      "metadata": {
        "colab": {
          "base_uri": "https://localhost:8080/"
        },
        "id": "EflF3KAFXrai",
        "outputId": "b774f29f-a6f4-4634-9d15-e19c784a0cc0"
      },
      "outputs": [
        {
          "output_type": "stream",
          "name": "stdout",
          "text": [
            "Mounted at /content/drive\n"
          ]
        }
      ],
      "source": [
        "from google.colab import drive\n",
        "drive.mount('/content/drive')"
      ]
    },
    {
      "cell_type": "markdown",
      "metadata": {
        "id": "yoPlShO_1mD5"
      },
      "source": [
        "## Parameters"
      ]
    },
    {
      "cell_type": "code",
      "execution_count": null,
      "metadata": {
        "id": "NJh8EXU71npV"
      },
      "outputs": [],
      "source": [
        "# path of original data folder\n",
        "data_path = \"/content/drive/MyDrive/ITMO-Master's/Thesis/3rd_semester/Data\"\n",
        "# path of csv files, each file is a 2mins walk for a subject\n",
        "csvD_path = \"/content/drive/MyDrive/ITMO-Master's/Thesis/3rd_semester/Data/csv_files\"\n",
        "# In this file, the Null values are replaved with 0 in the HY scale - Null values were given to healthy control\n",
        "demographics = \"/content/drive/MyDrive/ITMO-Master's/Thesis/3rd_semester/Data/Processed_data/demographics_HYprocessed.csv\" \n",
        "dem_df = pd.read_csv(demographics)\n",
        "# parequet folder path\n",
        "parquet_path = \"/content/drive/MyDrive/ITMO-Master's/Thesis/3rd_semester/Data/parquet_files/\""
      ]
    },
    {
      "cell_type": "markdown",
      "metadata": {
        "id": "lxD2898AlNMI"
      },
      "source": [
        "## Data Utils"
      ]
    },
    {
      "cell_type": "markdown",
      "metadata": {
        "id": "VLlmkpXwQPt0"
      },
      "source": [
        "#### Data Class"
      ]
    },
    {
      "cell_type": "markdown",
      "metadata": {
        "id": "1gA_nqXg_Q0V"
      },
      "source": [
        "Note: \n",
        "Gait cycle = stride cycle\n",
        "\n",
        "\n",
        "- Usually, Vertical Ground React Force VGRF values less than 20N are generated from noise\n",
        "- For gait cycle segmentation, to eliminate the effect of gait initiation and termenation, the first and last 20 seconds of VGRF data was discarded.\n",
        "- Note: Since we are deleting the first and last 20 seconds, some patients that performed less than 2 mins have almost no gait cycles left. For example, the paient with Id `JuCo02` and `JuCo03` walked for almost 40.40 seconds. Thus, after deleting the first and last 20 sec, he has only half gait cycle left. \n",
        "\n",
        "*   stride time variability and swing time variability are important parameters in distinguishing a PD patient’s gait from normal gait.\n",
        "*   As PD patients tend to put less pressure during placing the heel strike and toe off than control subjects, maximum VGRF at heel strike and toe off for each gait cycle was computed. The mean and standard deviation of the VGRF overall gait cycles were taken as features for classification.\n",
        "\n",
        "\n"
      ]
    },
    {
      "cell_type": "code",
      "execution_count": null,
      "metadata": {
        "id": "3uHx0SlZl2aJ"
      },
      "outputs": [],
      "source": [
        "class Data:\n",
        "  def __init__(self, prepare_or_get, data_folder, demographics_file, parquet_path):\n",
        "    '''\n",
        "    :param prepare_or_get:  1: prepare data , 0: load preloaded datas (npy)\n",
        "    :param data_folder: path for a folder containing csv files, file for each 2 mins walk (for indivdiual subject)\n",
        "    :param demographics_file: path for csv demographics file\n",
        "    :save_path: path where to save/read parquet files after preparing them\n",
        "    :\n",
        "    '''\n",
        "\n",
        "    self.data_path = data_folder\n",
        "    self.parquet_path= parquet_path\n",
        "    self.dem_path= demographics_file\n",
        "    self.scale=\"HoehnYahr\"            # fixed for now\n",
        "    self.seconds_to_discard = 20      # fixed for now\n",
        "    self.rows_to_discard = 100 * self.seconds_to_discard\n",
        "    \n",
        "    # data in arrays\n",
        "    self.signals_data = []\n",
        "    self.cycles_data=[]\n",
        "    self.statical_data=[]\n",
        "  \n",
        "\n",
        "    if (prepare_or_get==1):\n",
        "      self.prepare_data()\n",
        "    elif (prepare_or_get==0):\n",
        "      self.get_data()\n",
        "  \n",
        "  def get_data(self):\n",
        "    self.signals_data_df= pd.read_parquet(self.parquet_path+'signals.gzip')\n",
        "    self.cycles_data_df=pd.read_parquet(self.parquet_path+'cyclels.gzip')\n",
        "    self.statical_data_df=pd.read_parquet(self.parquet_path+'statical.gzip')\n",
        "    self.left_stances_df=pd.read_parquet(self.parquet_path+'left_stances.gzip')\n",
        "    self.right_stances_df=pd.read_parquet(self.parquet_path+'right_stances.gzip')\n",
        "\n",
        "  def prepare_data(self):\n",
        "    # loop over files, each file is a 2 min walk for a single individual\n",
        "    # files are expected to be in csv format\n",
        "    self.dem_df = pd.read_csv(self.dem_path)\n",
        "    for name in tqdm((os.listdir(self.data_path))):\n",
        "       \n",
        "      # id of subject\n",
        "      id = name.split('_')[0]\n",
        "\n",
        "      # disease level according to 'self.scale'\n",
        "      level = self.get_pd_level( id)\n",
        "\n",
        "      # parkinon's patient OR healthy control ?\n",
        "      if 'Co' in name:  \n",
        "        parkinson = 0 # Healthy control\n",
        "      elif 'Pt' in name:\n",
        "        parkinson = 1 # Parkinson's Patient\n",
        "\n",
        "      # read and filter one file\n",
        "      one_walk=self.read_filter(name)\n",
        "\n",
        "      # sum of values from all the left sensors\n",
        "      one_walk['Total_Force_Left'] = one_walk[list(one_walk.columns[0:8])].sum(axis=1)\n",
        "     \n",
        "      # sum of values from all the right sensors\n",
        "      one_walk['Total_Force_Right'] = one_walk[list(one_walk.columns[8:16])].sum(axis=1)\n",
        "      \n",
        "      # convert to lists\n",
        "      one_walk_lists=[]*18\n",
        "      for column in one_walk.columns.values.tolist():\n",
        "        one_walk_lists.append(one_walk[column].tolist()) \n",
        "\n",
        "      ## Left foot related ##\n",
        "      l_stances, l_strides_time , l_swings_time, l_stances_time, l_indices = self.segment_signal(one_walk_lists[16])\n",
        "      # Find maximum VGRF at heel strike for each gait cycle \n",
        "      l_peaks_heel = self.get_max_per_gait_cycle(one_walk_lists[0],l_indices) # sensor 0 = left heal sensor\n",
        "      # Find maximum VGRF at toe off for each gait cycle\n",
        "      l_peaks_toe = self.get_max_per_gait_cycle(one_walk_lists[7],l_indices) # sensor 7 = left toe sensor\n",
        "\n",
        "      ## right foot related ##\n",
        "      r_stances, r_strides_time , r_swings_time, r_stances_time, r_indices = self.segment_signal(one_walk_lists[17])\n",
        "      # Find maximum VGRF at heel strike for each gait cycle \n",
        "      r_peaks_heel = self.get_max_per_gait_cycle(one_walk_lists[8],l_indices) # sensor 8 = right heal sensor\n",
        "      # Find maximum VGRF at toe off for each gait cycle\n",
        "      r_peaks_toe = self.get_max_per_gait_cycle(one_walk_lists[15],l_indices) # sensor 15 = right toe sensor\n",
        "\n",
        "\n",
        "      ## Saving data ##\n",
        "\n",
        "      # Raw Signals\n",
        "      self.signals_data.append([id,level,parkinson] +one_walk_lists)\n",
        "\n",
        "      # Statical\n",
        "      self.statical_data.append( [ id, level, parkinson \n",
        "                                , mean (l_swings_time) , np.std(l_swings_time), (mean (l_swings_time) / np.std(l_swings_time) *100)\n",
        "                                , mean (l_strides_time) , np.std(l_strides_time) , (mean (l_strides_time) / np.std(l_strides_time)*100)\n",
        "                                , kurtosis(l_strides_time), skew(l_strides_time)\n",
        "                                , mean (l_stances_time) , np.std(l_stances_time) , ( mean (l_stances_time) / np.std(l_stances_time) *100) \n",
        "\n",
        "                                , mean (r_swings_time) , np.std(r_swings_time), (mean (r_swings_time) / np.std(r_swings_time) *100)\n",
        "                                , mean (r_strides_time) , np.std(r_strides_time) , (mean (r_strides_time) / np.std(r_strides_time)*100)\n",
        "                                , kurtosis(r_strides_time), skew(r_strides_time)\n",
        "                                , mean (r_stances_time) , np.std(r_stances_time) , ( mean (r_stances_time) / np.std(r_stances_time) *100)\n",
        "                                \n",
        "                                , mean (l_peaks_heel) , np.std(l_peaks_heel) ,mean (l_peaks_toe) , np.std(l_peaks_toe)\n",
        "                                , mean (r_peaks_heel) , np.std(r_peaks_heel) ,mean (r_peaks_toe) , np.std(r_peaks_toe)\n",
        "                                  ] )\n",
        "      \n",
        "      \n",
        "      # Segmented Signals\n",
        "      \n",
        "      # NEED TO BE MOVED TO SEPERATE FUNCTION\n",
        "      # only for segmented data, for a trial we need each stance phase with the following \n",
        "      # swing phases's time, so here we are adjusting the phases to be equal\n",
        "\n",
        "      dif_l =  len(l_stances)-len(l_swings_time)\n",
        "      if (dif_l > 0):\n",
        "        l_stances=l_stances[:-dif_l]\n",
        "      elif(dif_l < 0):\n",
        "        l_swings_time= l_swings_time[:dif_l]\n",
        "\n",
        "      \n",
        "      dif_r =  len(r_stances)-len(r_swings_time)\n",
        "      if (dif_r>0):\n",
        "        r_stances=r_stances[:-dif_r]\n",
        "      elif(dif_r < 0):\n",
        "        r_swings_time = r_swings_time[:dif_r]\n",
        "       \n",
        "      self.cycles_data.append( [ id, level, parkinson ] \n",
        "                              + [l_stances] + [l_strides_time] + [l_swings_time] + [l_stances_time]\n",
        "                              + [r_stances] + [r_strides_time] + [r_swings_time] + [r_stances_time]\n",
        "                              + [l_peaks_heel] + [l_peaks_toe]\n",
        "                              + [r_peaks_heel] + [r_peaks_toe]\n",
        "                              )\n",
        "      \n",
        "\n",
        "    self.statical_data_to_df()\n",
        "    self.cycles_data_to_df()\n",
        "    self.signal_data_to_df()\n",
        "    ## Get individual stances data frames\n",
        "    self.ind_stances_to_df()\n",
        "    ## writing files ##\n",
        "    self.save_files()\n",
        "\n",
        "  def get_pd_level(self, subject_id):\n",
        "    level = self.dem_df[self.scale][dem_df['ID'] == subject_id ].values[0]\n",
        "    return level\n",
        "\n",
        "  def read_filter(self,name):\n",
        "      # Reading each file, skipping 3 columns (time,total right forces & total left forces)\n",
        "      # For gait cycle segmentation, to eliminate the effect of gait initiation and termenation,\n",
        "      # the first and last N=20 seconds of VGRF data was discarded.\n",
        "\n",
        "      one_walk = pd.read_csv(self.data_path + '/' + name,\n",
        "                             skiprows=list(range(1,self.rows_to_discard+1)) ,\n",
        "                             skipfooter=self.rows_to_discard,\n",
        "                             usecols = np.arange(1,17),\n",
        "                             engine = 'python')  \n",
        "      \n",
        "      # Usually, Vertical Ground React Force VGRF values less than 20N are generated from noise\n",
        "      one_walk.where(one_walk > 20, 0, inplace=True)\n",
        "\n",
        "      return one_walk\n",
        "\n",
        "  def segment_signal(self, signal):\n",
        "      # swing - stance phases repeatly\n",
        "      phases = [list(g) for k, g in groupby((signal), lambda x:x>0)]\n",
        "      \n",
        "      # Deleting the first and last phase, since the first and last 20 seconds were deleted,\n",
        "      # there's no garanty that the first and last phase are complete\n",
        "      # Hence, they are being deleted here just for safety\n",
        "\n",
        "      phases = phases[1:-1]\n",
        "\n",
        "      # filtering phases that is shorter than 20 becuase must propably it's noise\n",
        "      phases = [l for l in phases if len(l)>20]\n",
        "\n",
        "      # indices of the gait cycles\n",
        "      indices=[0]\n",
        "      for i in range(1, len(phases),2):\n",
        "        indices.append(indices[-1]+len(phases[i]) + len(phases[i-1]))\n",
        "\n",
        "      # stances phases\n",
        "      stances = [l for l in phases if any(l)]\n",
        "      \n",
        "      # strides times \n",
        "      strides_time =  [((len(phases[i]) + len(phases[i-1]) -1)*0.01 ) for i in range(1,len(phases),2)]\n",
        "\n",
        "      # swings time\n",
        "      swings_time = [(len(l)-1)*0.01 for l in phases if not all (l)]\n",
        "\n",
        "      # stance time \n",
        "      stances_time = [(len(l)-1)*0.01 for l in stances]\n",
        "\n",
        "      return stances, strides_time , swings_time, stances_time, indices\n",
        "\n",
        "  def get_max_per_gait_cycle(self, signal,indices):\n",
        "    gait_cycles = self.get_gait_cycles(signal, indices)\n",
        "    peaks = [max(cycle) for cycle in gait_cycles]\n",
        "    return peaks\n",
        "\n",
        "  def get_gait_cycles(self, signal, indices):\n",
        "    # get gait cycles\n",
        "    gait_cycles= [signal[indices[i]:indices[i+1]] for i in range(len(indices)-1)]\n",
        "    return gait_cycles\n",
        "\n",
        "  def signal_data_to_df(self):\n",
        "    self.signals_data_df = pd.DataFrame(self.signals_data, columns =[\"ID\", \"level\", \"y\", \"L1\", \"L2\",\"L3\", \"L4\",\"L5\",\"L6\",\"L7\",\"L8\",\n",
        "                                       \"R1\", \"R2\",\"R3\", \"R4\",\"R5\",\"R6\",\"R7\",\"R8\",\"Total_Force_Right\",\"Total_Force_Left\" ])\n",
        "     \n",
        "    \n",
        "  def cycles_data_to_df(self):\n",
        "    self.cycles_data_df = pd.DataFrame(self.cycles_data, columns =[\"ID\", \"level\", \"y\", \n",
        "                                                                   \"l_stances\", \"l_strides_time\", \"l_swings_time\" , \"l_stances_time\"\n",
        "                                                                  , \"r_stances\" , \"r_strides_time\" , \"r_swings_time\" , \"r_stances_time\"\n",
        "                                                                  , \"l_peaks_heel\" , \"l_peaks_toe\"\n",
        "                                                                  , \"r_peaks_heel\" , \"r_peaks_toe\" ])\n",
        "    \n",
        "\n",
        "  def statical_data_to_df(self):\n",
        "    self.statical_data_df = pd.DataFrame(self.statical_data, columns =[\"ID\", \"level\", \"y\"\n",
        "                                                                      , \"mean_left_swings_time\" , \"std_left_swings_time\", \"cv_left_swings_time\"\n",
        "                                                                      , \"mean_left_stride_time\" , \"std_left_stride_time\" ,\"cv_left_stride_time\"\n",
        "                                                                      , \"kurtosis_left_strides_time\", \"skew_left_strides_time\"\n",
        "                                                                      , \"mean_left_stance_time\" , \"std_left_stance_time\", \"cv_left_stance_time\"\n",
        "                                                                      , \"mean_right_swings_time\" , \"std_right_swings_time\", \"cv_right_swings_time\"\n",
        "                                                                      , \"mean_right_stride_time\" , \"std_right_stride_time\", \"cv_right_stride_time\"\n",
        "                                                                      , \"kurtosis_right_strides_time\", \"skew_right_strides_time\"\n",
        "                                                                      , \"mean_right_stance_time\" , \"std_right_stance_time\", \"cv_right_stance_time\"\n",
        "                                                                      , \"mean_left_peaks_heel\" , \"std_left_peaks_heel\"\n",
        "                                                                      , \"mean_left_peaks_toe\" , \"std_left_peaks_toe\"\n",
        "                                                                      , \"mean_right_peaks_heel\" , \"std_right_peaks_heel\"\n",
        "                                                                      , \"mean_right_peaks_toe\" , \"std_right_peaks_toe\"\n",
        "                                                                       ])\n",
        "  def ind_stances_to_df(self):\n",
        "    #droping NNOT WORKING HERE\n",
        "    self.left_stances_df = self.cycles_data_df.explode([\"l_stances\",\"l_swings_time\"])\n",
        "    self.left_stances_df = self.left_stances_df.drop(columns=[\"r_stances\" ,\t\"r_strides_time\" ,\t\"r_swings_time\" ,\t\"r_stances_time\", \"r_peaks_heel\" ,\t\"r_peaks_toe\"], axis=1)\n",
        "\n",
        "    self.right_stances_df = self.cycles_data_df.explode([\"r_stances\",\"r_swings_time\"])\n",
        "    self.right_stances_df = self.right_stances_df.drop(columns=[\"l_stances\" ,\t\"l_strides_time\" ,\t\"l_swings_time\" ,\t\"l_stances_time\", \"l_peaks_heel\" ,\t\"l_peaks_toe\"], axis=1)\n",
        "\n",
        "  def save_files(self):\n",
        "    self.signals_data_df.to_parquet(self.parquet_path+'signals.gzip')\n",
        "    self.cycles_data_df.to_parquet(self.parquet_path+'cyclels.gzip')\n",
        "    self.statical_data_df.to_parquet(self.parquet_path+'statical.gzip')\n",
        "    self.left_stances_df.to_parquet(self.parquet_path+'left_stances.gzip')\n",
        "    self.right_stances_df.to_parquet(self.parquet_path+'right_stances.gzip')"
      ]
    },
    {
      "cell_type": "markdown",
      "metadata": {
        "id": "H_sk20fPzLuN"
      },
      "source": [
        "### Prepare the data"
      ]
    },
    {
      "cell_type": "code",
      "execution_count": null,
      "metadata": {
        "colab": {
          "base_uri": "https://localhost:8080/",
          "height": 49,
          "referenced_widgets": [
            "76d430b27faf43bdadf157f552f13ae2",
            "29ebc352951d4fa0938beba218a394b8",
            "b6828ee43f97471abf45ccc60c277629",
            "ef49c0063f0244d2aeb3a2d9cab4ef4d",
            "549e36afb1344e5dac211583191e8bdf",
            "bff29d2b3d834c9ca2263759ef64a52e",
            "009a2cc28ae84588a4287bf39386769d",
            "2fabca6f213f46d5ac3f834242ebefa1",
            "884b0b1abc344bf2bdb4e38e6fc2fdbd",
            "0cc9fd76f4c34854b31e0409a13d62f3",
            "7c27d950cf8e4efebf2699e943a9e7d8"
          ]
        },
        "id": "n-MVu6AKJPk5",
        "outputId": "718416fb-5095-44da-8ae3-14cc87416fb1"
      },
      "outputs": [
        {
          "data": {
            "application/vnd.jupyter.widget-view+json": {
              "model_id": "76d430b27faf43bdadf157f552f13ae2",
              "version_major": 2,
              "version_minor": 0
            },
            "text/plain": [
              "  0%|          | 0/304 [00:00<?, ?it/s]"
            ]
          },
          "metadata": {},
          "output_type": "display_data"
        }
      ],
      "source": [
        "data = Data( 1, csvD_path, demographics,parquet_path)"
      ]
    },
    {
      "cell_type": "code",
      "execution_count": null,
      "metadata": {
        "id": "IfujtCJCre60"
      },
      "outputs": [],
      "source": [
        "data.cycles_data_df"
      ]
    },
    {
      "cell_type": "markdown",
      "metadata": {
        "id": "6gvkVqJ2zQFA"
      },
      "source": [
        "### Read already prepared data"
      ]
    },
    {
      "cell_type": "code",
      "execution_count": null,
      "metadata": {
        "id": "XzE-whMYt6OS"
      },
      "outputs": [],
      "source": [
        "data = Data( 0, \"\", \"\",parquet_path)"
      ]
    },
    {
      "cell_type": "code",
      "execution_count": null,
      "metadata": {
        "colab": {
          "base_uri": "https://localhost:8080/"
        },
        "id": "vnyD09XjuQbC",
        "outputId": "e7392cdf-9e01-4ba9-9f63-ad8ff1b6399d"
      },
      "outputs": [
        {
          "output_type": "execute_result",
          "data": {
            "text/plain": [
              "numpy.ndarray"
            ]
          },
          "metadata": {},
          "execution_count": 7
        }
      ],
      "source": [
        "type(data.signals_data_df[\"L1\"].iloc[-1]) "
      ]
    },
    {
      "cell_type": "markdown",
      "metadata": {
        "id": "gmQ47Qcp6D5S"
      },
      "source": [
        "### Example"
      ]
    },
    {
      "cell_type": "code",
      "execution_count": null,
      "metadata": {
        "colab": {
          "base_uri": "https://localhost:8080/",
          "height": 282
        },
        "id": "qzvCeNFa80go",
        "outputId": "9abcaf0e-d474-4933-84e2-b5e1f0c051bc"
      },
      "outputs": [
        {
          "data": {
            "text/plain": [
              "[<matplotlib.lines.Line2D at 0x7f30e86c43d0>]"
            ]
          },
          "execution_count": 90,
          "metadata": {},
          "output_type": "execute_result"
        },
        {
          "data": {
            "image/png": "[encoded data removed]",
            "text/plain": [
              "<Figure size 432x288 with 1 Axes>"
            ]
          },
          "metadata": {},
          "output_type": "display_data"
        }
      ],
      "source": [
        "# example of one stance phase \n",
        "y = data.left_stances_df['l_stances'].iloc[7]\n",
        "import matplotlib.pyplot as plt\n",
        "plt.plot(y)"
      ]
    },
    {
      "cell_type": "code",
      "execution_count": null,
      "metadata": {
        "colab": {
          "base_uri": "https://localhost:8080/",
          "height": 447
        },
        "id": "27AQ-HtRaTwA",
        "outputId": "435a1f28-6e12-4a00-b971-7000771c0486"
      },
      "outputs": [
        {
          "data": {
            "text/plain": [
              "[<matplotlib.lines.Line2D at 0x7fcaa4535280>]"
            ]
          },
          "execution_count": 15,
          "metadata": {},
          "output_type": "execute_result"
        },
        {
          "data": {
            "image/png": "[encoded data removed]",
            "text/plain": [
              "<Figure size 640x480 with 1 Axes>"
            ]
          },
          "metadata": {},
          "output_type": "display_data"
        }
      ],
      "source": [
        "# example of one stance phase \n",
        "y = data.right_stances_df['r_stances'].iloc[3]\n",
        "import matplotlib.pyplot as plt\n",
        "plt.plot(y)"
      ]
    },
    {
      "cell_type": "markdown",
      "metadata": {
        "id": "0_Wh3g6eut06"
      },
      "source": [
        "### FWHM\n"
      ]
    },
    {
      "cell_type": "code",
      "execution_count": null,
      "metadata": {
        "id": "tzUwiIe49ZBp"
      },
      "outputs": [],
      "source": [
        "def fwhm(y_values_temp, x_values):\n",
        "    y_values, temp_l, temp_r = [], [], []\n",
        "    ## print(y_values_temp, x_values)\n",
        "    # To make 'y_values_temp', a numpy array, into a python list\n",
        "    for x in range(0,len(y_values_temp)):\n",
        "        y_values.append(y_values_temp[x])\n",
        "    peak_height = max(y_values)\n",
        "    half_peak_height = max(y_values)/2\n",
        "    \n",
        "    # Splitting the y_values data into before and after x_value at peak height\n",
        "    y_l_temp = y_values[0:y_values.index(peak_height)]\n",
        "    y_r_temp = y_values[y_values.index(peak_height):len(y_values)]\n",
        "    \n",
        "    # Find 1st closest value to half_peak_height in y_l and y_r\n",
        "    y_l = [abs(x-half_peak_height) for x in y_l_temp] # the distances\n",
        "    y_l_min = min(y_l)\n",
        "    point_left=y_l_temp[y_l.index(y_l_min)]  \n",
        "    \n",
        "    y_r = [abs(x-half_peak_height) for x in y_r_temp] # the distances\n",
        "    point_right=y_r_temp[y_r.index(min(y_r))]  \n",
        "    \n",
        "    # y_l = nsmallest(1, y_l_temp, key=lambda x: abs(x-half_peak_height))\n",
        "    # y_r = nsmallest(1, y_r_temp, key=lambda x: abs(x-half_peak_height))\n",
        "    \n",
        "    # Gets x_value pairs for y_l and y_r\n",
        "    temp_l.append(x_values[y_l_temp.index(point_left)])\n",
        "    temp_r.append(x_values[y_r_temp.index(point_right)])\n",
        "    fwhm_n = temp_l[0] - temp_r[0]\n",
        "    return abs(fwhm_n)"
      ]
    },
    {
      "cell_type": "code",
      "execution_count": null,
      "metadata": {
        "id": "BDcSn5CwlWEH"
      },
      "outputs": [],
      "source": [
        "# data.left_stances_df.drop(index=data.left_stances_df.index[0], axis=0, inplace=True)"
      ]
    },
    {
      "cell_type": "code",
      "execution_count": null,
      "metadata": {
        "id": "wfhLUTe0nxw0"
      },
      "outputs": [],
      "source": [
        "#data.left_stances_df.head()"
      ]
    },
    {
      "cell_type": "code",
      "execution_count": null,
      "metadata": {
        "id": "MwGB0wAvonbm"
      },
      "outputs": [],
      "source": [
        "### SHOULD be applied for all dataframes after `explode`\n",
        "data.right_stances_df = data.right_stances_df.reset_index(drop=True)"
      ]
    },
    {
      "cell_type": "code",
      "execution_count": null,
      "metadata": {
        "id": "14ZC1TxJK9je"
      },
      "outputs": [],
      "source": [
        "data.right_stances_df['max_peak'] = data.right_stances_df['r_stances'].apply(lambda x: max(x))"
      ]
    },
    {
      "cell_type": "code",
      "execution_count": null,
      "metadata": {
        "id": "QQ7qyuDIMYqX"
      },
      "outputs": [],
      "source": [
        "data.right_stances_df['FWHM'] = data.right_stances_df['r_stances'].apply(lambda x: fwhm(x, np.arange(0, len(x)*0.01,0.01)))"
      ]
    },
    {
      "cell_type": "code",
      "execution_count": null,
      "metadata": {
        "colab": {
          "base_uri": "https://localhost:8080/",
          "height": 337
        },
        "id": "o4i5L4wQuWtC",
        "outputId": "1217016b-66de-4e14-86f6-11d537cfb506"
      },
      "outputs": [
        {
          "output_type": "execute_result",
          "data": {
            "text/plain": [
              "       ID  level  y                                          r_stances  \\\n",
              "0  GaPt03    3.0  1  [20.79, 27.72, 32.45, 37.07, 63.69, 110.33, 13...   \n",
              "1  GaPt03    3.0  1  [52.8, 69.19, 57.64, 51.7, 60.94, 92.84, 140.1...   \n",
              "2  GaPt03    3.0  1  [23.1, 32.45, 39.38, 46.31, 116.82, 155.43, 17...   \n",
              "3  GaPt03    3.0  1  [23.1, 41.69, 55.55, 119.13, 154.55, 200.42, 2...   \n",
              "4  GaPt03    3.0  1  [25.41, 37.07, 55.55, 106.37, 152.02, 182.05, ...   \n",
              "\n",
              "                                      r_strides_time  r_swings_time  \\\n",
              "0  [1.59, 1.27, 1.41, 1.49, 1.56, 1.41, 1.5, 1.32...           0.39   \n",
              "1  [1.59, 1.27, 1.41, 1.49, 1.56, 1.41, 1.5, 1.32...           0.21   \n",
              "2  [1.59, 1.27, 1.41, 1.49, 1.56, 1.41, 1.5, 1.32...           0.41   \n",
              "3  [1.59, 1.27, 1.41, 1.49, 1.56, 1.41, 1.5, 1.32...           0.43   \n",
              "4  [1.59, 1.27, 1.41, 1.49, 1.56, 1.41, 1.5, 1.32...           0.41   \n",
              "\n",
              "                                      r_stances_time  \\\n",
              "0  [1.19, 1.05, 0.99, 1.05, 1.1400000000000001, 0...   \n",
              "1  [1.19, 1.05, 0.99, 1.05, 1.1400000000000001, 0...   \n",
              "2  [1.19, 1.05, 0.99, 1.05, 1.1400000000000001, 0...   \n",
              "3  [1.19, 1.05, 0.99, 1.05, 1.1400000000000001, 0...   \n",
              "4  [1.19, 1.05, 0.99, 1.05, 1.1400000000000001, 0...   \n",
              "\n",
              "                                        r_peaks_heel  \\\n",
              "0  [107.8, 71.17, 111.1, 141.24, 101.2, 123.42, 1...   \n",
              "1  [107.8, 71.17, 111.1, 141.24, 101.2, 123.42, 1...   \n",
              "2  [107.8, 71.17, 111.1, 141.24, 101.2, 123.42, 1...   \n",
              "3  [107.8, 71.17, 111.1, 141.24, 101.2, 123.42, 1...   \n",
              "4  [107.8, 71.17, 111.1, 141.24, 101.2, 123.42, 1...   \n",
              "\n",
              "                                         r_peaks_toe  max_peak  FWHM  \n",
              "0  [80.63, 134.42, 80.63, 71.61, 98.78, 130.02, 8...    731.61  0.48  \n",
              "1  [80.63, 134.42, 80.63, 71.61, 98.78, 130.02, 8...    774.73  0.20  \n",
              "2  [80.63, 134.42, 80.63, 71.61, 98.78, 130.02, 8...    717.75  0.05  \n",
              "3  [80.63, 134.42, 80.63, 71.61, 98.78, 130.02, 8...    742.50  0.10  \n",
              "4  [80.63, 134.42, 80.63, 71.61, 98.78, 130.02, 8...    779.79  0.17  "
            ],
            "text/html": [
              "\n",
              "  <div id=\"df-b3815af6-1393-4640-906d-b74c173a14c9\">\n",
              "    <div class=\"colab-df-container\">\n",
              "      <div>\n",
              "<style scoped>\n",
              "    .dataframe tbody tr th:only-of-type {\n",
              "        vertical-align: middle;\n",
              "    }\n",
              "\n",
              "    .dataframe tbody tr th {\n",
              "        vertical-align: top;\n",
              "    }\n",
              "\n",
              "    .dataframe thead th {\n",
              "        text-align: right;\n",
              "    }\n",
              "</style>\n",
              "<table border=\"1\" class=\"dataframe\">\n",
              "  <thead>\n",
              "    <tr style=\"text-align: right;\">\n",
              "      <th></th>\n",
              "      <th>ID</th>\n",
              "      <th>level</th>\n",
              "      <th>y</th>\n",
              "      <th>r_stances</th>\n",
              "      <th>r_strides_time</th>\n",
              "      <th>r_swings_time</th>\n",
              "      <th>r_stances_time</th>\n",
              "      <th>r_peaks_heel</th>\n",
              "      <th>r_peaks_toe</th>\n",
              "      <th>max_peak</th>\n",
              "      <th>FWHM</th>\n",
              "    </tr>\n",
              "  </thead>\n",
              "  <tbody>\n",
              "    <tr>\n",
              "      <th>0</th>\n",
              "      <td>GaPt03</td>\n",
              "      <td>3.0</td>\n",
              "      <td>1</td>\n",
              "      <td>[20.79, 27.72, 32.45, 37.07, 63.69, 110.33, 13...</td>\n",
              "      <td>[1.59, 1.27, 1.41, 1.49, 1.56, 1.41, 1.5, 1.32...</td>\n",
              "      <td>0.39</td>\n",
              "      <td>[1.19, 1.05, 0.99, 1.05, 1.1400000000000001, 0...</td>\n",
              "      <td>[107.8, 71.17, 111.1, 141.24, 101.2, 123.42, 1...</td>\n",
              "      <td>[80.63, 134.42, 80.63, 71.61, 98.78, 130.02, 8...</td>\n",
              "      <td>731.61</td>\n",
              "      <td>0.48</td>\n",
              "    </tr>\n",
              "    <tr>\n",
              "      <th>1</th>\n",
              "      <td>GaPt03</td>\n",
              "      <td>3.0</td>\n",
              "      <td>1</td>\n",
              "      <td>[52.8, 69.19, 57.64, 51.7, 60.94, 92.84, 140.1...</td>\n",
              "      <td>[1.59, 1.27, 1.41, 1.49, 1.56, 1.41, 1.5, 1.32...</td>\n",
              "      <td>0.21</td>\n",
              "      <td>[1.19, 1.05, 0.99, 1.05, 1.1400000000000001, 0...</td>\n",
              "      <td>[107.8, 71.17, 111.1, 141.24, 101.2, 123.42, 1...</td>\n",
              "      <td>[80.63, 134.42, 80.63, 71.61, 98.78, 130.02, 8...</td>\n",
              "      <td>774.73</td>\n",
              "      <td>0.20</td>\n",
              "    </tr>\n",
              "    <tr>\n",
              "      <th>2</th>\n",
              "      <td>GaPt03</td>\n",
              "      <td>3.0</td>\n",
              "      <td>1</td>\n",
              "      <td>[23.1, 32.45, 39.38, 46.31, 116.82, 155.43, 17...</td>\n",
              "      <td>[1.59, 1.27, 1.41, 1.49, 1.56, 1.41, 1.5, 1.32...</td>\n",
              "      <td>0.41</td>\n",
              "      <td>[1.19, 1.05, 0.99, 1.05, 1.1400000000000001, 0...</td>\n",
              "      <td>[107.8, 71.17, 111.1, 141.24, 101.2, 123.42, 1...</td>\n",
              "      <td>[80.63, 134.42, 80.63, 71.61, 98.78, 130.02, 8...</td>\n",
              "      <td>717.75</td>\n",
              "      <td>0.05</td>\n",
              "    </tr>\n",
              "    <tr>\n",
              "      <th>3</th>\n",
              "      <td>GaPt03</td>\n",
              "      <td>3.0</td>\n",
              "      <td>1</td>\n",
              "      <td>[23.1, 41.69, 55.55, 119.13, 154.55, 200.42, 2...</td>\n",
              "      <td>[1.59, 1.27, 1.41, 1.49, 1.56, 1.41, 1.5, 1.32...</td>\n",
              "      <td>0.43</td>\n",
              "      <td>[1.19, 1.05, 0.99, 1.05, 1.1400000000000001, 0...</td>\n",
              "      <td>[107.8, 71.17, 111.1, 141.24, 101.2, 123.42, 1...</td>\n",
              "      <td>[80.63, 134.42, 80.63, 71.61, 98.78, 130.02, 8...</td>\n",
              "      <td>742.50</td>\n",
              "      <td>0.10</td>\n",
              "    </tr>\n",
              "    <tr>\n",
              "      <th>4</th>\n",
              "      <td>GaPt03</td>\n",
              "      <td>3.0</td>\n",
              "      <td>1</td>\n",
              "      <td>[25.41, 37.07, 55.55, 106.37, 152.02, 182.05, ...</td>\n",
              "      <td>[1.59, 1.27, 1.41, 1.49, 1.56, 1.41, 1.5, 1.32...</td>\n",
              "      <td>0.41</td>\n",
              "      <td>[1.19, 1.05, 0.99, 1.05, 1.1400000000000001, 0...</td>\n",
              "      <td>[107.8, 71.17, 111.1, 141.24, 101.2, 123.42, 1...</td>\n",
              "      <td>[80.63, 134.42, 80.63, 71.61, 98.78, 130.02, 8...</td>\n",
              "      <td>779.79</td>\n",
              "      <td>0.17</td>\n",
              "    </tr>\n",
              "  </tbody>\n",
              "</table>\n",
              "</div>\n",
              "      <button class=\"colab-df-convert\" onclick=\"convertToInteractive('df-b3815af6-1393-4640-906d-b74c173a14c9')\"\n",
              "              title=\"Convert this dataframe to an interactive table.\"\n",
              "              style=\"display:none;\">\n",
              "        \n",
              "  <svg xmlns=\"http://www.w3.org/2000/svg\" height=\"24px\"viewBox=\"0 0 24 24\"\n",
              "       width=\"24px\">\n",
              "    <path d=\"M0 0h24v24H0V0z\" fill=\"none\"/>\n",
              "    <path d=\"M18.56 5.44l.94 2.06.94-2.06 2.06-.94-2.06-.94-.94-2.06-.94 2.06-2.06.94zm-11 1L8.5 8.5l.94-2.06 2.06-.94-2.06-.94L8.5 2.5l-.94 2.06-2.06.94zm10 10l.94 2.06.94-2.06 2.06-.94-2.06-.94-.94-2.06-.94 2.06-2.06.94z\"/><path d=\"M17.41 7.96l-1.37-1.37c-.4-.4-.92-.59-1.43-.59-.52 0-1.04.2-1.43.59L10.3 9.45l-7.72 7.72c-.78.78-.78 2.05 0 2.83L4 21.41c.39.39.9.59 1.41.59.51 0 1.02-.2 1.41-.59l7.78-7.78 2.81-2.81c.8-.78.8-2.07 0-2.86zM5.41 20L4 18.59l7.72-7.72 1.47 1.35L5.41 20z\"/>\n",
              "  </svg>\n",
              "      </button>\n",
              "      \n",
              "  <style>\n",
              "    .colab-df-container {\n",
              "      display:flex;\n",
              "      flex-wrap:wrap;\n",
              "      gap: 12px;\n",
              "    }\n",
              "\n",
              "    .colab-df-convert {\n",
              "      background-color: #E8F0FE;\n",
              "      border: none;\n",
              "      border-radius: 50%;\n",
              "      cursor: pointer;\n",
              "      display: none;\n",
              "      fill: #1967D2;\n",
              "      height: 32px;\n",
              "      padding: 0 0 0 0;\n",
              "      width: 32px;\n",
              "    }\n",
              "\n",
              "    .colab-df-convert:hover {\n",
              "      background-color: #E2EBFA;\n",
              "      box-shadow: 0px 1px 2px rgba(60, 64, 67, 0.3), 0px 1px 3px 1px rgba(60, 64, 67, 0.15);\n",
              "      fill: #174EA6;\n",
              "    }\n",
              "\n",
              "    [theme=dark] .colab-df-convert {\n",
              "      background-color: #3B4455;\n",
              "      fill: #D2E3FC;\n",
              "    }\n",
              "\n",
              "    [theme=dark] .colab-df-convert:hover {\n",
              "      background-color: #434B5C;\n",
              "      box-shadow: 0px 1px 3px 1px rgba(0, 0, 0, 0.15);\n",
              "      filter: drop-shadow(0px 1px 2px rgba(0, 0, 0, 0.3));\n",
              "      fill: #FFFFFF;\n",
              "    }\n",
              "  </style>\n",
              "\n",
              "      <script>\n",
              "        const buttonEl =\n",
              "          document.querySelector('#df-b3815af6-1393-4640-906d-b74c173a14c9 button.colab-df-convert');\n",
              "        buttonEl.style.display =\n",
              "          google.colab.kernel.accessAllowed ? 'block' : 'none';\n",
              "\n",
              "        async function convertToInteractive(key) {\n",
              "          const element = document.querySelector('#df-b3815af6-1393-4640-906d-b74c173a14c9');\n",
              "          const dataTable =\n",
              "            await google.colab.kernel.invokeFunction('convertToInteractive',\n",
              "                                                     [key], {});\n",
              "          if (!dataTable) return;\n",
              "\n",
              "          const docLinkHtml = 'Like what you see? Visit the ' +\n",
              "            '<a target=\"_blank\" href=https://colab.research.google.com/notebooks/data_table.ipynb>data table notebook</a>'\n",
              "            + ' to learn more about interactive tables.';\n",
              "          element.innerHTML = '';\n",
              "          dataTable['output_type'] = 'display_data';\n",
              "          await google.colab.output.renderOutput(dataTable, element);\n",
              "          const docLink = document.createElement('div');\n",
              "          docLink.innerHTML = docLinkHtml;\n",
              "          element.appendChild(docLink);\n",
              "        }\n",
              "      </script>\n",
              "    </div>\n",
              "  </div>\n",
              "  "
            ]
          },
          "metadata": {},
          "execution_count": 10
        }
      ],
      "source": [
        "data.right_stances_df.head()"
      ]
    },
    {
      "cell_type": "markdown",
      "metadata": {
        "id": "Zx3AE4Ab0bRL"
      },
      "source": [
        "#### Padding"
      ]
    },
    {
      "cell_type": "code",
      "execution_count": null,
      "metadata": {
        "id": "-8UGcqn314MB"
      },
      "outputs": [],
      "source": [
        "max_length = max([len(row) for row in data.right_stances_df['r_stances']])"
      ]
    },
    {
      "cell_type": "code",
      "execution_count": null,
      "metadata": {
        "id": "3Tn0jp1d1_4e"
      },
      "outputs": [],
      "source": [
        "padded_data = np.zeros((len(data.right_stances_df['r_stances']), max_length))\n",
        "for i, row in enumerate(data.right_stances_df['r_stances']):\n",
        "    padded_data[i, :len(row)] = row"
      ]
    },
    {
      "cell_type": "code",
      "execution_count": null,
      "metadata": {
        "id": "OlsSCtbp90I6"
      },
      "outputs": [],
      "source": [
        "padded_data=np.reshape(padded_data,(len(data.right_stances_df['r_stances']), 1,-1))"
      ]
    },
    {
      "cell_type": "code",
      "execution_count": null,
      "metadata": {
        "id": "2sJpjrRP-JGb"
      },
      "outputs": [],
      "source": [
        "padded_data=padded_data.tolist()"
      ]
    },
    {
      "cell_type": "code",
      "execution_count": null,
      "metadata": {
        "id": "1yN3RLYq7b0g"
      },
      "outputs": [],
      "source": [
        "padded_data_df = pd.DataFrame(padded_data, columns =[\"padded_stances\"])"
      ]
    },
    {
      "cell_type": "code",
      "execution_count": null,
      "metadata": {
        "colab": {
          "base_uri": "https://localhost:8080/",
          "height": 424
        },
        "id": "afxvzMR2-pjl",
        "outputId": "07d5cc12-da73-4519-af6d-9308602208a0"
      },
      "outputs": [
        {
          "output_type": "execute_result",
          "data": {
            "text/plain": [
              "                                          padded_stances\n",
              "0      [20.79, 27.72, 32.45, 37.07, 63.69, 110.33, 13...\n",
              "1      [52.8, 69.19, 57.64, 51.7, 60.94, 92.84, 140.1...\n",
              "2      [23.1, 32.45, 39.38, 46.31, 116.82, 155.43, 17...\n",
              "3      [23.1, 41.69, 55.55, 119.13, 154.55, 200.42, 2...\n",
              "4      [25.41, 37.07, 55.55, 106.37, 152.02, 182.05, ...\n",
              "...                                                  ...\n",
              "18382  [78.65, 302.28, 390.28, 478.83, 535.81, 577.39...\n",
              "18383  [27.39, 213.51, 264.44, 391.15999999999997, 46...\n",
              "18384  [47.96, 264.44, 309.65000000000003, 429.11, 50...\n",
              "18385  [61.93, 278.3, 327.58, 446.82, 507.53999999999...\n",
              "18386  [29.7, 211.09, 285.34, 393.03, 465.3, 524.8100...\n",
              "\n",
              "[18387 rows x 1 columns]"
            ],
            "text/html": [
              "\n",
              "  <div id=\"df-bdb71ea5-f0de-483b-801d-90b8ddb86d14\">\n",
              "    <div class=\"colab-df-container\">\n",
              "      <div>\n",
              "<style scoped>\n",
              "    .dataframe tbody tr th:only-of-type {\n",
              "        vertical-align: middle;\n",
              "    }\n",
              "\n",
              "    .dataframe tbody tr th {\n",
              "        vertical-align: top;\n",
              "    }\n",
              "\n",
              "    .dataframe thead th {\n",
              "        text-align: right;\n",
              "    }\n",
              "</style>\n",
              "<table border=\"1\" class=\"dataframe\">\n",
              "  <thead>\n",
              "    <tr style=\"text-align: right;\">\n",
              "      <th></th>\n",
              "      <th>padded_stances</th>\n",
              "    </tr>\n",
              "  </thead>\n",
              "  <tbody>\n",
              "    <tr>\n",
              "      <th>0</th>\n",
              "      <td>[20.79, 27.72, 32.45, 37.07, 63.69, 110.33, 13...</td>\n",
              "    </tr>\n",
              "    <tr>\n",
              "      <th>1</th>\n",
              "      <td>[52.8, 69.19, 57.64, 51.7, 60.94, 92.84, 140.1...</td>\n",
              "    </tr>\n",
              "    <tr>\n",
              "      <th>2</th>\n",
              "      <td>[23.1, 32.45, 39.38, 46.31, 116.82, 155.43, 17...</td>\n",
              "    </tr>\n",
              "    <tr>\n",
              "      <th>3</th>\n",
              "      <td>[23.1, 41.69, 55.55, 119.13, 154.55, 200.42, 2...</td>\n",
              "    </tr>\n",
              "    <tr>\n",
              "      <th>4</th>\n",
              "      <td>[25.41, 37.07, 55.55, 106.37, 152.02, 182.05, ...</td>\n",
              "    </tr>\n",
              "    <tr>\n",
              "      <th>...</th>\n",
              "      <td>...</td>\n",
              "    </tr>\n",
              "    <tr>\n",
              "      <th>18382</th>\n",
              "      <td>[78.65, 302.28, 390.28, 478.83, 535.81, 577.39...</td>\n",
              "    </tr>\n",
              "    <tr>\n",
              "      <th>18383</th>\n",
              "      <td>[27.39, 213.51, 264.44, 391.15999999999997, 46...</td>\n",
              "    </tr>\n",
              "    <tr>\n",
              "      <th>18384</th>\n",
              "      <td>[47.96, 264.44, 309.65000000000003, 429.11, 50...</td>\n",
              "    </tr>\n",
              "    <tr>\n",
              "      <th>18385</th>\n",
              "      <td>[61.93, 278.3, 327.58, 446.82, 507.53999999999...</td>\n",
              "    </tr>\n",
              "    <tr>\n",
              "      <th>18386</th>\n",
              "      <td>[29.7, 211.09, 285.34, 393.03, 465.3, 524.8100...</td>\n",
              "    </tr>\n",
              "  </tbody>\n",
              "</table>\n",
              "<p>18387 rows × 1 columns</p>\n",
              "</div>\n",
              "      <button class=\"colab-df-convert\" onclick=\"convertToInteractive('df-bdb71ea5-f0de-483b-801d-90b8ddb86d14')\"\n",
              "              title=\"Convert this dataframe to an interactive table.\"\n",
              "              style=\"display:none;\">\n",
              "        \n",
              "  <svg xmlns=\"http://www.w3.org/2000/svg\" height=\"24px\"viewBox=\"0 0 24 24\"\n",
              "       width=\"24px\">\n",
              "    <path d=\"M0 0h24v24H0V0z\" fill=\"none\"/>\n",
              "    <path d=\"M18.56 5.44l.94 2.06.94-2.06 2.06-.94-2.06-.94-.94-2.06-.94 2.06-2.06.94zm-11 1L8.5 8.5l.94-2.06 2.06-.94-2.06-.94L8.5 2.5l-.94 2.06-2.06.94zm10 10l.94 2.06.94-2.06 2.06-.94-2.06-.94-.94-2.06-.94 2.06-2.06.94z\"/><path d=\"M17.41 7.96l-1.37-1.37c-.4-.4-.92-.59-1.43-.59-.52 0-1.04.2-1.43.59L10.3 9.45l-7.72 7.72c-.78.78-.78 2.05 0 2.83L4 21.41c.39.39.9.59 1.41.59.51 0 1.02-.2 1.41-.59l7.78-7.78 2.81-2.81c.8-.78.8-2.07 0-2.86zM5.41 20L4 18.59l7.72-7.72 1.47 1.35L5.41 20z\"/>\n",
              "  </svg>\n",
              "      </button>\n",
              "      \n",
              "  <style>\n",
              "    .colab-df-container {\n",
              "      display:flex;\n",
              "      flex-wrap:wrap;\n",
              "      gap: 12px;\n",
              "    }\n",
              "\n",
              "    .colab-df-convert {\n",
              "      background-color: #E8F0FE;\n",
              "      border: none;\n",
              "      border-radius: 50%;\n",
              "      cursor: pointer;\n",
              "      display: none;\n",
              "      fill: #1967D2;\n",
              "      height: 32px;\n",
              "      padding: 0 0 0 0;\n",
              "      width: 32px;\n",
              "    }\n",
              "\n",
              "    .colab-df-convert:hover {\n",
              "      background-color: #E2EBFA;\n",
              "      box-shadow: 0px 1px 2px rgba(60, 64, 67, 0.3), 0px 1px 3px 1px rgba(60, 64, 67, 0.15);\n",
              "      fill: #174EA6;\n",
              "    }\n",
              "\n",
              "    [theme=dark] .colab-df-convert {\n",
              "      background-color: #3B4455;\n",
              "      fill: #D2E3FC;\n",
              "    }\n",
              "\n",
              "    [theme=dark] .colab-df-convert:hover {\n",
              "      background-color: #434B5C;\n",
              "      box-shadow: 0px 1px 3px 1px rgba(0, 0, 0, 0.15);\n",
              "      filter: drop-shadow(0px 1px 2px rgba(0, 0, 0, 0.3));\n",
              "      fill: #FFFFFF;\n",
              "    }\n",
              "  </style>\n",
              "\n",
              "      <script>\n",
              "        const buttonEl =\n",
              "          document.querySelector('#df-bdb71ea5-f0de-483b-801d-90b8ddb86d14 button.colab-df-convert');\n",
              "        buttonEl.style.display =\n",
              "          google.colab.kernel.accessAllowed ? 'block' : 'none';\n",
              "\n",
              "        async function convertToInteractive(key) {\n",
              "          const element = document.querySelector('#df-bdb71ea5-f0de-483b-801d-90b8ddb86d14');\n",
              "          const dataTable =\n",
              "            await google.colab.kernel.invokeFunction('convertToInteractive',\n",
              "                                                     [key], {});\n",
              "          if (!dataTable) return;\n",
              "\n",
              "          const docLinkHtml = 'Like what you see? Visit the ' +\n",
              "            '<a target=\"_blank\" href=https://colab.research.google.com/notebooks/data_table.ipynb>data table notebook</a>'\n",
              "            + ' to learn more about interactive tables.';\n",
              "          element.innerHTML = '';\n",
              "          dataTable['output_type'] = 'display_data';\n",
              "          await google.colab.output.renderOutput(dataTable, element);\n",
              "          const docLink = document.createElement('div');\n",
              "          docLink.innerHTML = docLinkHtml;\n",
              "          element.appendChild(docLink);\n",
              "        }\n",
              "      </script>\n",
              "    </div>\n",
              "  </div>\n",
              "  "
            ]
          },
          "metadata": {},
          "execution_count": 16
        }
      ],
      "source": [
        "padded_data_df"
      ]
    },
    {
      "cell_type": "code",
      "execution_count": null,
      "metadata": {
        "id": "BPwb9J0v-v4v"
      },
      "outputs": [],
      "source": [
        "data.right_stances_df['padded_stances']=padded_data_df"
      ]
    },
    {
      "cell_type": "code",
      "execution_count": null,
      "metadata": {
        "colab": {
          "base_uri": "https://localhost:8080/",
          "height": 424
        },
        "id": "KK2Ihg-q_AQv",
        "outputId": "6fe9e864-c7a1-4173-f480-42f3f8f5db81"
      },
      "outputs": [
        {
          "output_type": "execute_result",
          "data": {
            "text/plain": [
              "       ID  level  y                                          r_stances  \\\n",
              "0  GaPt03    3.0  1  [20.79, 27.72, 32.45, 37.07, 63.69, 110.33, 13...   \n",
              "1  GaPt03    3.0  1  [52.8, 69.19, 57.64, 51.7, 60.94, 92.84, 140.1...   \n",
              "2  GaPt03    3.0  1  [23.1, 32.45, 39.38, 46.31, 116.82, 155.43, 17...   \n",
              "3  GaPt03    3.0  1  [23.1, 41.69, 55.55, 119.13, 154.55, 200.42, 2...   \n",
              "4  GaPt03    3.0  1  [25.41, 37.07, 55.55, 106.37, 152.02, 182.05, ...   \n",
              "\n",
              "                                      r_strides_time  r_swings_time  \\\n",
              "0  [1.59, 1.27, 1.41, 1.49, 1.56, 1.41, 1.5, 1.32...           0.39   \n",
              "1  [1.59, 1.27, 1.41, 1.49, 1.56, 1.41, 1.5, 1.32...           0.21   \n",
              "2  [1.59, 1.27, 1.41, 1.49, 1.56, 1.41, 1.5, 1.32...           0.41   \n",
              "3  [1.59, 1.27, 1.41, 1.49, 1.56, 1.41, 1.5, 1.32...           0.43   \n",
              "4  [1.59, 1.27, 1.41, 1.49, 1.56, 1.41, 1.5, 1.32...           0.41   \n",
              "\n",
              "                                      r_stances_time  \\\n",
              "0  [1.19, 1.05, 0.99, 1.05, 1.1400000000000001, 0...   \n",
              "1  [1.19, 1.05, 0.99, 1.05, 1.1400000000000001, 0...   \n",
              "2  [1.19, 1.05, 0.99, 1.05, 1.1400000000000001, 0...   \n",
              "3  [1.19, 1.05, 0.99, 1.05, 1.1400000000000001, 0...   \n",
              "4  [1.19, 1.05, 0.99, 1.05, 1.1400000000000001, 0...   \n",
              "\n",
              "                                        r_peaks_heel  \\\n",
              "0  [107.8, 71.17, 111.1, 141.24, 101.2, 123.42, 1...   \n",
              "1  [107.8, 71.17, 111.1, 141.24, 101.2, 123.42, 1...   \n",
              "2  [107.8, 71.17, 111.1, 141.24, 101.2, 123.42, 1...   \n",
              "3  [107.8, 71.17, 111.1, 141.24, 101.2, 123.42, 1...   \n",
              "4  [107.8, 71.17, 111.1, 141.24, 101.2, 123.42, 1...   \n",
              "\n",
              "                                         r_peaks_toe  max_peak  FWHM  \\\n",
              "0  [80.63, 134.42, 80.63, 71.61, 98.78, 130.02, 8...    731.61  0.48   \n",
              "1  [80.63, 134.42, 80.63, 71.61, 98.78, 130.02, 8...    774.73  0.20   \n",
              "2  [80.63, 134.42, 80.63, 71.61, 98.78, 130.02, 8...    717.75  0.05   \n",
              "3  [80.63, 134.42, 80.63, 71.61, 98.78, 130.02, 8...    742.50  0.10   \n",
              "4  [80.63, 134.42, 80.63, 71.61, 98.78, 130.02, 8...    779.79  0.17   \n",
              "\n",
              "                                      padded_stances  \n",
              "0  [20.79, 27.72, 32.45, 37.07, 63.69, 110.33, 13...  \n",
              "1  [52.8, 69.19, 57.64, 51.7, 60.94, 92.84, 140.1...  \n",
              "2  [23.1, 32.45, 39.38, 46.31, 116.82, 155.43, 17...  \n",
              "3  [23.1, 41.69, 55.55, 119.13, 154.55, 200.42, 2...  \n",
              "4  [25.41, 37.07, 55.55, 106.37, 152.02, 182.05, ...  "
            ],
            "text/html": [
              "\n",
              "  <div id=\"df-acf328a4-6b67-40ab-90be-efc50d1c9843\">\n",
              "    <div class=\"colab-df-container\">\n",
              "      <div>\n",
              "<style scoped>\n",
              "    .dataframe tbody tr th:only-of-type {\n",
              "        vertical-align: middle;\n",
              "    }\n",
              "\n",
              "    .dataframe tbody tr th {\n",
              "        vertical-align: top;\n",
              "    }\n",
              "\n",
              "    .dataframe thead th {\n",
              "        text-align: right;\n",
              "    }\n",
              "</style>\n",
              "<table border=\"1\" class=\"dataframe\">\n",
              "  <thead>\n",
              "    <tr style=\"text-align: right;\">\n",
              "      <th></th>\n",
              "      <th>ID</th>\n",
              "      <th>level</th>\n",
              "      <th>y</th>\n",
              "      <th>r_stances</th>\n",
              "      <th>r_strides_time</th>\n",
              "      <th>r_swings_time</th>\n",
              "      <th>r_stances_time</th>\n",
              "      <th>r_peaks_heel</th>\n",
              "      <th>r_peaks_toe</th>\n",
              "      <th>max_peak</th>\n",
              "      <th>FWHM</th>\n",
              "      <th>padded_stances</th>\n",
              "    </tr>\n",
              "  </thead>\n",
              "  <tbody>\n",
              "    <tr>\n",
              "      <th>0</th>\n",
              "      <td>GaPt03</td>\n",
              "      <td>3.0</td>\n",
              "      <td>1</td>\n",
              "      <td>[20.79, 27.72, 32.45, 37.07, 63.69, 110.33, 13...</td>\n",
              "      <td>[1.59, 1.27, 1.41, 1.49, 1.56, 1.41, 1.5, 1.32...</td>\n",
              "      <td>0.39</td>\n",
              "      <td>[1.19, 1.05, 0.99, 1.05, 1.1400000000000001, 0...</td>\n",
              "      <td>[107.8, 71.17, 111.1, 141.24, 101.2, 123.42, 1...</td>\n",
              "      <td>[80.63, 134.42, 80.63, 71.61, 98.78, 130.02, 8...</td>\n",
              "      <td>731.61</td>\n",
              "      <td>0.48</td>\n",
              "      <td>[20.79, 27.72, 32.45, 37.07, 63.69, 110.33, 13...</td>\n",
              "    </tr>\n",
              "    <tr>\n",
              "      <th>1</th>\n",
              "      <td>GaPt03</td>\n",
              "      <td>3.0</td>\n",
              "      <td>1</td>\n",
              "      <td>[52.8, 69.19, 57.64, 51.7, 60.94, 92.84, 140.1...</td>\n",
              "      <td>[1.59, 1.27, 1.41, 1.49, 1.56, 1.41, 1.5, 1.32...</td>\n",
              "      <td>0.21</td>\n",
              "      <td>[1.19, 1.05, 0.99, 1.05, 1.1400000000000001, 0...</td>\n",
              "      <td>[107.8, 71.17, 111.1, 141.24, 101.2, 123.42, 1...</td>\n",
              "      <td>[80.63, 134.42, 80.63, 71.61, 98.78, 130.02, 8...</td>\n",
              "      <td>774.73</td>\n",
              "      <td>0.20</td>\n",
              "      <td>[52.8, 69.19, 57.64, 51.7, 60.94, 92.84, 140.1...</td>\n",
              "    </tr>\n",
              "    <tr>\n",
              "      <th>2</th>\n",
              "      <td>GaPt03</td>\n",
              "      <td>3.0</td>\n",
              "      <td>1</td>\n",
              "      <td>[23.1, 32.45, 39.38, 46.31, 116.82, 155.43, 17...</td>\n",
              "      <td>[1.59, 1.27, 1.41, 1.49, 1.56, 1.41, 1.5, 1.32...</td>\n",
              "      <td>0.41</td>\n",
              "      <td>[1.19, 1.05, 0.99, 1.05, 1.1400000000000001, 0...</td>\n",
              "      <td>[107.8, 71.17, 111.1, 141.24, 101.2, 123.42, 1...</td>\n",
              "      <td>[80.63, 134.42, 80.63, 71.61, 98.78, 130.02, 8...</td>\n",
              "      <td>717.75</td>\n",
              "      <td>0.05</td>\n",
              "      <td>[23.1, 32.45, 39.38, 46.31, 116.82, 155.43, 17...</td>\n",
              "    </tr>\n",
              "    <tr>\n",
              "      <th>3</th>\n",
              "      <td>GaPt03</td>\n",
              "      <td>3.0</td>\n",
              "      <td>1</td>\n",
              "      <td>[23.1, 41.69, 55.55, 119.13, 154.55, 200.42, 2...</td>\n",
              "      <td>[1.59, 1.27, 1.41, 1.49, 1.56, 1.41, 1.5, 1.32...</td>\n",
              "      <td>0.43</td>\n",
              "      <td>[1.19, 1.05, 0.99, 1.05, 1.1400000000000001, 0...</td>\n",
              "      <td>[107.8, 71.17, 111.1, 141.24, 101.2, 123.42, 1...</td>\n",
              "      <td>[80.63, 134.42, 80.63, 71.61, 98.78, 130.02, 8...</td>\n",
              "      <td>742.50</td>\n",
              "      <td>0.10</td>\n",
              "      <td>[23.1, 41.69, 55.55, 119.13, 154.55, 200.42, 2...</td>\n",
              "    </tr>\n",
              "    <tr>\n",
              "      <th>4</th>\n",
              "      <td>GaPt03</td>\n",
              "      <td>3.0</td>\n",
              "      <td>1</td>\n",
              "      <td>[25.41, 37.07, 55.55, 106.37, 152.02, 182.05, ...</td>\n",
              "      <td>[1.59, 1.27, 1.41, 1.49, 1.56, 1.41, 1.5, 1.32...</td>\n",
              "      <td>0.41</td>\n",
              "      <td>[1.19, 1.05, 0.99, 1.05, 1.1400000000000001, 0...</td>\n",
              "      <td>[107.8, 71.17, 111.1, 141.24, 101.2, 123.42, 1...</td>\n",
              "      <td>[80.63, 134.42, 80.63, 71.61, 98.78, 130.02, 8...</td>\n",
              "      <td>779.79</td>\n",
              "      <td>0.17</td>\n",
              "      <td>[25.41, 37.07, 55.55, 106.37, 152.02, 182.05, ...</td>\n",
              "    </tr>\n",
              "  </tbody>\n",
              "</table>\n",
              "</div>\n",
              "      <button class=\"colab-df-convert\" onclick=\"convertToInteractive('df-acf328a4-6b67-40ab-90be-efc50d1c9843')\"\n",
              "              title=\"Convert this dataframe to an interactive table.\"\n",
              "              style=\"display:none;\">\n",
              "        \n",
              "  <svg xmlns=\"http://www.w3.org/2000/svg\" height=\"24px\"viewBox=\"0 0 24 24\"\n",
              "       width=\"24px\">\n",
              "    <path d=\"M0 0h24v24H0V0z\" fill=\"none\"/>\n",
              "    <path d=\"M18.56 5.44l.94 2.06.94-2.06 2.06-.94-2.06-.94-.94-2.06-.94 2.06-2.06.94zm-11 1L8.5 8.5l.94-2.06 2.06-.94-2.06-.94L8.5 2.5l-.94 2.06-2.06.94zm10 10l.94 2.06.94-2.06 2.06-.94-2.06-.94-.94-2.06-.94 2.06-2.06.94z\"/><path d=\"M17.41 7.96l-1.37-1.37c-.4-.4-.92-.59-1.43-.59-.52 0-1.04.2-1.43.59L10.3 9.45l-7.72 7.72c-.78.78-.78 2.05 0 2.83L4 21.41c.39.39.9.59 1.41.59.51 0 1.02-.2 1.41-.59l7.78-7.78 2.81-2.81c.8-.78.8-2.07 0-2.86zM5.41 20L4 18.59l7.72-7.72 1.47 1.35L5.41 20z\"/>\n",
              "  </svg>\n",
              "      </button>\n",
              "      \n",
              "  <style>\n",
              "    .colab-df-container {\n",
              "      display:flex;\n",
              "      flex-wrap:wrap;\n",
              "      gap: 12px;\n",
              "    }\n",
              "\n",
              "    .colab-df-convert {\n",
              "      background-color: #E8F0FE;\n",
              "      border: none;\n",
              "      border-radius: 50%;\n",
              "      cursor: pointer;\n",
              "      display: none;\n",
              "      fill: #1967D2;\n",
              "      height: 32px;\n",
              "      padding: 0 0 0 0;\n",
              "      width: 32px;\n",
              "    }\n",
              "\n",
              "    .colab-df-convert:hover {\n",
              "      background-color: #E2EBFA;\n",
              "      box-shadow: 0px 1px 2px rgba(60, 64, 67, 0.3), 0px 1px 3px 1px rgba(60, 64, 67, 0.15);\n",
              "      fill: #174EA6;\n",
              "    }\n",
              "\n",
              "    [theme=dark] .colab-df-convert {\n",
              "      background-color: #3B4455;\n",
              "      fill: #D2E3FC;\n",
              "    }\n",
              "\n",
              "    [theme=dark] .colab-df-convert:hover {\n",
              "      background-color: #434B5C;\n",
              "      box-shadow: 0px 1px 3px 1px rgba(0, 0, 0, 0.15);\n",
              "      filter: drop-shadow(0px 1px 2px rgba(0, 0, 0, 0.3));\n",
              "      fill: #FFFFFF;\n",
              "    }\n",
              "  </style>\n",
              "\n",
              "      <script>\n",
              "        const buttonEl =\n",
              "          document.querySelector('#df-acf328a4-6b67-40ab-90be-efc50d1c9843 button.colab-df-convert');\n",
              "        buttonEl.style.display =\n",
              "          google.colab.kernel.accessAllowed ? 'block' : 'none';\n",
              "\n",
              "        async function convertToInteractive(key) {\n",
              "          const element = document.querySelector('#df-acf328a4-6b67-40ab-90be-efc50d1c9843');\n",
              "          const dataTable =\n",
              "            await google.colab.kernel.invokeFunction('convertToInteractive',\n",
              "                                                     [key], {});\n",
              "          if (!dataTable) return;\n",
              "\n",
              "          const docLinkHtml = 'Like what you see? Visit the ' +\n",
              "            '<a target=\"_blank\" href=https://colab.research.google.com/notebooks/data_table.ipynb>data table notebook</a>'\n",
              "            + ' to learn more about interactive tables.';\n",
              "          element.innerHTML = '';\n",
              "          dataTable['output_type'] = 'display_data';\n",
              "          await google.colab.output.renderOutput(dataTable, element);\n",
              "          const docLink = document.createElement('div');\n",
              "          docLink.innerHTML = docLinkHtml;\n",
              "          element.appendChild(docLink);\n",
              "        }\n",
              "      </script>\n",
              "    </div>\n",
              "  </div>\n",
              "  "
            ]
          },
          "metadata": {},
          "execution_count": 19
        }
      ],
      "source": [
        "data.right_stances_df.head()"
      ]
    },
    {
      "cell_type": "markdown",
      "metadata": {
        "id": "5njlOxC_gRAB"
      },
      "source": [
        "### train - test data"
      ]
    },
    {
      "cell_type": "code",
      "execution_count": null,
      "metadata": {
        "id": "RttYJ46jgVHI"
      },
      "outputs": [],
      "source": [
        "df1 = data.right_stances_df[[ 'padded_stances','r_swings_time','max_peak','FWHM']]\n",
        "y = data.right_stances_df[[ 'y']]"
      ]
    },
    {
      "cell_type": "code",
      "execution_count": null,
      "metadata": {
        "id": "fYtjnASYhnLg"
      },
      "outputs": [],
      "source": [
        "X_train, X_test, y_train, y_test = train_test_split(df1, y, random_state=42)"
      ]
    },
    {
      "cell_type": "markdown",
      "metadata": {
        "id": "S6HJ1kKDkigv"
      },
      "source": [
        "### Scaling"
      ]
    },
    {
      "cell_type": "code",
      "execution_count": null,
      "metadata": {
        "id": "nFE6OIR5qRsk"
      },
      "outputs": [],
      "source": [
        "from sklearn.preprocessing import StandardScaler\n",
        "\n",
        "# create a scaler object\n",
        "scaler = StandardScaler()\n",
        "\n",
        "# fit and transform the data\n",
        "scaled_data = scaler.fit_transform(np.stack(X_train['padded_stances'].values))"
      ]
    },
    {
      "cell_type": "code",
      "execution_count": null,
      "metadata": {
        "id": "ex1YrGtNku1M"
      },
      "outputs": [],
      "source": [
        "# X_scaled = scaler.transform(X_train)"
      ]
    },
    {
      "cell_type": "code",
      "execution_count": null,
      "metadata": {
        "id": "pVjBdD2IMBXA"
      },
      "outputs": [],
      "source": [
        "scaled_data=scaled_data.tolist()"
      ]
    },
    {
      "cell_type": "code",
      "execution_count": null,
      "metadata": {
        "id": "Zb3coQsTK1Jw"
      },
      "outputs": [],
      "source": [
        "# X_train['scaled_stances']= pd.DataFrame(scaled_data, columns =[\"scaled_data\"]) # this way caused some values to become Nulll\n",
        "X_train.insert(0, \"scaled_stances\", scaled_data, True)"
      ]
    },
    {
      "cell_type": "code",
      "execution_count": null,
      "metadata": {
        "colab": {
          "base_uri": "https://localhost:8080/",
          "height": 424
        },
        "id": "GkRmPjj3K7kH",
        "outputId": "af33f734-4a7a-4e99-9ef4-b08dfbd5d2cf"
      },
      "outputs": [
        {
          "data": {
            "text/html": [
              "\n",
              "  <div id=\"df-76202ef1-eaf9-4638-bf15-9ddb2c282ca7\">\n",
              "    <div class=\"colab-df-container\">\n",
              "      <div>\n",
              "<style scoped>\n",
              "    .dataframe tbody tr th:only-of-type {\n",
              "        vertical-align: middle;\n",
              "    }\n",
              "\n",
              "    .dataframe tbody tr th {\n",
              "        vertical-align: top;\n",
              "    }\n",
              "\n",
              "    .dataframe thead th {\n",
              "        text-align: right;\n",
              "    }\n",
              "</style>\n",
              "<table border=\"1\" class=\"dataframe\">\n",
              "  <thead>\n",
              "    <tr style=\"text-align: right;\">\n",
              "      <th></th>\n",
              "      <th>scaled_stances</th>\n",
              "      <th>padded_stances</th>\n",
              "      <th>r_swings_time</th>\n",
              "      <th>max_peak</th>\n",
              "      <th>FWHM</th>\n",
              "    </tr>\n",
              "  </thead>\n",
              "  <tbody>\n",
              "    <tr>\n",
              "      <th>337</th>\n",
              "      <td>[-0.09027499699554237, -0.6566456091893658, -0...</td>\n",
              "      <td>[41.69, 77.88, 162.14, 243.98, 317.78999999999...</td>\n",
              "      <td>0.37</td>\n",
              "      <td>816.64</td>\n",
              "      <td>0.36</td>\n",
              "    </tr>\n",
              "    <tr>\n",
              "      <th>11848</th>\n",
              "      <td>[-0.13374517285585133, 0.28410271089387606, 0....</td>\n",
              "      <td>[40.26, 189.96999999999997, 284.57, 341.55, 36...</td>\n",
              "      <td>0.33</td>\n",
              "      <td>1042.91</td>\n",
              "      <td>0.13</td>\n",
              "    </tr>\n",
              "    <tr>\n",
              "      <th>7791</th>\n",
              "      <td>[0.026760091859135693, 0.4419711728509268, 0.7...</td>\n",
              "      <td>[45.54, 208.78, 374.11, 549.78, 667.26, 710.93...</td>\n",
              "      <td>0.34</td>\n",
              "      <td>846.67</td>\n",
              "      <td>0.11</td>\n",
              "    </tr>\n",
              "    <tr>\n",
              "      <th>2344</th>\n",
              "      <td>[-0.1772153487161603, 0.48166909018515575, 1.3...</td>\n",
              "      <td>[38.83, 213.51, 467.06, 482.13, 533.39, 602.14...</td>\n",
              "      <td>0.38</td>\n",
              "      <td>1127.39</td>\n",
              "      <td>0.37</td>\n",
              "    </tr>\n",
              "    <tr>\n",
              "      <th>4004</th>\n",
              "      <td>[-0.5951978089114389, -1.041623086593401, -1.3...</td>\n",
              "      <td>[25.08, 32.01, 50.27, 92.95, 222.09, 318.78, 3...</td>\n",
              "      <td>0.38</td>\n",
              "      <td>990.66</td>\n",
              "      <td>0.37</td>\n",
              "    </tr>\n",
              "    <tr>\n",
              "      <th>...</th>\n",
              "      <td>...</td>\n",
              "      <td>...</td>\n",
              "      <td>...</td>\n",
              "      <td>...</td>\n",
              "      <td>...</td>\n",
              "    </tr>\n",
              "    <tr>\n",
              "      <th>11284</th>\n",
              "      <td>[1.0332618560093667, 1.967109764389215, 1.6276...</td>\n",
              "      <td>[78.65, 390.5, 514.8000000000001, 643.72, 692....</td>\n",
              "      <td>0.38</td>\n",
              "      <td>1147.41</td>\n",
              "      <td>0.35</td>\n",
              "    </tr>\n",
              "    <tr>\n",
              "      <th>11964</th>\n",
              "      <td>[-0.5584153524142543, -0.3436783074148622, -0....</td>\n",
              "      <td>[26.29, 115.17, 235.18, 274.23, 297.6599999999...</td>\n",
              "      <td>0.30</td>\n",
              "      <td>892.87</td>\n",
              "      <td>0.07</td>\n",
              "    </tr>\n",
              "    <tr>\n",
              "      <th>5390</th>\n",
              "      <td>[-0.24743640202896694, -0.20704361519472508, 0...</td>\n",
              "      <td>[36.52, 131.45, 281.05, 308.98999999999995, 32...</td>\n",
              "      <td>0.42</td>\n",
              "      <td>874.61</td>\n",
              "      <td>0.41</td>\n",
              "    </tr>\n",
              "    <tr>\n",
              "      <th>860</th>\n",
              "      <td>[-0.5951978089114389, -1.0222357316162194, -1....</td>\n",
              "      <td>[25.08, 34.32, 82.83, 160.05, 260.37, 404.6900...</td>\n",
              "      <td>0.37</td>\n",
              "      <td>871.42</td>\n",
              "      <td>0.43</td>\n",
              "    </tr>\n",
              "    <tr>\n",
              "      <th>15795</th>\n",
              "      <td>[-0.5985416685930011, 0.7097013130120065, 1.19...</td>\n",
              "      <td>[24.97, 240.68, 447.15, 479.04999999999995, 53...</td>\n",
              "      <td>0.33</td>\n",
              "      <td>863.61</td>\n",
              "      <td>0.38</td>\n",
              "    </tr>\n",
              "  </tbody>\n",
              "</table>\n",
              "<p>13790 rows × 5 columns</p>\n",
              "</div>\n",
              "      <button class=\"colab-df-convert\" onclick=\"convertToInteractive('df-76202ef1-eaf9-4638-bf15-9ddb2c282ca7')\"\n",
              "              title=\"Convert this dataframe to an interactive table.\"\n",
              "              style=\"display:none;\">\n",
              "        \n",
              "  <svg xmlns=\"http://www.w3.org/2000/svg\" height=\"24px\"viewBox=\"0 0 24 24\"\n",
              "       width=\"24px\">\n",
              "    <path d=\"M0 0h24v24H0V0z\" fill=\"none\"/>\n",
              "    <path d=\"M18.56 5.44l.94 2.06.94-2.06 2.06-.94-2.06-.94-.94-2.06-.94 2.06-2.06.94zm-11 1L8.5 8.5l.94-2.06 2.06-.94-2.06-.94L8.5 2.5l-.94 2.06-2.06.94zm10 10l.94 2.06.94-2.06 2.06-.94-2.06-.94-.94-2.06-.94 2.06-2.06.94z\"/><path d=\"M17.41 7.96l-1.37-1.37c-.4-.4-.92-.59-1.43-.59-.52 0-1.04.2-1.43.59L10.3 9.45l-7.72 7.72c-.78.78-.78 2.05 0 2.83L4 21.41c.39.39.9.59 1.41.59.51 0 1.02-.2 1.41-.59l7.78-7.78 2.81-2.81c.8-.78.8-2.07 0-2.86zM5.41 20L4 18.59l7.72-7.72 1.47 1.35L5.41 20z\"/>\n",
              "  </svg>\n",
              "      </button>\n",
              "      \n",
              "  <style>\n",
              "    .colab-df-container {\n",
              "      display:flex;\n",
              "      flex-wrap:wrap;\n",
              "      gap: 12px;\n",
              "    }\n",
              "\n",
              "    .colab-df-convert {\n",
              "      background-color: #E8F0FE;\n",
              "      border: none;\n",
              "      border-radius: 50%;\n",
              "      cursor: pointer;\n",
              "      display: none;\n",
              "      fill: #1967D2;\n",
              "      height: 32px;\n",
              "      padding: 0 0 0 0;\n",
              "      width: 32px;\n",
              "    }\n",
              "\n",
              "    .colab-df-convert:hover {\n",
              "      background-color: #E2EBFA;\n",
              "      box-shadow: 0px 1px 2px rgba(60, 64, 67, 0.3), 0px 1px 3px 1px rgba(60, 64, 67, 0.15);\n",
              "      fill: #174EA6;\n",
              "    }\n",
              "\n",
              "    [theme=dark] .colab-df-convert {\n",
              "      background-color: #3B4455;\n",
              "      fill: #D2E3FC;\n",
              "    }\n",
              "\n",
              "    [theme=dark] .colab-df-convert:hover {\n",
              "      background-color: #434B5C;\n",
              "      box-shadow: 0px 1px 3px 1px rgba(0, 0, 0, 0.15);\n",
              "      filter: drop-shadow(0px 1px 2px rgba(0, 0, 0, 0.3));\n",
              "      fill: #FFFFFF;\n",
              "    }\n",
              "  </style>\n",
              "\n",
              "      <script>\n",
              "        const buttonEl =\n",
              "          document.querySelector('#df-76202ef1-eaf9-4638-bf15-9ddb2c282ca7 button.colab-df-convert');\n",
              "        buttonEl.style.display =\n",
              "          google.colab.kernel.accessAllowed ? 'block' : 'none';\n",
              "\n",
              "        async function convertToInteractive(key) {\n",
              "          const element = document.querySelector('#df-76202ef1-eaf9-4638-bf15-9ddb2c282ca7');\n",
              "          const dataTable =\n",
              "            await google.colab.kernel.invokeFunction('convertToInteractive',\n",
              "                                                     [key], {});\n",
              "          if (!dataTable) return;\n",
              "\n",
              "          const docLinkHtml = 'Like what you see? Visit the ' +\n",
              "            '<a target=\"_blank\" href=https://colab.research.google.com/notebooks/data_table.ipynb>data table notebook</a>'\n",
              "            + ' to learn more about interactive tables.';\n",
              "          element.innerHTML = '';\n",
              "          dataTable['output_type'] = 'display_data';\n",
              "          await google.colab.output.renderOutput(dataTable, element);\n",
              "          const docLink = document.createElement('div');\n",
              "          docLink.innerHTML = docLinkHtml;\n",
              "          element.appendChild(docLink);\n",
              "        }\n",
              "      </script>\n",
              "    </div>\n",
              "  </div>\n",
              "  "
            ],
            "text/plain": [
              "                                          scaled_stances  \\\n",
              "337    [-0.09027499699554237, -0.6566456091893658, -0...   \n",
              "11848  [-0.13374517285585133, 0.28410271089387606, 0....   \n",
              "7791   [0.026760091859135693, 0.4419711728509268, 0.7...   \n",
              "2344   [-0.1772153487161603, 0.48166909018515575, 1.3...   \n",
              "4004   [-0.5951978089114389, -1.041623086593401, -1.3...   \n",
              "...                                                  ...   \n",
              "11284  [1.0332618560093667, 1.967109764389215, 1.6276...   \n",
              "11964  [-0.5584153524142543, -0.3436783074148622, -0....   \n",
              "5390   [-0.24743640202896694, -0.20704361519472508, 0...   \n",
              "860    [-0.5951978089114389, -1.0222357316162194, -1....   \n",
              "15795  [-0.5985416685930011, 0.7097013130120065, 1.19...   \n",
              "\n",
              "                                          padded_stances  r_swings_time  \\\n",
              "337    [41.69, 77.88, 162.14, 243.98, 317.78999999999...           0.37   \n",
              "11848  [40.26, 189.96999999999997, 284.57, 341.55, 36...           0.33   \n",
              "7791   [45.54, 208.78, 374.11, 549.78, 667.26, 710.93...           0.34   \n",
              "2344   [38.83, 213.51, 467.06, 482.13, 533.39, 602.14...           0.38   \n",
              "4004   [25.08, 32.01, 50.27, 92.95, 222.09, 318.78, 3...           0.38   \n",
              "...                                                  ...            ...   \n",
              "11284  [78.65, 390.5, 514.8000000000001, 643.72, 692....           0.38   \n",
              "11964  [26.29, 115.17, 235.18, 274.23, 297.6599999999...           0.30   \n",
              "5390   [36.52, 131.45, 281.05, 308.98999999999995, 32...           0.42   \n",
              "860    [25.08, 34.32, 82.83, 160.05, 260.37, 404.6900...           0.37   \n",
              "15795  [24.97, 240.68, 447.15, 479.04999999999995, 53...           0.33   \n",
              "\n",
              "       max_peak  FWHM  \n",
              "337      816.64  0.36  \n",
              "11848   1042.91  0.13  \n",
              "7791     846.67  0.11  \n",
              "2344    1127.39  0.37  \n",
              "4004     990.66  0.37  \n",
              "...         ...   ...  \n",
              "11284   1147.41  0.35  \n",
              "11964    892.87  0.07  \n",
              "5390     874.61  0.41  \n",
              "860      871.42  0.43  \n",
              "15795    863.61  0.38  \n",
              "\n",
              "[13790 rows x 5 columns]"
            ]
          },
          "execution_count": 22,
          "metadata": {},
          "output_type": "execute_result"
        }
      ],
      "source": [
        "X_train"
      ]
    },
    {
      "cell_type": "code",
      "execution_count": null,
      "metadata": {
        "colab": {
          "base_uri": "https://localhost:8080/"
        },
        "id": "B_kWzzUSYpp4",
        "outputId": "e7c3c891-0b6d-4f6d-e6c4-8e671dca231d"
      },
      "outputs": [
        {
          "output_type": "execute_result",
          "data": {
            "text/plain": [
              "list"
            ]
          },
          "metadata": {},
          "execution_count": 26
        }
      ],
      "source": [
        "type(X_train['scaled_stances'].iloc[0])"
      ]
    },
    {
      "cell_type": "markdown",
      "metadata": {
        "id": "evtbYEBeOb7q"
      },
      "source": [
        "### The data\n",
        "yalla\n",
        "We're gonna use the features (r_swings_time \tmax_peak \tFWHM \tscaled_stances)"
      ]
    },
    {
      "cell_type": "code",
      "execution_count": null,
      "metadata": {
        "colab": {
          "base_uri": "https://localhost:8080/",
          "height": 206
        },
        "id": "lCllgMsTOjvQ",
        "outputId": "22f80ece-eada-44b0-dac8-b8a61c77bb67"
      },
      "outputs": [
        {
          "output_type": "execute_result",
          "data": {
            "text/plain": [
              "                                        scaled_stances  \\\n",
              "5    [-0.1899757624514546, -0.5706723829086124, -0....   \n",
              "181  [0.10927024125186045, 0.28475099108057045, 1.1...   \n",
              "109  [0.10927024125186045, -0.6755036787406203, -0....   \n",
              "33   [0.15914457520241268, 0.045735636583592726, -0...   \n",
              "57   [-0.23985009640200736, -0.4993871017428473, -0...   \n",
              "\n",
              "                                        padded_stances  r_swings_time  \\\n",
              "5    [25.41, 32.45, 37.07, 44.0, 102.96000000000001...           0.37   \n",
              "181  [27.39, 54.89, 196.57, 389.07, 598.73, 709.72,...           0.33   \n",
              "109  [27.39, 29.7, 34.32, 50.27, 102.52, 169.84, 21...           0.34   \n",
              "33   [27.72, 48.62, 84.48, 111.1, 188.54, 223.3, 24...           0.38   \n",
              "57   [25.08, 34.32, 41.14, 52.58, 114.51, 176.11, 2...           0.38   \n",
              "\n",
              "     max_peak  FWHM  \n",
              "5      816.64  0.36  \n",
              "181   1042.91  0.13  \n",
              "109    846.67  0.11  \n",
              "33    1127.39  0.37  \n",
              "57     990.66  0.37  "
            ],
            "text/html": [
              "\n",
              "  <div id=\"df-13e5f14e-8053-42d9-8182-c8e98e25ec1e\">\n",
              "    <div class=\"colab-df-container\">\n",
              "      <div>\n",
              "<style scoped>\n",
              "    .dataframe tbody tr th:only-of-type {\n",
              "        vertical-align: middle;\n",
              "    }\n",
              "\n",
              "    .dataframe tbody tr th {\n",
              "        vertical-align: top;\n",
              "    }\n",
              "\n",
              "    .dataframe thead th {\n",
              "        text-align: right;\n",
              "    }\n",
              "</style>\n",
              "<table border=\"1\" class=\"dataframe\">\n",
              "  <thead>\n",
              "    <tr style=\"text-align: right;\">\n",
              "      <th></th>\n",
              "      <th>scaled_stances</th>\n",
              "      <th>padded_stances</th>\n",
              "      <th>r_swings_time</th>\n",
              "      <th>max_peak</th>\n",
              "      <th>FWHM</th>\n",
              "    </tr>\n",
              "  </thead>\n",
              "  <tbody>\n",
              "    <tr>\n",
              "      <th>5</th>\n",
              "      <td>[-0.1899757624514546, -0.5706723829086124, -0....</td>\n",
              "      <td>[25.41, 32.45, 37.07, 44.0, 102.96000000000001...</td>\n",
              "      <td>0.37</td>\n",
              "      <td>816.64</td>\n",
              "      <td>0.36</td>\n",
              "    </tr>\n",
              "    <tr>\n",
              "      <th>181</th>\n",
              "      <td>[0.10927024125186045, 0.28475099108057045, 1.1...</td>\n",
              "      <td>[27.39, 54.89, 196.57, 389.07, 598.73, 709.72,...</td>\n",
              "      <td>0.33</td>\n",
              "      <td>1042.91</td>\n",
              "      <td>0.13</td>\n",
              "    </tr>\n",
              "    <tr>\n",
              "      <th>109</th>\n",
              "      <td>[0.10927024125186045, -0.6755036787406203, -0....</td>\n",
              "      <td>[27.39, 29.7, 34.32, 50.27, 102.52, 169.84, 21...</td>\n",
              "      <td>0.34</td>\n",
              "      <td>846.67</td>\n",
              "      <td>0.11</td>\n",
              "    </tr>\n",
              "    <tr>\n",
              "      <th>33</th>\n",
              "      <td>[0.15914457520241268, 0.045735636583592726, -0...</td>\n",
              "      <td>[27.72, 48.62, 84.48, 111.1, 188.54, 223.3, 24...</td>\n",
              "      <td>0.38</td>\n",
              "      <td>1127.39</td>\n",
              "      <td>0.37</td>\n",
              "    </tr>\n",
              "    <tr>\n",
              "      <th>57</th>\n",
              "      <td>[-0.23985009640200736, -0.4993871017428473, -0...</td>\n",
              "      <td>[25.08, 34.32, 41.14, 52.58, 114.51, 176.11, 2...</td>\n",
              "      <td>0.38</td>\n",
              "      <td>990.66</td>\n",
              "      <td>0.37</td>\n",
              "    </tr>\n",
              "  </tbody>\n",
              "</table>\n",
              "</div>\n",
              "      <button class=\"colab-df-convert\" onclick=\"convertToInteractive('df-13e5f14e-8053-42d9-8182-c8e98e25ec1e')\"\n",
              "              title=\"Convert this dataframe to an interactive table.\"\n",
              "              style=\"display:none;\">\n",
              "        \n",
              "  <svg xmlns=\"http://www.w3.org/2000/svg\" height=\"24px\"viewBox=\"0 0 24 24\"\n",
              "       width=\"24px\">\n",
              "    <path d=\"M0 0h24v24H0V0z\" fill=\"none\"/>\n",
              "    <path d=\"M18.56 5.44l.94 2.06.94-2.06 2.06-.94-2.06-.94-.94-2.06-.94 2.06-2.06.94zm-11 1L8.5 8.5l.94-2.06 2.06-.94-2.06-.94L8.5 2.5l-.94 2.06-2.06.94zm10 10l.94 2.06.94-2.06 2.06-.94-2.06-.94-.94-2.06-.94 2.06-2.06.94z\"/><path d=\"M17.41 7.96l-1.37-1.37c-.4-.4-.92-.59-1.43-.59-.52 0-1.04.2-1.43.59L10.3 9.45l-7.72 7.72c-.78.78-.78 2.05 0 2.83L4 21.41c.39.39.9.59 1.41.59.51 0 1.02-.2 1.41-.59l7.78-7.78 2.81-2.81c.8-.78.8-2.07 0-2.86zM5.41 20L4 18.59l7.72-7.72 1.47 1.35L5.41 20z\"/>\n",
              "  </svg>\n",
              "      </button>\n",
              "      \n",
              "  <style>\n",
              "    .colab-df-container {\n",
              "      display:flex;\n",
              "      flex-wrap:wrap;\n",
              "      gap: 12px;\n",
              "    }\n",
              "\n",
              "    .colab-df-convert {\n",
              "      background-color: #E8F0FE;\n",
              "      border: none;\n",
              "      border-radius: 50%;\n",
              "      cursor: pointer;\n",
              "      display: none;\n",
              "      fill: #1967D2;\n",
              "      height: 32px;\n",
              "      padding: 0 0 0 0;\n",
              "      width: 32px;\n",
              "    }\n",
              "\n",
              "    .colab-df-convert:hover {\n",
              "      background-color: #E2EBFA;\n",
              "      box-shadow: 0px 1px 2px rgba(60, 64, 67, 0.3), 0px 1px 3px 1px rgba(60, 64, 67, 0.15);\n",
              "      fill: #174EA6;\n",
              "    }\n",
              "\n",
              "    [theme=dark] .colab-df-convert {\n",
              "      background-color: #3B4455;\n",
              "      fill: #D2E3FC;\n",
              "    }\n",
              "\n",
              "    [theme=dark] .colab-df-convert:hover {\n",
              "      background-color: #434B5C;\n",
              "      box-shadow: 0px 1px 3px 1px rgba(0, 0, 0, 0.15);\n",
              "      filter: drop-shadow(0px 1px 2px rgba(0, 0, 0, 0.3));\n",
              "      fill: #FFFFFF;\n",
              "    }\n",
              "  </style>\n",
              "\n",
              "      <script>\n",
              "        const buttonEl =\n",
              "          document.querySelector('#df-13e5f14e-8053-42d9-8182-c8e98e25ec1e button.colab-df-convert');\n",
              "        buttonEl.style.display =\n",
              "          google.colab.kernel.accessAllowed ? 'block' : 'none';\n",
              "\n",
              "        async function convertToInteractive(key) {\n",
              "          const element = document.querySelector('#df-13e5f14e-8053-42d9-8182-c8e98e25ec1e');\n",
              "          const dataTable =\n",
              "            await google.colab.kernel.invokeFunction('convertToInteractive',\n",
              "                                                     [key], {});\n",
              "          if (!dataTable) return;\n",
              "\n",
              "          const docLinkHtml = 'Like what you see? Visit the ' +\n",
              "            '<a target=\"_blank\" href=https://colab.research.google.com/notebooks/data_table.ipynb>data table notebook</a>'\n",
              "            + ' to learn more about interactive tables.';\n",
              "          element.innerHTML = '';\n",
              "          dataTable['output_type'] = 'display_data';\n",
              "          await google.colab.output.renderOutput(dataTable, element);\n",
              "          const docLink = document.createElement('div');\n",
              "          docLink.innerHTML = docLinkHtml;\n",
              "          element.appendChild(docLink);\n",
              "        }\n",
              "      </script>\n",
              "    </div>\n",
              "  </div>\n",
              "  "
            ]
          },
          "metadata": {},
          "execution_count": 27
        }
      ],
      "source": [
        "X_train.head()"
      ]
    },
    {
      "cell_type": "markdown",
      "metadata": {
        "id": "glZHhvGjyTjw"
      },
      "source": [
        "#### Reformat the data to be fitted to a tensor then CNN"
      ]
    },
    {
      "cell_type": "markdown",
      "source": [
        "##### The first format \n",
        "is as follows a numpy array of (13790, 1) shape, the length of each row is 750, the first 747 elements are the scaled stances, then three float numbers : swing time, max Peak, FWHM value"
      ],
      "metadata": {
        "id": "yiOwaZzBNxwy"
      }
    },
    {
      "cell_type": "code",
      "execution_count": null,
      "metadata": {
        "id": "0EjC4Bi8ZzrO"
      },
      "outputs": [],
      "source": [
        "# data= [ np.asarray(x['scaled_stances'].tolist()) , np.asarray(x[[\"r_swings_time\" ]]),  np.asarray(x[[\"max_peak\"]]) \t, np.asarray(x[[\"FWHM\" ]]) ]"
      ]
    },
    {
      "cell_type": "code",
      "execution_count": null,
      "metadata": {
        "id": "-PMBIOtpuU9E"
      },
      "outputs": [],
      "source": [
        "# u = np.asarray(x['scaled_stances'].tolist()).reshape(13790, 1,747)"
      ]
    },
    {
      "cell_type": "code",
      "execution_count": null,
      "metadata": {
        "id": "HTQ-Bi81kfY-"
      },
      "outputs": [],
      "source": [
        "data = np.append( np.asarray(X_train['scaled_stances'].tolist()) , np.asarray(X_train[[\"r_swings_time\" ]]),  axis=1)"
      ]
    },
    {
      "cell_type": "code",
      "execution_count": null,
      "metadata": {
        "id": "EzGs3vhUunv6"
      },
      "outputs": [],
      "source": [
        "data = np.append( data , np.asarray(X_train[[\"max_peak\" ]]),  axis=1)\n",
        "data = np.append( data , np.asarray(X_train[[\"FWHM\" ]]),  axis=1)"
      ]
    },
    {
      "cell_type": "code",
      "execution_count": null,
      "metadata": {
        "id": "-vrON8Cwuq_6"
      },
      "outputs": [],
      "source": [
        "data[0]"
      ]
    },
    {
      "cell_type": "code",
      "execution_count": null,
      "metadata": {
        "colab": {
          "base_uri": "https://localhost:8080/"
        },
        "id": "pi5HcLQTHsg-",
        "outputId": "366b15d5-5b5f-45a8-a70e-af5459313673"
      },
      "outputs": [
        {
          "data": {
            "text/plain": [
              "<tf.Tensor: shape=(13790, 750), dtype=float64, numpy=\n",
              "array([[-9.02749970e-02, -6.56645609e-01, -6.52911900e-01, ...,\n",
              "         3.70000000e-01,  8.16640000e+02,  3.60000000e-01],\n",
              "       [-1.33745173e-01,  2.84102711e-01,  1.38825966e-01, ...,\n",
              "         3.30000000e-01,  1.04291000e+03,  1.30000000e-01],\n",
              "       [ 2.67600919e-02,  4.41971173e-01,  7.17868753e-01, ...,\n",
              "         3.40000000e-01,  8.46670000e+02,  1.10000000e-01],\n",
              "       ...,\n",
              "       [-2.47436402e-01, -2.07043615e-01,  1.16062613e-01, ...,\n",
              "         4.20000000e-01,  8.74610000e+02,  4.10000000e-01],\n",
              "       [-5.95197809e-01, -1.02223573e+00, -1.16579869e+00, ...,\n",
              "         3.70000000e-01,  8.71420000e+02,  4.30000000e-01],\n",
              "       [-5.98541669e-01,  7.09701313e-01,  1.19020832e+00, ...,\n",
              "         3.30000000e-01,  8.63610000e+02,  3.80000000e-01]])>"
            ]
          },
          "execution_count": 27,
          "metadata": {},
          "output_type": "execute_result"
        }
      ],
      "source": [
        "tf.constant((data))"
      ]
    },
    {
      "cell_type": "code",
      "source": [
        "type(data)"
      ],
      "metadata": {
        "colab": {
          "base_uri": "https://localhost:8080/"
        },
        "id": "blLobAyjYIaV",
        "outputId": "7c25745c-76c2-401b-e38f-86170fb67d56"
      },
      "execution_count": null,
      "outputs": [
        {
          "output_type": "execute_result",
          "data": {
            "text/plain": [
              "numpy.ndarray"
            ]
          },
          "metadata": {},
          "execution_count": 77
        }
      ]
    },
    {
      "cell_type": "markdown",
      "source": [
        "##### The sexond format\n",
        "\n",
        "is as follows a numpy array of ((13790, 4)) shape, the first elements is a numpy array of length 747 represents the scaled stances, then three float numbers : swing time, max Peak, FWHM value"
      ],
      "metadata": {
        "id": "xI7iDgCZPsZt"
      }
    },
    {
      "cell_type": "code",
      "source": [
        "X_train['scaled_stances'] = X_train['scaled_stances'].apply(np.array)"
      ],
      "metadata": {
        "id": "ZvKh4mmqNfR1"
      },
      "execution_count": null,
      "outputs": []
    },
    {
      "cell_type": "code",
      "source": [
        "x = X_train[['scaled_stances', 'r_swings_time','max_peak','FWHM']]"
      ],
      "metadata": {
        "id": "goDGDcl7M89x"
      },
      "execution_count": null,
      "outputs": []
    },
    {
      "cell_type": "code",
      "source": [
        "itemized_train_data = x.to_numpy()"
      ],
      "metadata": {
        "id": "fWR4Y_V4Mk9G"
      },
      "execution_count": null,
      "outputs": []
    },
    {
      "cell_type": "code",
      "source": [
        "(itemized_train_data).shape"
      ],
      "metadata": {
        "colab": {
          "base_uri": "https://localhost:8080/"
        },
        "id": "4-d1b_XmMrJf",
        "outputId": "d4776fd4-aae1-4a58-9c24-1610a2f02caa"
      },
      "execution_count": null,
      "outputs": [
        {
          "output_type": "execute_result",
          "data": {
            "text/plain": [
              "(13790, 4)"
            ]
          },
          "metadata": {},
          "execution_count": 63
        }
      ]
    },
    {
      "cell_type": "code",
      "source": [
        "type(itemized_train_data)"
      ],
      "metadata": {
        "colab": {
          "base_uri": "https://localhost:8080/"
        },
        "id": "dBPLvWdHYNO_",
        "outputId": "b63bdfa1-3a1b-4814-afc9-9a2bd682dbf8"
      },
      "execution_count": null,
      "outputs": [
        {
          "output_type": "execute_result",
          "data": {
            "text/plain": [
              "numpy.ndarray"
            ]
          },
          "metadata": {},
          "execution_count": 78
        }
      ]
    },
    {
      "cell_type": "code",
      "source": [
        "itemized_train_data[0]"
      ],
      "metadata": {
        "colab": {
          "base_uri": "https://localhost:8080/"
        },
        "id": "H_4jxc0uYW_O",
        "outputId": "d783ce1b-dc9a-4922-d265-c40082743c2c"
      },
      "execution_count": null,
      "outputs": [
        {
          "output_type": "execute_result",
          "data": {
            "text/plain": [
              "array([array([-0.090275  , -0.65664561, -0.6529119 , -0.65183505, -0.68045582,\n",
              "              -0.7098499 , -0.73134374, -0.75830525, -0.69913812, -0.67008905,\n",
              "              -0.6561001 , -0.55843092, -0.42426258, -0.39797365, -0.37249945,\n",
              "              -0.35945653, -0.36631202, -0.33032785, -0.31171145, -0.26921919,\n",
              "              -0.28557001, -0.25767692, -0.31258783, -0.3446555 , -0.36965201,\n",
              "              -0.39989211, -0.41184847, -0.41812982, -0.45086201, -0.48526306,\n",
              "              -0.47609041, -0.50612968, -0.3709104 , -0.46030447, -0.50326449,\n",
              "              -0.57637167, -0.61911279, -0.67743903, -0.71142341, -0.94233607,\n",
              "              -0.96134012, -0.94411301, -0.95807388, -1.07219121, -0.95772455,\n",
              "              -0.8513938 , -0.84604173, -0.68743598, -0.52048013, -0.36978935,\n",
              "              -0.26816074, -0.15237144, -0.05812691,  0.03679974,  0.09575529,\n",
              "               0.09002217,  0.1405638 ,  0.10811667,  0.06866205,  0.00977363,\n",
              "              -0.10805022, -0.19992276, -0.27293718, -0.43117707, -0.59419733,\n",
              "              -0.76461712, -0.74794765, -0.688826  , -0.7479188 , -0.69307873,\n",
              "              -0.64337731, -0.59860487, -0.55701264, -0.51965188, -0.484691  ,\n",
              "              -0.45281837, -0.42313112, -0.3952147 , -0.36971598, -0.34678557,\n",
              "              -0.32581261, -0.30645401, -0.28896947, -0.27381685, -0.26044189,\n",
              "              -0.24843146, -0.23833812, -0.22976656, -0.22251874, -0.21581416,\n",
              "              -0.20985231, -0.20419344, -0.19903725, -0.1941882 , -0.18931931,\n",
              "              -0.18449948, -0.17993604, -0.17552757, -0.17124557, -0.16673351,\n",
              "              -0.16242081, -0.15826282, -0.15423074, -0.15005825, -0.14572583,\n",
              "              -0.14156482, -0.13791705, -0.1341039 , -0.13068599, -0.12717453,\n",
              "              -0.12410758, -0.12109532, -0.11782774, -0.11462951, -0.1117345 ,\n",
              "              -0.10889458, -0.10633181, -0.10383494, -0.10159666, -0.0993525 ,\n",
              "              -0.09724948, -0.09532552, -0.0933708 , -0.09167121, -0.09017945,\n",
              "              -0.08875114, -0.08735862, -0.0860645 , -0.08470226, -0.08337367,\n",
              "              -0.08210151, -0.08102353, -0.07985145, -0.07865262, -0.07745809,\n",
              "              -0.07654957, -0.07560523, -0.07480123, -0.07411402, -0.07345314,\n",
              "              -0.07275129, -0.07199845, -0.0711737 , -0.07034756, -0.06931072,\n",
              "              -0.06821397, -0.06720557, -0.06620814, -0.06538099, -0.06450412,\n",
              "              -0.06361349, -0.06276965, -0.06184333, -0.06118056, -0.06021238,\n",
              "              -0.05942864, -0.05877872, -0.05801912, -0.05731853, -0.05667103,\n",
              "              -0.05597518, -0.05540321, -0.05481984, -0.05426984, -0.05374366,\n",
              "              -0.0533397 , -0.05279593, -0.05238555, -0.05215319, -0.05211236,\n",
              "              -0.05189775, -0.05160779, -0.0514893 , -0.05145564, -0.05135238,\n",
              "              -0.05135877, -0.05122591, -0.0510991 , -0.05100644, -0.05082031,\n",
              "              -0.05061727, -0.05025473, -0.04996137, -0.049705  , -0.04946356,\n",
              "              -0.04923107, -0.04910872, -0.04899736, -0.04884902, -0.04865336,\n",
              "              -0.04850102, -0.04835589, -0.04810244, -0.04780739, -0.04738812,\n",
              "              -0.04696815, -0.04648921, -0.04604634, -0.04557626, -0.04502857,\n",
              "              -0.04459099, -0.04421819, -0.04399353, -0.04368687, -0.04347891,\n",
              "              -0.04327149, -0.04308804, -0.04284464, -0.04266692, -0.04250777,\n",
              "              -0.04226642, -0.04196852, -0.04148378, -0.041053  , -0.04042988,\n",
              "              -0.03973871, -0.03913225, -0.03837989, -0.0377253 , -0.03718964,\n",
              "              -0.03647617, -0.03571407, -0.03502145, -0.03438939, -0.03383072,\n",
              "              -0.03319447, -0.03280477, -0.032499  , -0.0320665 , -0.0317827 ,\n",
              "              -0.03149035, -0.03113967, -0.03063673, -0.0301885 , -0.02960249,\n",
              "              -0.0292876 , -0.02893936, -0.02848404, -0.02799081, -0.02759527,\n",
              "              -0.02726303, -0.02695327, -0.02677982, -0.02648016, -0.02604194,\n",
              "              -0.0259668 , -0.02587288, -0.02564881, -0.02528851, -0.0247778 ,\n",
              "              -0.02429894, -0.02400595, -0.02355537, -0.02309345, -0.02261281,\n",
              "              -0.02211155, -0.02159885, -0.02144943, -0.02119122, -0.02091616,\n",
              "              -0.02046928, -0.02020033, -0.01987413, -0.01954366, -0.01902135,\n",
              "              -0.01873182, -0.01830588, -0.01765878, -0.01741701, -0.01743508,\n",
              "              -0.017454  , -0.01746019, -0.01747997, -0.01745727, -0.01745286,\n",
              "              -0.01748474, -0.0174448 , -0.01742226, -0.01746125, -0.01737651,\n",
              "              -0.01755202, -0.01756114, -0.01765619, -0.01762556, -0.01772137,\n",
              "              -0.017728  , -0.01766009, -0.01735317, -0.01711561, -0.01682977,\n",
              "              -0.0164595 , -0.01587116, -0.01513848, -0.01483477, -0.01460028,\n",
              "              -0.014599  , -0.01460229, -0.01459698, -0.01459718, -0.01459952,\n",
              "              -0.01459782, -0.01459695, -0.01458934, -0.01458755, -0.01458222,\n",
              "              -0.01458534, -0.01456516, -0.01455867, -0.01449244, -0.01447775,\n",
              "              -0.01443843, -0.01441313, -0.01437213, -0.01419997, -0.01415138,\n",
              "              -0.01401458, -0.01403593, -0.01402711, -0.01405156, -0.0140522 ,\n",
              "              -0.01407246, -0.01410215, -0.01414308, -0.01415404, -0.01415696,\n",
              "              -0.01416817, -0.01426356, -0.01428708, -0.01429148, -0.01431673,\n",
              "              -0.01431673, -0.01429834, -0.01432241, -0.01440375, -0.01440907,\n",
              "              -0.01442538, -0.01442103, -0.01442893, -0.01443191, -0.01444721,\n",
              "              -0.01446772, -0.01447398, -0.01447457, -0.01447869, -0.0144749 ,\n",
              "              -0.01446868, -0.01448034, -0.01447446, -0.01448206, -0.01449809,\n",
              "              -0.01449791, -0.01448894, -0.01448879, -0.01450006, -0.01447545,\n",
              "              -0.01447343, -0.01446925, -0.01446561, -0.01446631, -0.01445618,\n",
              "              -0.01445747, -0.01445441, -0.01444181, -0.01444827, -0.01442936,\n",
              "              -0.01443172, -0.01441462, -0.01441956, -0.01441111, -0.01440311,\n",
              "              -0.01441284, -0.01440187, -0.0143712 , -0.01438682, -0.01438363,\n",
              "              -0.01437974, -0.01435535, -0.01434527, -0.01434597, -0.01431702,\n",
              "              -0.01431142, -0.01430062, -0.01430651, -0.0142958 , -0.01428535,\n",
              "              -0.01428753, -0.01428081, -0.01428765, -0.0142795 , -0.01428591,\n",
              "              -0.01427635, -0.0142738 , -0.01426147, -0.01426845, -0.01424714,\n",
              "              -0.01426059, -0.01423802, -0.01422123, -0.01423358, -0.01422157,\n",
              "              -0.01421132, -0.01419912, -0.01418225, -0.0141934 , -0.01417767,\n",
              "              -0.01416249, -0.01412497, -0.01409263, -0.01404713, -0.01399305,\n",
              "              -0.01392955, -0.01387221, -0.01371842, -0.01370495, -0.01358265,\n",
              "              -0.01353646, -0.01339371, -0.01314292, -0.01301494, -0.01287586,\n",
              "              -0.01273156, -0.0123989 , -0.01226844, -0.01219589, -0.01212231,\n",
              "              -0.01203541, -0.01176282, -0.01144476, -0.0112941 , -0.01081368,\n",
              "              -0.01045049, -0.01040056, -0.01042025, -0.01038392, -0.01040903,\n",
              "              -0.01037138, -0.01039524, -0.01039912, -0.01039643, -0.01039078,\n",
              "              -0.01036164, -0.01037183, -0.0104    , -0.01040413, -0.0103953 ,\n",
              "              -0.01039501, -0.01040295, -0.01039824, -0.01042782, -0.01040206,\n",
              "              -0.01040591, -0.01043859, -0.01041364, -0.01044674, -0.01048491,\n",
              "              -0.01047508, -0.01047875, -0.01048244, -0.01047691, -0.01050149,\n",
              "              -0.01051389, -0.01050396, -0.01053675, -0.01048565, -0.01050875,\n",
              "              -0.01052367, -0.01050999, -0.01050379, -0.0105103 , -0.01051186,\n",
              "              -0.01051999, -0.01051779, -0.01051825, -0.01051512, -0.01051044,\n",
              "              -0.01049291, -0.01049603, -0.01048454, -0.01048546, -0.0104527 ,\n",
              "              -0.01050331, -0.01046252, -0.01046616, -0.0104692 , -0.01051206,\n",
              "              -0.01050953, -0.01051206, -0.01050211, -0.01050463, -0.01050652,\n",
              "              -0.01050211, -0.01049179, -0.01047564, -0.01046169, -0.01050728,\n",
              "              -0.01047301, -0.01043451, -0.01042093, -0.01039009, -0.01034633,\n",
              "              -0.01031935, -0.0102789 , -0.01026951, -0.01024875, -0.01022996,\n",
              "              -0.01014751, -0.01012172, -0.01004357, -0.01001514, -0.00996976,\n",
              "              -0.00989401, -0.00984985, -0.0098083 , -0.00979807, -0.00978454,\n",
              "              -0.00980597, -0.00980137, -0.00978305, -0.00980434, -0.00986645,\n",
              "              -0.00988525, -0.00996964, -0.01002669, -0.01012996, -0.01019382,\n",
              "              -0.01025259, -0.01038565, -0.01049284, -0.01075552, -0.0109407 ,\n",
              "              -0.01114428, -0.01135978, -0.01155678, -0.01172994, -0.01178203,\n",
              "              -0.01185198, -0.01195952, -0.01200876, -0.01133036, -0.01082063,\n",
              "              -0.01057941, -0.01025702, -0.00967693, -0.00851596, -0.00851596,\n",
              "              -0.00851596, -0.00851596, -0.00851596, -0.00851596, -0.00851596,\n",
              "              -0.00851596, -0.00851596, -0.00851596, -0.00851596, -0.00851596,\n",
              "              -0.00851596, -0.00851596, -0.00851596, -0.00851596, -0.00851596,\n",
              "              -0.00851596, -0.00851596, -0.00851596, -0.00851596, -0.00851596,\n",
              "              -0.00851596, -0.00851596, -0.00851596, -0.00851596, -0.00851596,\n",
              "              -0.00851596, -0.00851596, -0.00851596, -0.00851596, -0.00851596,\n",
              "              -0.00851596, -0.00851596, -0.00851596, -0.00851596, -0.00851596,\n",
              "              -0.00851596, -0.00851596, -0.00851596, -0.00851596, -0.00851596,\n",
              "              -0.00851596, -0.00851596, -0.00851596, -0.00851596, -0.00851596,\n",
              "              -0.00851596, -0.00851596, -0.00851596, -0.00851596, -0.00851596,\n",
              "              -0.00851596, -0.00851596, -0.00851596, -0.00851596, -0.00851596,\n",
              "              -0.00851596, -0.00851596, -0.00851596, -0.00851596, -0.00851596,\n",
              "              -0.00851596, -0.00851596, -0.00851596, -0.00851596, -0.00851596,\n",
              "              -0.00851596, -0.00851596, -0.00851596, -0.00851596, -0.00851596,\n",
              "              -0.00851596, -0.00851596, -0.00851596, -0.00851596, -0.00851596,\n",
              "              -0.00851596, -0.00851596, -0.00851596, -0.00851596, -0.00851596,\n",
              "              -0.00851596, -0.00851596, -0.00851596, -0.00851596, -0.00851596,\n",
              "              -0.00851596, -0.00851596, -0.00851596, -0.00851596, -0.00851596,\n",
              "              -0.00851596, -0.00851596, -0.00851596, -0.00851596, -0.00851596,\n",
              "              -0.00851596, -0.00851596, -0.00851596, -0.00851596, -0.00851596,\n",
              "              -0.00851596, -0.00851596, -0.00851596, -0.00851596, -0.00851596,\n",
              "              -0.00851596, -0.00851596, -0.00851596, -0.00851596, -0.00851596,\n",
              "              -0.00851596, -0.00851596, -0.00851596, -0.00851596, -0.00851596,\n",
              "              -0.00851596, -0.00851596, -0.00851596, -0.00851596, -0.00851596,\n",
              "              -0.00851596, -0.00851596, -0.00851596, -0.00851596, -0.00851596,\n",
              "              -0.00851596, -0.00851596, -0.00851596, -0.00851596, -0.00851596,\n",
              "              -0.00851596, -0.00851596, -0.00851596, -0.00851596, -0.00851596,\n",
              "              -0.00851596, -0.00851596, -0.00851596, -0.00851596, -0.00851596,\n",
              "              -0.00851596, -0.00851596, -0.00851596, -0.00851596, -0.00851596,\n",
              "              -0.00851596, -0.00851596, -0.00851596, -0.00851596, -0.00851596,\n",
              "              -0.00851596, -0.00851596, -0.00851596, -0.00851596, -0.00851596,\n",
              "              -0.00851596, -0.00851596, -0.00851596, -0.00851596, -0.00851596,\n",
              "              -0.00851596, -0.00851596, -0.00851596, -0.00851596, -0.00851596,\n",
              "              -0.00851596, -0.00851596, -0.00851596, -0.00851596, -0.00851596,\n",
              "              -0.00851596, -0.00851596, -0.00851596, -0.00851596, -0.00851596,\n",
              "              -0.00851596, -0.00851596, -0.00851596, -0.00851596, -0.00851596,\n",
              "              -0.00851596, -0.00851596, -0.00851596, -0.00851596, -0.00851596,\n",
              "              -0.00851596, -0.00851596, -0.00851596, -0.00851596, -0.00851596,\n",
              "              -0.00851596, -0.00851596, -0.00851596, -0.00851596, -0.00851596,\n",
              "              -0.00851596, -0.00851596, -0.00851596, -0.00851596, -0.00851596,\n",
              "              -0.00851596, -0.00851596])                                      ,\n",
              "       0.37, 816.64, 0.36], dtype=object)"
            ]
          },
          "metadata": {},
          "execution_count": 79
        }
      ]
    },
    {
      "cell_type": "code",
      "source": [
        "tf.constant((itemized_train_data))"
      ],
      "metadata": {
        "id": "AxXwfWdQYB45"
      },
      "execution_count": null,
      "outputs": []
    },
    {
      "cell_type": "markdown",
      "metadata": {
        "id": "t8-y8Sg9zCEK"
      },
      "source": [
        "### Applying the process on the test data as well"
      ]
    },
    {
      "cell_type": "code",
      "execution_count": null,
      "metadata": {
        "id": "ROEiRZCczGCY"
      },
      "outputs": [],
      "source": [
        "scaled_test_data = scaler.transform(np.stack(X_test['padded_stances'].values))\n",
        "scaled_test_data=scaled_test_data.tolist()\n",
        "X_test.insert(0, \"scaled_stances\", scaled_test_data, True)\n"
      ]
    },
    {
      "cell_type": "markdown",
      "source": [
        "##### First format"
      ],
      "metadata": {
        "id": "-vE3OMWoScJW"
      }
    },
    {
      "cell_type": "code",
      "execution_count": null,
      "metadata": {
        "id": "OGCKXsNZ0tBx"
      },
      "outputs": [],
      "source": [
        "test_data = np.append( np.asarray(X_test['scaled_stances'].tolist()) , np.asarray(X_test[[\"r_swings_time\" ]]),  axis=1)\n",
        "test_data = np.append( test_data , np.asarray(X_test[[\"max_peak\" ]]),  axis=1)\n",
        "test_data = np.append( test_data , np.asarray(X_test[[\"FWHM\" ]]),  axis=1)"
      ]
    },
    {
      "cell_type": "code",
      "source": [
        "len(X_test['scaled_stances'][0])"
      ],
      "metadata": {
        "colab": {
          "base_uri": "https://localhost:8080/"
        },
        "id": "4kh4o-rEXsYF",
        "outputId": "7c52e7b8-7e35-4465-f1ef-3856d7126504"
      },
      "execution_count": null,
      "outputs": [
        {
          "output_type": "execute_result",
          "data": {
            "text/plain": [
              "747"
            ]
          },
          "metadata": {},
          "execution_count": 34
        }
      ]
    },
    {
      "cell_type": "markdown",
      "source": [
        "##### Second format"
      ],
      "metadata": {
        "id": "7IF5TGIDSeir"
      }
    },
    {
      "cell_type": "code",
      "source": [
        "X_test['scaled_stances'] = X_test['scaled_stances'].apply(np.array)"
      ],
      "metadata": {
        "id": "mKMpUwPQSlYN"
      },
      "execution_count": null,
      "outputs": []
    },
    {
      "cell_type": "code",
      "source": [
        "x_test = X_test[['scaled_stances', 'r_swings_time','max_peak','FWHM']]"
      ],
      "metadata": {
        "id": "FLlBZd9wStrN"
      },
      "execution_count": null,
      "outputs": []
    },
    {
      "cell_type": "code",
      "source": [
        "itemized_test_data = x_test.to_numpy()"
      ],
      "metadata": {
        "id": "DFm8ZMqUSvYd"
      },
      "execution_count": null,
      "outputs": []
    },
    {
      "cell_type": "code",
      "source": [
        "(itemized_test_data).shape"
      ],
      "metadata": {
        "colab": {
          "base_uri": "https://localhost:8080/"
        },
        "id": "D36H4WwxSwCG",
        "outputId": "10032c7c-8586-4293-b545-a9590a688741"
      },
      "execution_count": null,
      "outputs": [
        {
          "output_type": "execute_result",
          "data": {
            "text/plain": [
              "(4597, 4)"
            ]
          },
          "metadata": {},
          "execution_count": 70
        }
      ]
    },
    {
      "cell_type": "markdown",
      "metadata": {
        "id": "iH7p432Juk6I"
      },
      "source": [
        "### SVC Model\n"
      ]
    },
    {
      "cell_type": "markdown",
      "source": [
        "Applying the SVC model on the first format of the data"
      ],
      "metadata": {
        "id": "TriseUw9XZRO"
      }
    },
    {
      "cell_type": "code",
      "execution_count": null,
      "metadata": {
        "colab": {
          "base_uri": "https://localhost:8080/"
        },
        "id": "D3SMYLucuoJy",
        "outputId": "bbc7d541-7a7a-4f7d-e755-f9bb8826ae94"
      },
      "outputs": [
        {
          "output_type": "stream",
          "name": "stderr",
          "text": [
            "/usr/local/lib/python3.9/dist-packages/sklearn/utils/validation.py:1143: DataConversionWarning: A column-vector y was passed when a 1d array was expected. Please change the shape of y to (n_samples, ), for example using ravel().\n",
            "  y = column_or_1d(y, warn=True)\n"
          ]
        }
      ],
      "source": [
        "svc = SVC(kernel='poly').fit(data, y_train)"
      ]
    },
    {
      "cell_type": "code",
      "execution_count": null,
      "metadata": {
        "colab": {
          "base_uri": "https://localhost:8080/"
        },
        "id": "jTyvdcjjxfHu",
        "outputId": "1e98e20b-7fef-47e4-f959-a51be4ef9de1"
      },
      "outputs": [
        {
          "output_type": "execute_result",
          "data": {
            "text/plain": [
              "0.6756580378507723"
            ]
          },
          "metadata": {},
          "execution_count": 33
        }
      ],
      "source": [
        "svc.score(test_data, (y_test))"
      ]
    },
    {
      "cell_type": "markdown",
      "source": [
        "#### LSTM"
      ],
      "metadata": {
        "id": "-fVPbbjL4ZC4"
      }
    },
    {
      "cell_type": "markdown",
      "source": [
        "Still in progress"
      ],
      "metadata": {
        "id": "fQWhjzRB6Opg"
      }
    },
    {
      "cell_type": "code",
      "source": [
        "from keras.models import Sequential\n",
        "from keras.layers import LSTM, Dense\n",
        "\n",
        "# define the model architecture\n",
        "model = Sequential()\n",
        "model.add(LSTM(64, input_shape=(750, 1))) # 64 is the number of LSTM units\n",
        "model.add(Dense(32, activation='relu'))\n",
        "model.add(Dense(1, activation='sigmoid'))\n",
        "\n",
        "# compile the model\n",
        "model.compile(loss='binary_crossentropy', optimizer='adam', metrics=['accuracy'])\n",
        "\n",
        "# train the model\n",
        "model.fit(X_train, y_train, epochs=10, batch_size=32)\n",
        "\n",
        "# evaluate the model on the test set\n",
        "loss, accuracy = model.evaluate(X_test, y_test)\n",
        "print(\"Test accuracy: \", accuracy)\n"
      ],
      "metadata": {
        "id": "MVqGORqe4bwr"
      },
      "execution_count": null,
      "outputs": []
    }
  ],
  "metadata": {
    "colab": {
      "collapsed_sections": [
        "gmQ47Qcp6D5S"
      ],
      "provenance": []
    },
    "kernelspec": {
      "display_name": "Python 3",
      "name": "python3"
    },
    "language_info": {
      "name": "python"
    },
    "widgets": {
      "application/vnd.jupyter.widget-state+json": {
        "009a2cc28ae84588a4287bf39386769d": {
          "model_module": "@jupyter-widgets/controls",
          "model_module_version": "1.5.0",
          "model_name": "DescriptionStyleModel",
          "state": {
            "_model_module": "@jupyter-widgets/controls",
            "_model_module_version": "1.5.0",
            "_model_name": "DescriptionStyleModel",
            "_view_count": null,
            "_view_module": "@jupyter-widgets/base",
            "_view_module_version": "1.2.0",
            "_view_name": "StyleView",
            "description_width": ""
          }
        },
        "0cc9fd76f4c34854b31e0409a13d62f3": {
          "model_module": "@jupyter-widgets/base",
          "model_module_version": "1.2.0",
          "model_name": "LayoutModel",
          "state": {
            "_model_module": "@jupyter-widgets/base",
            "_model_module_version": "1.2.0",
            "_model_name": "LayoutModel",
            "_view_count": null,
            "_view_module": "@jupyter-widgets/base",
            "_view_module_version": "1.2.0",
            "_view_name": "LayoutView",
            "align_content": null,
            "align_items": null,
            "align_self": null,
            "border": null,
            "bottom": null,
            "display": null,
            "flex": null,
            "flex_flow": null,
            "grid_area": null,
            "grid_auto_columns": null,
            "grid_auto_flow": null,
            "grid_auto_rows": null,
            "grid_column": null,
            "grid_gap": null,
            "grid_row": null,
            "grid_template_areas": null,
            "grid_template_columns": null,
            "grid_template_rows": null,
            "height": null,
            "justify_content": null,
            "justify_items": null,
            "left": null,
            "margin": null,
            "max_height": null,
            "max_width": null,
            "min_height": null,
            "min_width": null,
            "object_fit": null,
            "object_position": null,
            "order": null,
            "overflow": null,
            "overflow_x": null,
            "overflow_y": null,
            "padding": null,
            "right": null,
            "top": null,
            "visibility": null,
            "width": null
          }
        },
        "29ebc352951d4fa0938beba218a394b8": {
          "model_module": "@jupyter-widgets/controls",
          "model_module_version": "1.5.0",
          "model_name": "HTMLModel",
          "state": {
            "_dom_classes": [],
            "_model_module": "@jupyter-widgets/controls",
            "_model_module_version": "1.5.0",
            "_model_name": "HTMLModel",
            "_view_count": null,
            "_view_module": "@jupyter-widgets/controls",
            "_view_module_version": "1.5.0",
            "_view_name": "HTMLView",
            "description": "",
            "description_tooltip": null,
            "layout": "IPY_MODEL_bff29d2b3d834c9ca2263759ef64a52e",
            "placeholder": "​",
            "style": "IPY_MODEL_009a2cc28ae84588a4287bf39386769d",
            "value": "100%"
          }
        },
        "2fabca6f213f46d5ac3f834242ebefa1": {
          "model_module": "@jupyter-widgets/base",
          "model_module_version": "1.2.0",
          "model_name": "LayoutModel",
          "state": {
            "_model_module": "@jupyter-widgets/base",
            "_model_module_version": "1.2.0",
            "_model_name": "LayoutModel",
            "_view_count": null,
            "_view_module": "@jupyter-widgets/base",
            "_view_module_version": "1.2.0",
            "_view_name": "LayoutView",
            "align_content": null,
            "align_items": null,
            "align_self": null,
            "border": null,
            "bottom": null,
            "display": null,
            "flex": null,
            "flex_flow": null,
            "grid_area": null,
            "grid_auto_columns": null,
            "grid_auto_flow": null,
            "grid_auto_rows": null,
            "grid_column": null,
            "grid_gap": null,
            "grid_row": null,
            "grid_template_areas": null,
            "grid_template_columns": null,
            "grid_template_rows": null,
            "height": null,
            "justify_content": null,
            "justify_items": null,
            "left": null,
            "margin": null,
            "max_height": null,
            "max_width": null,
            "min_height": null,
            "min_width": null,
            "object_fit": null,
            "object_position": null,
            "order": null,
            "overflow": null,
            "overflow_x": null,
            "overflow_y": null,
            "padding": null,
            "right": null,
            "top": null,
            "visibility": null,
            "width": null
          }
        },
        "549e36afb1344e5dac211583191e8bdf": {
          "model_module": "@jupyter-widgets/base",
          "model_module_version": "1.2.0",
          "model_name": "LayoutModel",
          "state": {
            "_model_module": "@jupyter-widgets/base",
            "_model_module_version": "1.2.0",
            "_model_name": "LayoutModel",
            "_view_count": null,
            "_view_module": "@jupyter-widgets/base",
            "_view_module_version": "1.2.0",
            "_view_name": "LayoutView",
            "align_content": null,
            "align_items": null,
            "align_self": null,
            "border": null,
            "bottom": null,
            "display": null,
            "flex": null,
            "flex_flow": null,
            "grid_area": null,
            "grid_auto_columns": null,
            "grid_auto_flow": null,
            "grid_auto_rows": null,
            "grid_column": null,
            "grid_gap": null,
            "grid_row": null,
            "grid_template_areas": null,
            "grid_template_columns": null,
            "grid_template_rows": null,
            "height": null,
            "justify_content": null,
            "justify_items": null,
            "left": null,
            "margin": null,
            "max_height": null,
            "max_width": null,
            "min_height": null,
            "min_width": null,
            "object_fit": null,
            "object_position": null,
            "order": null,
            "overflow": null,
            "overflow_x": null,
            "overflow_y": null,
            "padding": null,
            "right": null,
            "top": null,
            "visibility": null,
            "width": null
          }
        },
        "76d430b27faf43bdadf157f552f13ae2": {
          "model_module": "@jupyter-widgets/controls",
          "model_module_version": "1.5.0",
          "model_name": "HBoxModel",
          "state": {
            "_dom_classes": [],
            "_model_module": "@jupyter-widgets/controls",
            "_model_module_version": "1.5.0",
            "_model_name": "HBoxModel",
            "_view_count": null,
            "_view_module": "@jupyter-widgets/controls",
            "_view_module_version": "1.5.0",
            "_view_name": "HBoxView",
            "box_style": "",
            "children": [
              "IPY_MODEL_29ebc352951d4fa0938beba218a394b8",
              "IPY_MODEL_b6828ee43f97471abf45ccc60c277629",
              "IPY_MODEL_ef49c0063f0244d2aeb3a2d9cab4ef4d"
            ],
            "layout": "IPY_MODEL_549e36afb1344e5dac211583191e8bdf"
          }
        },
        "7c27d950cf8e4efebf2699e943a9e7d8": {
          "model_module": "@jupyter-widgets/controls",
          "model_module_version": "1.5.0",
          "model_name": "DescriptionStyleModel",
          "state": {
            "_model_module": "@jupyter-widgets/controls",
            "_model_module_version": "1.5.0",
            "_model_name": "DescriptionStyleModel",
            "_view_count": null,
            "_view_module": "@jupyter-widgets/base",
            "_view_module_version": "1.2.0",
            "_view_name": "StyleView",
            "description_width": ""
          }
        },
        "884b0b1abc344bf2bdb4e38e6fc2fdbd": {
          "model_module": "@jupyter-widgets/controls",
          "model_module_version": "1.5.0",
          "model_name": "ProgressStyleModel",
          "state": {
            "_model_module": "@jupyter-widgets/controls",
            "_model_module_version": "1.5.0",
            "_model_name": "ProgressStyleModel",
            "_view_count": null,
            "_view_module": "@jupyter-widgets/base",
            "_view_module_version": "1.2.0",
            "_view_name": "StyleView",
            "bar_color": null,
            "description_width": ""
          }
        },
        "b6828ee43f97471abf45ccc60c277629": {
          "model_module": "@jupyter-widgets/controls",
          "model_module_version": "1.5.0",
          "model_name": "FloatProgressModel",
          "state": {
            "_dom_classes": [],
            "_model_module": "@jupyter-widgets/controls",
            "_model_module_version": "1.5.0",
            "_model_name": "FloatProgressModel",
            "_view_count": null,
            "_view_module": "@jupyter-widgets/controls",
            "_view_module_version": "1.5.0",
            "_view_name": "ProgressView",
            "bar_style": "success",
            "description": "",
            "description_tooltip": null,
            "layout": "IPY_MODEL_2fabca6f213f46d5ac3f834242ebefa1",
            "max": 304,
            "min": 0,
            "orientation": "horizontal",
            "style": "IPY_MODEL_884b0b1abc344bf2bdb4e38e6fc2fdbd",
            "value": 304
          }
        },
        "bff29d2b3d834c9ca2263759ef64a52e": {
          "model_module": "@jupyter-widgets/base",
          "model_module_version": "1.2.0",
          "model_name": "LayoutModel",
          "state": {
            "_model_module": "@jupyter-widgets/base",
            "_model_module_version": "1.2.0",
            "_model_name": "LayoutModel",
            "_view_count": null,
            "_view_module": "@jupyter-widgets/base",
            "_view_module_version": "1.2.0",
            "_view_name": "LayoutView",
            "align_content": null,
            "align_items": null,
            "align_self": null,
            "border": null,
            "bottom": null,
            "display": null,
            "flex": null,
            "flex_flow": null,
            "grid_area": null,
            "grid_auto_columns": null,
            "grid_auto_flow": null,
            "grid_auto_rows": null,
            "grid_column": null,
            "grid_gap": null,
            "grid_row": null,
            "grid_template_areas": null,
            "grid_template_columns": null,
            "grid_template_rows": null,
            "height": null,
            "justify_content": null,
            "justify_items": null,
            "left": null,
            "margin": null,
            "max_height": null,
            "max_width": null,
            "min_height": null,
            "min_width": null,
            "object_fit": null,
            "object_position": null,
            "order": null,
            "overflow": null,
            "overflow_x": null,
            "overflow_y": null,
            "padding": null,
            "right": null,
            "top": null,
            "visibility": null,
            "width": null
          }
        },
        "ef49c0063f0244d2aeb3a2d9cab4ef4d": {
          "model_module": "@jupyter-widgets/controls",
          "model_module_version": "1.5.0",
          "model_name": "HTMLModel",
          "state": {
            "_dom_classes": [],
            "_model_module": "@jupyter-widgets/controls",
            "_model_module_version": "1.5.0",
            "_model_name": "HTMLModel",
            "_view_count": null,
            "_view_module": "@jupyter-widgets/controls",
            "_view_module_version": "1.5.0",
            "_view_name": "HTMLView",
            "description": "",
            "description_tooltip": null,
            "layout": "IPY_MODEL_0cc9fd76f4c34854b31e0409a13d62f3",
            "placeholder": "​",
            "style": "IPY_MODEL_7c27d950cf8e4efebf2699e943a9e7d8",
            "value": " 304/304 [00:52&lt;00:00,  8.92it/s]"
          }
        }
      }
    }
  },
  "nbformat": 4,
  "nbformat_minor": 0
}